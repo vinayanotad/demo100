{
 "cells": [
  {
   "cell_type": "code",
   "execution_count": 30,
   "metadata": {},
   "outputs": [
    {
     "name": "stdout",
     "output_type": "stream",
     "text": [
      "Hello World\n",
      "Hi,Python!\n"
     ]
    }
   ],
   "source": [
    "print('Hello World')\n",
    "print('Hi,Python!')"
   ]
  },
  {
   "cell_type": "code",
   "execution_count": 31,
   "metadata": {},
   "outputs": [
    {
     "name": "stdout",
     "output_type": "stream",
     "text": [
      "3.11.2 (tags/v3.11.2:878ead1, Feb  7 2023, 16:38:35) [MSC v.1934 64 bit (AMD64)]\n",
      "3.11\n",
      "<built-in function gettrace>\n",
      "['C:\\\\Users\\\\HP\\\\AppData\\\\Roaming\\\\Python\\\\Python311\\\\site-packages\\\\ipykernel_launcher.py', '--ip=127.0.0.1', '--stdin=9003', '--control=9001', '--hb=9000', '--Session.signature_scheme=\"hmac-sha256\"', '--Session.key=b\"bf9d4eeb-0fdd-47fb-96f8-8a44aac4f1fe\"', '--shell=9002', '--transport=\"tcp\"', '--iopub=9004', '--f=c:\\\\Users\\\\HP\\\\AppData\\\\Roaming\\\\jupyter\\\\runtime\\\\kernel-v2-1688452op0SHSnowr.json']\n"
     ]
    }
   ],
   "source": [
    "#Python version check\n",
    "import sys\n",
    "print(sys.version)\n",
    "print(sys.winver)\n",
    "print(sys.gettrace)\n",
    "print(sys.argv)"
   ]
  },
  {
   "cell_type": "code",
   "execution_count": 32,
   "metadata": {},
   "outputs": [
    {
     "name": "stdout",
     "output_type": "stream",
     "text": [
      "Help on built-in module sys:\n",
      "\n",
      "NAME\n",
      "    sys\n",
      "\n",
      "MODULE REFERENCE\n",
      "    https://docs.python.org/3.11/library/sys.html\n",
      "    \n",
      "    The following documentation is automatically generated from the Python\n",
      "    source files.  It may be incomplete, incorrect or include features that\n",
      "    are considered implementation detail and may vary between Python\n",
      "    implementations.  When in doubt, consult the module reference at the\n",
      "    location listed above.\n",
      "\n",
      "DESCRIPTION\n",
      "    This module provides access to some objects used or maintained by the\n",
      "    interpreter and to functions that interact strongly with the interpreter.\n",
      "    \n",
      "    Dynamic objects:\n",
      "    \n",
      "    argv -- command line arguments; argv[0] is the script pathname if known\n",
      "    path -- module search path; path[0] is the script directory, else ''\n",
      "    modules -- dictionary of loaded modules\n",
      "    \n",
      "    displayhook -- called to show results in an interactive session\n",
      "    excepthook -- called to handle any uncaught exception other than SystemExit\n",
      "      To customize printing in an interactive session or to install a custom\n",
      "      top-level exception handler, assign other functions to replace these.\n",
      "    \n",
      "    stdin -- standard input file object; used by input()\n",
      "    stdout -- standard output file object; used by print()\n",
      "    stderr -- standard error object; used for error messages\n",
      "      By assigning other file objects (or objects that behave like files)\n",
      "      to these, it is possible to redirect all of the interpreter's I/O.\n",
      "    \n",
      "    last_type -- type of last uncaught exception\n",
      "    last_value -- value of last uncaught exception\n",
      "    last_traceback -- traceback of last uncaught exception\n",
      "      These three are only available in an interactive session after a\n",
      "      traceback has been printed.\n",
      "    \n",
      "    Static objects:\n",
      "    \n",
      "    builtin_module_names -- tuple of module names built into this interpreter\n",
      "    copyright -- copyright notice pertaining to this interpreter\n",
      "    exec_prefix -- prefix used to find the machine-specific Python library\n",
      "    executable -- absolute path of the executable binary of the Python interpreter\n",
      "    float_info -- a named tuple with information about the float implementation.\n",
      "    float_repr_style -- string indicating the style of repr() output for floats\n",
      "    hash_info -- a named tuple with information about the hash algorithm.\n",
      "    hexversion -- version information encoded as a single integer\n",
      "    implementation -- Python implementation information.\n",
      "    int_info -- a named tuple with information about the int implementation.\n",
      "    maxsize -- the largest supported length of containers.\n",
      "    maxunicode -- the value of the largest Unicode code point\n",
      "    platform -- platform identifier\n",
      "    prefix -- prefix used to find the Python library\n",
      "    thread_info -- a named tuple with information about the thread implementation.\n",
      "    version -- the version of this interpreter as a string\n",
      "    version_info -- version information as a named tuple\n",
      "    dllhandle -- [Windows only] integer handle of the Python DLL\n",
      "    winver -- [Windows only] version number of the Python DLL\n",
      "    _enablelegacywindowsfsencoding -- [Windows only]\n",
      "    __stdin__ -- the original stdin; don't touch!\n",
      "    __stdout__ -- the original stdout; don't touch!\n",
      "    __stderr__ -- the original stderr; don't touch!\n",
      "    __displayhook__ -- the original displayhook; don't touch!\n",
      "    __excepthook__ -- the original excepthook; don't touch!\n",
      "    \n",
      "    Functions:\n",
      "    \n",
      "    displayhook() -- print an object to the screen, and save it in builtins._\n",
      "    excepthook() -- print an exception and its traceback to sys.stderr\n",
      "    exception() -- return the current thread's active exception\n",
      "    exc_info() -- return information about the current thread's active exception\n",
      "    exit() -- exit the interpreter by raising SystemExit\n",
      "    getdlopenflags() -- returns flags to be used for dlopen() calls\n",
      "    getprofile() -- get the global profiling function\n",
      "    getrefcount() -- return the reference count for an object (plus one :-)\n",
      "    getrecursionlimit() -- return the max recursion depth for the interpreter\n",
      "    getsizeof() -- return the size of an object in bytes\n",
      "    gettrace() -- get the global debug tracing function\n",
      "    setdlopenflags() -- set the flags to be used for dlopen() calls\n",
      "    setprofile() -- set the global profiling function\n",
      "    setrecursionlimit() -- set the max recursion depth for the interpreter\n",
      "    settrace() -- set the global debug tracing function\n",
      "\n",
      "FUNCTIONS\n",
      "    __breakpointhook__ = breakpointhook(...)\n",
      "        breakpointhook(*args, **kws)\n",
      "        \n",
      "        This hook function is called by built-in breakpoint().\n",
      "    \n",
      "    __displayhook__ = displayhook(object, /)\n",
      "        Print an object to sys.stdout and also save it in builtins._\n",
      "    \n",
      "    __excepthook__ = excepthook(exctype, value, traceback, /)\n",
      "        Handle an exception by displaying it with a traceback on sys.stderr.\n",
      "    \n",
      "    __unraisablehook__ = unraisablehook(unraisable, /)\n",
      "        Handle an unraisable exception.\n",
      "        \n",
      "        The unraisable argument has the following attributes:\n",
      "        \n",
      "        * exc_type: Exception type.\n",
      "        * exc_value: Exception value, can be None.\n",
      "        * exc_traceback: Exception traceback, can be None.\n",
      "        * err_msg: Error message, can be None.\n",
      "        * object: Object causing the exception, can be None.\n",
      "    \n",
      "    addaudithook(hook)\n",
      "        Adds a new audit hook callback.\n",
      "    \n",
      "    audit(...)\n",
      "        audit(event, *args)\n",
      "        \n",
      "        Passes the event to any audit hooks that are attached.\n",
      "    \n",
      "    call_tracing(func, args, /)\n",
      "        Call func(*args), while tracing is enabled.\n",
      "        \n",
      "        The tracing state is saved, and restored afterwards.  This is intended\n",
      "        to be called from a debugger from a checkpoint, to recursively debug\n",
      "        some other code.\n",
      "    \n",
      "    exc_info()\n",
      "        Return current exception information: (type, value, traceback).\n",
      "        \n",
      "        Return information about the most recent exception caught by an except\n",
      "        clause in the current stack frame or in an older stack frame.\n",
      "    \n",
      "    exception()\n",
      "        Return the current exception.\n",
      "        \n",
      "        Return the most recent exception caught by an except clause\n",
      "        in the current stack frame or in an older stack frame, or None\n",
      "        if no such exception exists.\n",
      "    \n",
      "    exit(status=None, /)\n",
      "        Exit the interpreter by raising SystemExit(status).\n",
      "        \n",
      "        If the status is omitted or None, it defaults to zero (i.e., success).\n",
      "        If the status is an integer, it will be used as the system exit status.\n",
      "        If it is another kind of object, it will be printed and the system\n",
      "        exit status will be one (i.e., failure).\n",
      "    \n",
      "    get_asyncgen_hooks()\n",
      "        Return the installed asynchronous generators hooks.\n",
      "        \n",
      "        This returns a namedtuple of the form (firstiter, finalizer).\n",
      "    \n",
      "    get_coroutine_origin_tracking_depth()\n",
      "        Check status of origin tracking for coroutine objects in this thread.\n",
      "    \n",
      "    get_int_max_str_digits()\n",
      "        Return the maximum string digits limit for non-binary int<->str conversions.\n",
      "    \n",
      "    getallocatedblocks()\n",
      "        Return the number of memory blocks currently allocated.\n",
      "    \n",
      "    getdefaultencoding()\n",
      "        Return the current default encoding used by the Unicode implementation.\n",
      "    \n",
      "    getfilesystemencodeerrors()\n",
      "        Return the error mode used Unicode to OS filename conversion.\n",
      "    \n",
      "    getfilesystemencoding()\n",
      "        Return the encoding used to convert Unicode filenames to OS filenames.\n",
      "    \n",
      "    getprofile()\n",
      "        Return the profiling function set with sys.setprofile.\n",
      "        \n",
      "        See the profiler chapter in the library manual.\n",
      "    \n",
      "    getrecursionlimit()\n",
      "        Return the current value of the recursion limit.\n",
      "        \n",
      "        The recursion limit is the maximum depth of the Python interpreter\n",
      "        stack.  This limit prevents infinite recursion from causing an overflow\n",
      "        of the C stack and crashing Python.\n",
      "    \n",
      "    getrefcount(object, /)\n",
      "        Return the reference count of object.\n",
      "        \n",
      "        The count returned is generally one higher than you might expect,\n",
      "        because it includes the (temporary) reference as an argument to\n",
      "        getrefcount().\n",
      "    \n",
      "    getsizeof(...)\n",
      "        getsizeof(object [, default]) -> int\n",
      "        \n",
      "        Return the size of object in bytes.\n",
      "    \n",
      "    getswitchinterval()\n",
      "        Return the current thread switch interval; see sys.setswitchinterval().\n",
      "    \n",
      "    gettrace()\n",
      "        Return the global debug tracing function set with sys.settrace.\n",
      "        \n",
      "        See the debugger chapter in the library manual.\n",
      "    \n",
      "    getwindowsversion()\n",
      "        Return info about the running version of Windows as a named tuple.\n",
      "        \n",
      "        The members are named: major, minor, build, platform, service_pack,\n",
      "        service_pack_major, service_pack_minor, suite_mask, product_type and\n",
      "        platform_version. For backward compatibility, only the first 5 items\n",
      "        are available by indexing. All elements are numbers, except\n",
      "        service_pack and platform_type which are strings, and platform_version\n",
      "        which is a 3-tuple. Platform is always 2. Product_type may be 1 for a\n",
      "        workstation, 2 for a domain controller, 3 for a server.\n",
      "        Platform_version is a 3-tuple containing a version number that is\n",
      "        intended for identifying the OS rather than feature detection.\n",
      "    \n",
      "    intern(string, /)\n",
      "        ``Intern'' the given string.\n",
      "        \n",
      "        This enters the string in the (global) table of interned strings whose\n",
      "        purpose is to speed up dictionary lookups. Return the string itself or\n",
      "        the previously interned string object with the same value.\n",
      "    \n",
      "    is_finalizing()\n",
      "        Return True if Python is exiting.\n",
      "    \n",
      "    set_asyncgen_hooks(...)\n",
      "        set_asyncgen_hooks(* [, firstiter] [, finalizer])\n",
      "        \n",
      "        Set a finalizer for async generators objects.\n",
      "    \n",
      "    set_coroutine_origin_tracking_depth(depth)\n",
      "        Enable or disable origin tracking for coroutine objects in this thread.\n",
      "        \n",
      "        Coroutine objects will track 'depth' frames of traceback information\n",
      "        about where they came from, available in their cr_origin attribute.\n",
      "        \n",
      "        Set a depth of 0 to disable.\n",
      "    \n",
      "    set_int_max_str_digits(maxdigits)\n",
      "        Set the maximum string digits limit for non-binary int<->str conversions.\n",
      "    \n",
      "    setprofile(...)\n",
      "        setprofile(function)\n",
      "        \n",
      "        Set the profiling function.  It will be called on each function call\n",
      "        and return.  See the profiler chapter in the library manual.\n",
      "    \n",
      "    setrecursionlimit(limit, /)\n",
      "        Set the maximum depth of the Python interpreter stack to n.\n",
      "        \n",
      "        This limit prevents infinite recursion from causing an overflow of the C\n",
      "        stack and crashing Python.  The highest possible limit is platform-\n",
      "        dependent.\n",
      "    \n",
      "    setswitchinterval(interval, /)\n",
      "        Set the ideal thread switching delay inside the Python interpreter.\n",
      "        \n",
      "        The actual frequency of switching threads can be lower if the\n",
      "        interpreter executes long sequences of uninterruptible code\n",
      "        (this is implementation-specific and workload-dependent).\n",
      "        \n",
      "        The parameter must represent the desired switching delay in seconds\n",
      "        A typical value is 0.005 (5 milliseconds).\n",
      "    \n",
      "    unraisablehook(unraisable, /)\n",
      "        Handle an unraisable exception.\n",
      "        \n",
      "        The unraisable argument has the following attributes:\n",
      "        \n",
      "        * exc_type: Exception type.\n",
      "        * exc_value: Exception value, can be None.\n",
      "        * exc_traceback: Exception traceback, can be None.\n",
      "        * err_msg: Error message, can be None.\n",
      "        * object: Object causing the exception, can be None.\n",
      "\n",
      "DATA\n",
      "    __stderr__ = <_io.TextIOWrapper name='<stderr>' mode='w' encoding='utf...\n",
      "    __stdin__ = <_io.TextIOWrapper name='<stdin>' mode='r' encoding='utf-8...\n",
      "    __stdout__ = <_io.TextIOWrapper name='<stdout>' mode='w' encoding='utf...\n",
      "    api_version = 1013\n",
      "    argv = [r'C:\\Users\\HP\\AppData\\Roaming\\Python\\Python311\\site-packages\\i...\n",
      "    base_exec_prefix = r'c:\\Users\\HP\\AppData\\Local\\Programs\\Python\\Python3...\n",
      "    base_prefix = r'c:\\Users\\HP\\AppData\\Local\\Programs\\Python\\Python311'\n",
      "    builtin_module_names = ('_abc', '_ast', '_bisect', '_blake2', '_codecs...\n",
      "    byteorder = 'little'\n",
      "    copyright = 'Copyright (c) 2001-2023 Python Software Foundati...ematis...\n",
      "    displayhook = <ipykernel.displayhook.ZMQShellDisplayHook object>\n",
      "    dllhandle = 140720075309056\n",
      "    dont_write_bytecode = False\n",
      "    exec_prefix = r'c:\\Users\\HP\\AppData\\Local\\Programs\\Python\\Python311'\n",
      "    executable = r'c:\\Users\\HP\\AppData\\Local\\Programs\\Python\\Python311\\pyt...\n",
      "    flags = sys.flags(debug=0, inspect=0, interactive=0, opt...coding=0, s...\n",
      "    float_info = sys.float_info(max=1.7976931348623157e+308, max_...epsilo...\n",
      "    float_repr_style = 'short'\n",
      "    hash_info = sys.hash_info(width=64, modulus=2305843009213693...iphash1...\n",
      "    hexversion = 51053296\n",
      "    implementation = namespace(name='cpython', cache_tag='cpython-311...as...\n",
      "    int_info = sys.int_info(bits_per_digit=30, sizeof_digit=4, ..._str_dig...\n",
      "    last_value = NameError(\"name 'boo' is not defined\")\n",
      "    maxsize = 9223372036854775807\n",
      "    maxunicode = 1114111\n",
      "    meta_path = [<_distutils_hack.DistutilsMetaFinder object>, <class '_fr...\n",
      "    modules = {'IPython': <module 'IPython' from 'C:\\\\Users\\\\HP\\\\AppData\\\\...\n",
      "    orig_argv = [r'c:\\Users\\HP\\AppData\\Local\\Programs\\Python\\Python311\\pyt...\n",
      "    path = [r'c:\\Users\\HP\\OneDrive\\Desktop\\vinayanotad', r'c:\\Users\\HP\\App...\n",
      "    path_hooks = [<class 'zipimport.zipimporter'>, <function FileFinder.pa...\n",
      "    path_importer_cache = {r'C:\\Users\\HP\\AppData\\Roaming\\Python\\Python311\\...\n",
      "    platform = 'win32'\n",
      "    platlibdir = 'DLLs'\n",
      "    prefix = r'c:\\Users\\HP\\AppData\\Local\\Programs\\Python\\Python311'\n",
      "    ps1 = 'In : '\n",
      "    ps2 = '...: '\n",
      "    ps3 = 'Out: '\n",
      "    pycache_prefix = None\n",
      "    stderr = <ipykernel.iostream.OutStream object>\n",
      "    stdin = <_io.TextIOWrapper name='<stdin>' mode='r' encoding='utf-8'>\n",
      "    stdlib_module_names = frozenset({'__future__', '_abc', '_aix_support',...\n",
      "    stdout = <ipykernel.iostream.OutStream object>\n",
      "    thread_info = sys.thread_info(name='nt', lock=None, version=None)\n",
      "    version = '3.11.2 (tags/v3.11.2:878ead1, Feb  7 2023, 16:38:35) [MSC v...\n",
      "    version_info = sys.version_info(major=3, minor=11, micro=2, releaselev...\n",
      "    warnoptions = []\n",
      "    winver = '3.11'\n",
      "\n",
      "FILE\n",
      "    (built-in)\n",
      "\n",
      "\n"
     ]
    }
   ],
   "source": [
    "help(sys)"
   ]
  },
  {
   "cell_type": "code",
   "execution_count": 33,
   "metadata": {},
   "outputs": [
    {
     "name": "stdout",
     "output_type": "stream",
     "text": [
      "Hello world\n",
      "12\n",
      "3.14\n",
      "True\n",
      "False\n"
     ]
    },
    {
     "ename": "NameError",
     "evalue": "name 'boo' is not defined",
     "output_type": "error",
     "traceback": [
      "\u001b[1;31m---------------------------------------------------------------------------\u001b[0m",
      "\u001b[1;31mNameError\u001b[0m                                 Traceback (most recent call last)",
      "Cell \u001b[1;32mIn[33], line 8\u001b[0m\n\u001b[0;32m      6\u001b[0m \u001b[39mprint\u001b[39m(\u001b[39mTrue\u001b[39;00m)            \u001b[39m#boolean\u001b[39;00m\n\u001b[0;32m      7\u001b[0m \u001b[39mprint\u001b[39m(\u001b[39mFalse\u001b[39;00m)\n\u001b[1;32m----> 8\u001b[0m \u001b[39mprint\u001b[39m(boo\u001b[39m|\u001b[39m(\u001b[39m1\u001b[39m))         \u001b[39m#output=True\u001b[39;00m\n\u001b[0;32m      9\u001b[0m \u001b[39mprint\u001b[39m(boo\u001b[39m|\u001b[39m(\u001b[39m0\u001b[39m))         \u001b[39m#output=False\u001b[39;00m\n",
      "\u001b[1;31mNameError\u001b[0m: name 'boo' is not defined"
     ]
    }
   ],
   "source": [
    "#Basics data types\n",
    "\n",
    "print(\"Hello world\")   #string\n",
    "print(12)              #Integer\n",
    "print(3.14)            #Float\n",
    "print(True)            #boolean\n",
    "print(False)\n",
    "print(boo|(1))         #output=True\n",
    "print(boo|(0))         #output=False"
   ]
  },
  {
   "cell_type": "code",
   "execution_count": null,
   "metadata": {},
   "outputs": [
    {
     "name": "stdout",
     "output_type": "stream",
     "text": [
      "<class 'str'>\n",
      "<class 'int'>\n",
      "<class 'int'>\n",
      "<class 'int'>\n",
      "<class 'int'>\n",
      "<class 'float'>\n",
      "<class 'float'>\n",
      "<class 'float'>\n",
      "<class 'float'>\n",
      "<class 'bool'>\n",
      "<class 'bool'>\n"
     ]
    }
   ],
   "source": [
    "# type() function\n",
    "\n",
    "#string\n",
    "print(type('Hello,World'))\n",
    "\n",
    "#Integer\n",
    "print(type(15))\n",
    "print(type(-24))\n",
    "print(type(0))\n",
    "print(type(1))\n",
    "\n",
    "# Float\n",
    "print(type(3.14))\n",
    "print(type(0.5))\n",
    "print(type(1.0))\n",
    "print(type(-5.0))\n",
    "\n",
    "# Boolean\n",
    "print(type(True))\n",
    "print(type(False))\n",
    "\n"
   ]
  },
  {
   "cell_type": "code",
   "execution_count": null,
   "metadata": {},
   "outputs": [
    {
     "name": "stdout",
     "output_type": "stream",
     "text": [
      "sys.int_info(bits_per_digit=30, sizeof_digit=4, default_max_str_digits=4300, str_digits_check_threshold=640)\n",
      "\n",
      "sys.float_info(max=1.7976931348623157e+308, max_exp=1024, max_10_exp=308, min=2.2250738585072014e-308, min_exp=-1021, min_10_exp=-307, dig=15, mant_dig=53, epsilon=2.220446049250313e-16, radix=2, rounds=1)\n"
     ]
    }
   ],
   "source": [
    "# to obtain the information about 'interger' and 'float'\n",
    "print(sys.int_info)\n",
    "print()    # to add a space between two outputs, use 'print()' function\n",
    "print(sys.float_info)"
   ]
  },
  {
   "cell_type": "code",
   "execution_count": null,
   "metadata": {},
   "outputs": [
    {
     "name": "stdout",
     "output_type": "stream",
     "text": [
      "6\n",
      "6.0\n",
      "<class 'int'>\n",
      "<class 'str'>\n",
      "<class 'float'>\n"
     ]
    },
    {
     "data": {
      "text/plain": [
       "'6'"
      ]
     },
     "execution_count": 10,
     "metadata": {},
     "output_type": "execute_result"
    }
   ],
   "source": [
    "# Converting an object type to another object type\n",
    "\n",
    "# Let's convert the integer number 6 to a string and a float\n",
    "\n",
    "number = 6\n",
    "print(str(number))\n",
    "print(float(number))\n",
    "print(type(number))\n",
    "print(type(str(number)))\n",
    "print(type(float(number)))\n",
    "str(number)\n",
    "\n"
   ]
  },
  {
   "cell_type": "code",
   "execution_count": null,
   "metadata": {},
   "outputs": [
    {
     "name": "stdout",
     "output_type": "stream",
     "text": [
      "3.14\n",
      "3\n",
      "<class 'float'>\n",
      "<class 'str'>\n",
      "<class 'int'>\n"
     ]
    },
    {
     "data": {
      "text/plain": [
       "'3.14'"
      ]
     },
     "execution_count": 11,
     "metadata": {},
     "output_type": "execute_result"
    }
   ],
   "source": [
    "# Let's conver the float number 3.14 to a string and an integer  \n",
    "\n",
    "number = 3.14\n",
    "print(str(number))\n",
    "print(int(number))\n",
    "print(type(number))\n",
    "print(type(str(number)))\n",
    "print(type(int(number)))\n",
    "str(number)"
   ]
  },
  {
   "cell_type": "code",
   "execution_count": null,
   "metadata": {},
   "outputs": [
    {
     "name": "stdout",
     "output_type": "stream",
     "text": [
      "1\n",
      "0\n",
      "1.0\n",
      "0.0\n",
      "True\n",
      "False\n",
      "True\n",
      "False\n"
     ]
    }
   ],
   "source": [
    "# Let's convert the booleans to an integer, a float, and a string\n",
    "\n",
    "bool_1 = True\n",
    "bool_2 = False\n",
    "print(int(bool_1))\n",
    "print(int(bool_2))\n",
    "print(float(bool_1))\n",
    "print(float(bool_2))\n",
    "print(str(bool_1))\n",
    "print(str(bool_2))\n",
    "print(bool(1))\n",
    "print(bool(0))"
   ]
  },
  {
   "cell_type": "code",
   "execution_count": null,
   "metadata": {},
   "outputs": [
    {
     "name": "stdout",
     "output_type": "stream",
     "text": [
      "3.0\n",
      "2\n",
      "<class 'float'>\n",
      "<class 'int'>\n"
     ]
    }
   ],
   "source": [
    "# Let's find the data types of 9/3 and 9//4\n",
    "\n",
    "print(9/3)\n",
    "print(9//4)\n",
    "print(type(9/3))\n",
    "print(type(9//4))"
   ]
  },
  {
   "cell_type": "code",
   "execution_count": null,
   "metadata": {},
   "outputs": [
    {
     "name": "stdout",
     "output_type": "stream",
     "text": [
      "431.7\n",
      "<class 'float'>\n",
      "4\n",
      "<class 'int'>\n",
      "592\n",
      "<class 'int'>\n",
      "5.208333333333333\n",
      "<class 'float'>\n",
      "5\n",
      "<class 'int'>\n",
      "5\n",
      "<class 'int'>\n",
      "8\n",
      "<class 'int'>\n"
     ]
    }
   ],
   "source": [
    "# Experesion and variables\n",
    "\n",
    "# Addition\n",
    "x = 56+65+89+45+78.5+98.2\n",
    "print(x)\n",
    "print(type(x))\n",
    "\n",
    "# Substraction\n",
    "x = 85-52-21-8\n",
    "print(x)\n",
    "print(type(x))\n",
    "\n",
    "# Multiplication\n",
    "x = 8*74\n",
    "print(x)\n",
    "print(type(x))\n",
    "\n",
    "# Division\n",
    "x = 125/24\n",
    "print(x)\n",
    "print(type(x))\n",
    "\n",
    "# Floor division\n",
    "x = 125//24\n",
    "print(x)\n",
    "print(type(x))\n",
    "\n",
    "# Modulus\n",
    "x = 125%24\n",
    "print(x)\n",
    "print(type(x))\n",
    "\n",
    "# Exponentiation\n",
    "x = 2**3\n",
    "print(x)\n",
    "print(type(x))\n"
   ]
  },
  {
   "cell_type": "code",
   "execution_count": null,
   "metadata": {},
   "outputs": [
    {
     "name": "stdout",
     "output_type": "stream",
     "text": [
      "1200\n",
      "<class 'int'>\n"
     ]
    }
   ],
   "source": [
    "# An example: Let's calculate how many minutes there are in 20 hours?\n",
    "\n",
    "one_hour = 60 # 60 minutes\n",
    "hour = 20\n",
    "minutes = one_hour *hour\n",
    "print(minutes)\n",
    "print(type(minutes))"
   ]
  },
  {
   "cell_type": "code",
   "execution_count": null,
   "metadata": {},
   "outputs": [
    {
     "name": "stdout",
     "output_type": "stream",
     "text": [
      "5.8\n",
      "<class 'float'>\n"
     ]
    }
   ],
   "source": [
    "# An example: Let's calculate how many hours there are in 348 minutes?\n",
    "\n",
    "minutes = 348\n",
    "one_hour = 60\n",
    "hours = 348/60\n",
    "print(hours)\n",
    "print(type(hours))"
   ]
  },
  {
   "cell_type": "code",
   "execution_count": null,
   "metadata": {},
   "outputs": [
    {
     "name": "stdout",
     "output_type": "stream",
     "text": [
      "312\n",
      "4272\n",
      "4584\n",
      "-3960\n",
      "1332864\n",
      "0.07303370786516854\n",
      "57141039192990974343004858967279456861888368892157822490773230176164840472031632096770508439186422454905993565467013184475643169168701166839884214162349462097646348481562423483838560899009964381306204497713075933398927162249445214977774905738499498138833004597610541425686076712639474542340566501979148756025330432501304377836650057224903144890932272418679985053700339732785583599208727178741668478704507214168227570908046155897600787973890451611396302346678308280658377747122491957742609432231172899966091216797634904376248116922733897391620896786459430656952849460065582037599056454845897397272283990060416695375548630709328546758931403266035152311253137705616066051705312104176960162541151138394042129433537332086238888803197367728864435929727625526931501520079746774357979768678661583206515770644429230055920325511410244718262566835618947741119862950459251523672660991025064748325816161618674907292973430549464741932121408624741334625316916303426450380042988710514423061654464099538913305027877075411871755991025687375410955302831325070950155731124532520936734337409914783987052730172406537794082463181797315368071365358797193216\n",
      "0\n",
      "312\n"
     ]
    }
   ],
   "source": [
    "# Mathematical expression\n",
    "\n",
    "x = 45+3*89\n",
    "y = (45+3)*89\n",
    "print(x)\n",
    "print(y)\n",
    "print(x+y)\n",
    "print(x-y)\n",
    "print(x*y)\n",
    "print(x/y)\n",
    "print(y**x)\n",
    "print(x//y)\n",
    "print(x%y)"
   ]
  },
  {
   "cell_type": "code",
   "execution_count": null,
   "metadata": {},
   "outputs": [
    {
     "name": "stdout",
     "output_type": "stream",
     "text": [
      "90\n",
      "<class 'int'>\n"
     ]
    }
   ],
   "source": [
    "# Store the value 89 into the variabe 'number'\n",
    "\n",
    "number = 90\n",
    "print(number)\n",
    "print(type(number))\n"
   ]
  },
  {
   "cell_type": "code",
   "execution_count": null,
   "metadata": {},
   "outputs": [
    {
     "name": "stdout",
     "output_type": "stream",
     "text": [
      "-49\n",
      "-7.0\n",
      "-3.5\n"
     ]
    }
   ],
   "source": [
    "x = 25\n",
    "y = 87\n",
    "z = 5*x - 2*y\n",
    "print(z)\n",
    "t = z/7\n",
    "print(t)\n",
    "z = z/14\n",
    "print(z)"
   ]
  },
  {
   "cell_type": "code",
   "execution_count": null,
   "metadata": {},
   "outputs": [
    {
     "name": "stdout",
     "output_type": "stream",
     "text": [
      "8 4 2\n",
      "8\n",
      "4\n",
      "2\n",
      "2.0\n",
      "4.0\n",
      "2.0\n",
      "14\n",
      "64\n",
      "2\n",
      "1.0\n",
      "1\n",
      "0\n"
     ]
    }
   ],
   "source": [
    "x, y, z = 8, 4, 2   # the values of x, y, and z can be written in one line. \n",
    "print(x, y, z)\n",
    "print(x)\n",
    "print(y)\n",
    "print(z)\n",
    "print(x/y)\n",
    "print(x/z)\n",
    "print(y/z)\n",
    "print(x+y+z)\n",
    "print(x*y*z)\n",
    "print(x-y-z)\n",
    "print(x/y/z)\n",
    "print(x//y//z)\n",
    "print(x%y%z)"
   ]
  },
  {
   "cell_type": "code",
   "execution_count": null,
   "metadata": {},
   "outputs": [
    {
     "name": "stdout",
     "output_type": "stream",
     "text": [
      "Hello World!\n",
      "Hello World!\n"
     ]
    },
    {
     "data": {
      "text/plain": [
       "'Hello World!'"
      ]
     },
     "execution_count": 1,
     "metadata": {},
     "output_type": "execute_result"
    }
   ],
   "source": [
    "#STRINGS\n",
    "\n",
    "# Employ double quotation marks for describing a string\n",
    "\"Hello World!\"\n",
    "\n",
    "# Employ single quotation marks for describing a string\n",
    "'Hello World!'\n",
    "\n",
    "# Digitals and spaces in a string\n",
    "'3 6 9 2 6 8'\n",
    "\n",
    "# Specific characters in a string\n",
    "'@#5_]*$%^&'\n",
    "\n",
    "# printing a string\n",
    "print('Hello World!')\n",
    "\n",
    "# Assigning a string to a variable 'message'\n",
    "message = 'Hello World!'\n",
    "print(message)\n",
    "message\n"
   ]
  },
  {
   "cell_type": "code",
   "execution_count": null,
   "metadata": {},
   "outputs": [
    {
     "name": "stdout",
     "output_type": "stream",
     "text": [
      "H\n"
     ]
    }
   ],
   "source": [
    "# printing the first element in a string\n",
    "\n",
    "message = 'Hello World!'\n",
    "print(message[0])"
   ]
  },
  {
   "cell_type": "code",
   "execution_count": null,
   "metadata": {},
   "outputs": [
    {
     "name": "stdout",
     "output_type": "stream",
     "text": [
      "r\n"
     ]
    }
   ],
   "source": [
    "# Printing the element on index 8 in a string\n",
    "print(message[8])"
   ]
  },
  {
   "cell_type": "code",
   "execution_count": null,
   "metadata": {},
   "outputs": [
    {
     "data": {
      "text/plain": [
       "12"
      ]
     },
     "execution_count": 4,
     "metadata": {},
     "output_type": "execute_result"
    }
   ],
   "source": [
    "# lenght of a string includign spaces\n",
    "len(message)"
   ]
  },
  {
   "cell_type": "code",
   "execution_count": null,
   "metadata": {},
   "outputs": [
    {
     "name": "stdout",
     "output_type": "stream",
     "text": [
      "!\n"
     ]
    },
    {
     "data": {
      "text/plain": [
       "'\\nAlthough the length of the string is 12, since the indexing in Python starts with 0, \\nthe number of the last element is therefore 11.\\n'"
      ]
     },
     "execution_count": 5,
     "metadata": {},
     "output_type": "execute_result"
    }
   ],
   "source": [
    "# Printing the last element in a string\n",
    "print(message[11])\n",
    "# Another comment writing type is as follows using triple quotes.\n",
    "\"\"\"\n",
    "Although the length of the string is 12, since the indexing in Python starts with 0, \n",
    "the number of the last element is therefore 11.\n",
    "\"\"\""
   ]
  },
  {
   "attachments": {},
   "cell_type": "markdown",
   "metadata": {},
   "source": [
    "NEGATIVE INDEXING OF A STRING"
   ]
  },
  {
   "cell_type": "code",
   "execution_count": null,
   "metadata": {},
   "outputs": [
    {
     "data": {
      "text/plain": [
       "'!'"
      ]
     },
     "execution_count": 6,
     "metadata": {},
     "output_type": "execute_result"
    }
   ],
   "source": [
    "# printing the last element of a string\n",
    "message[-1]"
   ]
  },
  {
   "cell_type": "code",
   "execution_count": null,
   "metadata": {},
   "outputs": [
    {
     "name": "stdout",
     "output_type": "stream",
     "text": [
      "12\n"
     ]
    },
    {
     "data": {
      "text/plain": [
       "12"
      ]
     },
     "execution_count": 8,
     "metadata": {},
     "output_type": "execute_result"
    }
   ],
   "source": [
    "# printing the first element of a string\n",
    "message[-12]\n",
    "\"\"\"\n",
    "Since the negative indexing starts with -1, in this case, the negative index number \n",
    "of the first element is equal to -12.\n",
    "\"\"\"\n",
    "\n",
    "print(len(message))\n",
    "len(message)"
   ]
  },
  {
   "attachments": {},
   "cell_type": "markdown",
   "metadata": {},
   "source": [
    "SLICING OF A STRING"
   ]
  },
  {
   "cell_type": "code",
   "execution_count": null,
   "metadata": {},
   "outputs": [
    {
     "data": {
      "text/plain": [
       "'Hello'"
      ]
     },
     "execution_count": 10,
     "metadata": {},
     "output_type": "execute_result"
    }
   ],
   "source": [
    "# Slicing on the variable 'message' with only index 0 to index 5\n",
    "message = 'Hello World!'\n",
    "message[0:5]"
   ]
  },
  {
   "cell_type": "code",
   "execution_count": null,
   "metadata": {},
   "outputs": [
    {
     "data": {
      "text/plain": [
       "'World!'"
      ]
     },
     "execution_count": 28,
     "metadata": {},
     "output_type": "execute_result"
    }
   ],
   "source": [
    "# Slicing on the variable 'message' with only index 6 to index 12\n",
    "message = 'Hello World!'\n",
    "message[6:12]"
   ]
  },
  {
   "attachments": {},
   "cell_type": "markdown",
   "metadata": {},
   "source": [
    "STRIDING IN A STRING"
   ]
  },
  {
   "cell_type": "code",
   "execution_count": null,
   "metadata": {},
   "outputs": [
    {
     "data": {
      "text/plain": [
       "'HloWrd'"
      ]
     },
     "execution_count": 29,
     "metadata": {},
     "output_type": "execute_result"
    }
   ],
   "source": [
    "# to select every second element in the variable 'message'\n",
    "message[::2]"
   ]
  },
  {
   "cell_type": "code",
   "execution_count": null,
   "metadata": {},
   "outputs": [
    {
     "data": {
      "text/plain": [
       "'Hlo'"
      ]
     },
     "execution_count": 17,
     "metadata": {},
     "output_type": "execute_result"
    }
   ],
   "source": [
    "# corporation of slicing and striding\n",
    "# get every second element in range from index 0 to index 6\n",
    "message[0:6:2]\n"
   ]
  },
  {
   "attachments": {},
   "cell_type": "markdown",
   "metadata": {},
   "source": [
    "CONCATENATE OF STRINGS"
   ]
  },
  {
   "cell_type": "code",
   "execution_count": null,
   "metadata": {},
   "outputs": [
    {
     "data": {
      "text/plain": [
       "'Hello World! How many people are living on the earth?'"
      ]
     },
     "execution_count": 18,
     "metadata": {},
     "output_type": "execute_result"
    }
   ],
   "source": [
    "message = 'Hello World!'\n",
    "question = ' How many people are living on the earth?'\n",
    "statement = message+question\n",
    "statement"
   ]
  },
  {
   "cell_type": "code",
   "execution_count": null,
   "metadata": {},
   "outputs": [
    {
     "data": {
      "text/plain": [
       "' Hello World! Hello World! Hello World! Hello World!'"
      ]
     },
     "execution_count": 19,
     "metadata": {},
     "output_type": "execute_result"
    }
   ],
   "source": [
    "# printing a string for 4 times\n",
    "4*\" Hello World!\""
   ]
  },
  {
   "attachments": {},
   "cell_type": "markdown",
   "metadata": {},
   "source": [
    "ESCAPE SEQUENCES"
   ]
  },
  {
   "cell_type": "code",
   "execution_count": null,
   "metadata": {},
   "outputs": [
    {
     "name": "stdout",
     "output_type": "stream",
     "text": [
      "Hello World! \n",
      "How many people are living on the earth?\n"
     ]
    }
   ],
   "source": [
    "# New line escape sequence\n",
    "\n",
    "print('Hello World! \\nHow many people are living on the earth?')"
   ]
  },
  {
   "cell_type": "code",
   "execution_count": null,
   "metadata": {},
   "outputs": [
    {
     "name": "stdout",
     "output_type": "stream",
     "text": [
      "Hello World! \tHow many people are living on the earth?\n"
     ]
    }
   ],
   "source": [
    "# Tab escape sequence\n",
    "print('Hello World! \\tHow many people are living on the earth?')"
   ]
  },
  {
   "cell_type": "code",
   "execution_count": null,
   "metadata": {},
   "outputs": [
    {
     "name": "stdout",
     "output_type": "stream",
     "text": [
      "Hello World! \\ How many people are living on the earth?\n",
      "Hello World! \\ How many people are living on the earth?\n"
     ]
    }
   ],
   "source": [
    "# back slash in a string\n",
    "\n",
    "print('Hello World! \\\\ How many people are living on the earth?')\n",
    "# r will say python that a string will be show as a raw string\n",
    "\n",
    "print(r'Hello World! \\ How many people are living on the earth?')\n"
   ]
  },
  {
   "attachments": {},
   "cell_type": "markdown",
   "metadata": {},
   "source": [
    "STRING OPERATIONS"
   ]
  },
  {
   "cell_type": "code",
   "execution_count": null,
   "metadata": {},
   "outputs": [
    {
     "name": "stdout",
     "output_type": "stream",
     "text": [
      "Before uppercase:  hello python!\n",
      "After uppercase:  HELLO PYTHON!\n",
      "Again lowercase:  hello python!\n",
      "The first element of the string is uppercase:  Hello Python!\n"
     ]
    }
   ],
   "source": [
    "message = 'hello python!'\n",
    "print('Before uppercase: ', message )\n",
    "\n",
    "# convert uppercase the elements in a string\n",
    "message_upper = message.upper()\n",
    "print('After uppercase: ', message_upper)\n",
    "\n",
    "# convert lowercase the elements in a string\n",
    "message_lower = message.lower()\n",
    "print('Again lowercase: ', message_lower)\n",
    "\n",
    "# convert first letter of string to uppercase\n",
    "message_title = message.title()\n",
    "print('The first element of the string is uppercase: ', message_title)"
   ]
  },
  {
   "cell_type": "code",
   "execution_count": null,
   "metadata": {},
   "outputs": [
    {
     "name": "stdout",
     "output_type": "stream",
     "text": [
      "Hi Python!\n",
      "Hello World!\n"
     ]
    }
   ],
   "source": [
    "# replace() method in a string\n",
    "message = 'Hello Python!'\n",
    "message_hi = message.replace('Hello', 'Hi')\n",
    "message_python = message.replace('Python', 'World')\n",
    "print(message_hi)\n",
    "print(message_python)"
   ]
  },
  {
   "cell_type": "code",
   "execution_count": null,
   "metadata": {},
   "outputs": [
    {
     "name": "stdout",
     "output_type": "stream",
     "text": [
      "6\n"
     ]
    }
   ],
   "source": [
    "# find() method application in a string\n",
    "message = 'Hello World!'\n",
    "print(message.find('Wo'))\n",
    "# the output is the index number of the first element of the substring"
   ]
  },
  {
   "cell_type": "code",
   "execution_count": 1,
   "metadata": {},
   "outputs": [
    {
     "name": "stdout",
     "output_type": "stream",
     "text": [
      "hello\n"
     ]
    }
   ],
   "source": [
    "print(\"hello\")"
   ]
  }
 ],
 "metadata": {
  "kernelspec": {
   "display_name": "Python 3",
   "language": "python",
   "name": "python3"
  },
  "language_info": {
   "codemirror_mode": {
    "name": "ipython",
    "version": 3
   },
   "file_extension": ".py",
   "mimetype": "text/x-python",
   "name": "python",
   "nbconvert_exporter": "python",
   "pygments_lexer": "ipython3",
   "version": "3.11.2"
  },
  "orig_nbformat": 4,
  "vscode": {
   "interpreter": {
    "hash": "81ac66f6b36e337bb296ed23a723e64eb2bb02e155f7b256d2c68172919a46c1"
   }
  }
 },
 "nbformat": 4,
 "nbformat_minor": 2
}
