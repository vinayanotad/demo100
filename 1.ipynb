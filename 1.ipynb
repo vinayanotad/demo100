{
 "cells": [
  {
   "cell_type": "code",
   "execution_count": 2,
   "metadata": {},
   "outputs": [
    {
     "name": "stdout",
     "output_type": "stream",
     "text": [
      "Hello World\n"
     ]
    }
   ],
   "source": [
    "print(\"Hello World \")\n"
   ]
  },
  {
   "cell_type": "code",
   "execution_count": null,
   "metadata": {},
   "outputs": [],
   "source": [
    "mat1=[]\n",
    "for i in range(0,6):\n",
    "    for j in range(0,6):\n",
    "        mat1.append([i,j])\n",
    "mat1\n"
   ]
  },
  {
   "cell_type": "code",
   "execution_count": 3,
   "metadata": {},
   "outputs": [
    {
     "name": "stdout",
     "output_type": "stream",
     "text": [
      "Enter the elements: \n"
     ]
    }
   ],
   "source": [
    "List1 = []\n",
    "\n",
    "n = int(input(\"Enter the n value: \"))\n",
    "\n",
    "print(\"Enter the elements: \")\n",
    "for i in range(n):\n",
    "    List1.append(int(input()))\n",
    "\n",
    "for i in range(0,n-2):\n",
    "    for j in range(1,n):\n",
    "        if(List1[i] > List1[j]):\n",
    "            temp = List1[i]         # temp = 10\n",
    "            List1[i]=List1[j]       # 10=30\n",
    "            List1[j]=temp           # 30=temp\n",
    "            print(List1,end=\" | \")"
   ]
  },
  {
   "cell_type": "code",
   "execution_count": 1,
   "metadata": {},
   "outputs": [
    {
     "name": "stdout",
     "output_type": "stream",
     "text": [
      "Hello 123\n"
     ]
    }
   ],
   "source": [
    "print(\"Hello 123\")"
   ]
  }
 ],
 "metadata": {
  "kernelspec": {
   "display_name": "base",
   "language": "python",
   "name": "python3"
  },
  "language_info": {
   "codemirror_mode": {
    "name": "ipython",
    "version": 3
   },
   "file_extension": ".py",
   "mimetype": "text/x-python",
   "name": "python",
   "nbconvert_exporter": "python",
   "pygments_lexer": "ipython3",
   "version": "3.11.2"
  },
  "orig_nbformat": 4,
  "vscode": {
   "interpreter": {
    "hash": "ad2bdc8ecc057115af97d19610ffacc2b4e99fae6737bb82f5d7fb13d2f2c186"
   }
  }
 },
 "nbformat": 4,
 "nbformat_minor": 2
}
