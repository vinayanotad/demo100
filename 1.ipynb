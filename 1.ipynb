{
 "cells": [
  {
   "cell_type": "code",
   "execution_count": 2,
   "metadata": {},
   "outputs": [
    {
     "name": "stdout",
     "output_type": "stream",
     "text": [
      "Hello World\n"
     ]
    }
   ],
   "source": [
    "print(\" Hello World\")\n"
   ]
  },
  {
   "cell_type": "code",
   "execution_count": null,
   "metadata": {},
   "outputs": [],
   "source": [
    "mat1=[]\n",
    "for i in range(0,6):\n",
    "    for j in range(0,6):\n",
    "        mat1.append([i,j])\n",
    "mat1\n"
   ]
  },
  {
   "cell_type": "code",
   "execution_count": 3,
   "metadata": {},
   "outputs": [
    {
     "name": "stdout",
     "output_type": "stream",
     "text": [
      "Enter the elements: \n"
     ]
    }
   ],
   "source": [
    "List1 = []\n",
    "\n",
    "n = int(input(\"Enter the n value: \"))\n",
    "\n",
    "print(\"Enter the elements: \")\n",
    "for i in range(n):\n",
    "    List1.append(int(input()))\n",
    "\n",
    "for i in range(0,n-2):\n",
    "    for j in range(1,n):\n",
    "        if(List1[i] > List1[j]):\n",
    "            temp = List1[i]         # temp = 10\n",
    "            List1[i]=List1[j]       # 10=30\n",
    "            List1[j]=temp           # 30=temp\n",
    "            print(List1,end=\" | \")"
   ]
  },
  {
   "cell_type": "code",
   "execution_count": 1,
   "metadata": {},
   "outputs": [
    {
     "name": "stdout",
     "output_type": "stream",
     "text": [
      "Hello 123\n"
     ]
    }
   ],
   "source": [
    "print(\"Hello 123\")"
   ]
  },
  {
   "cell_type": "code",
   "execution_count": 24,
   "metadata": {},
   "outputs": [
    {
     "ename": "IndentationError",
     "evalue": "expected an indented block after 'if' statement on line 9 (3705885850.py, line 10)",
     "output_type": "error",
     "traceback": [
      "\u001b[1;36m  Cell \u001b[1;32mIn[24], line 10\u001b[1;36m\u001b[0m\n\u001b[1;33m    print(i)\u001b[0m\n\u001b[1;37m            ^\u001b[0m\n\u001b[1;31mIndentationError\u001b[0m\u001b[1;31m:\u001b[0m expected an indented block after 'if' statement on line 9\n"
     ]
    }
   ],
   "source": [
    "l1=[1,7,4,3,4,8,7]\n",
    "N=len(l1)\n",
    "k=2\n",
    "for i in l1:\n",
    "    count=0\n",
    "    for j in l1:\n",
    "        if i==j:\n",
    "            count=count+1\n",
    "        if count==k:\n"
   ]
  },
  {
   "cell_type": "code",
   "execution_count": 33,
   "metadata": {},
   "outputs": [
    {
     "name": "stdout",
     "output_type": "stream",
     "text": [
      "4\n"
     ]
    }
   ],
   "source": [
    "l1=[1,7,4,3,4,8,7]\n",
    "l2=[]\n",
    "N=len(l1)\n",
    "k=2\n",
    "for i in l1:\n",
    "    count=l1.count(i)\n",
    "    if count>1:\n",
    "        l2.append(i)\n",
    "        \n",
    "for j in range(len(l2)):\n",
    "    if l2[j] == l2[j+1]:\n",
    "        print(l2[j])   \n",
    "        break "
   ]
  }
 ],
 "metadata": {
  "kernelspec": {
   "display_name": "base",
   "language": "python",
   "name": "python3"
  },
  "language_info": {
   "codemirror_mode": {
    "name": "ipython",
    "version": 3
   },
   "file_extension": ".py",
   "mimetype": "text/x-python",
   "name": "python",
   "nbconvert_exporter": "python",
   "pygments_lexer": "ipython3",
   "version": "3.11.2"
  },
  "orig_nbformat": 4,
  "vscode": {
   "interpreter": {
    "hash": "ad2bdc8ecc057115af97d19610ffacc2b4e99fae6737bb82f5d7fb13d2f2c186"
   }
  }
 },
 "nbformat": 4,
 "nbformat_minor": 2
}
