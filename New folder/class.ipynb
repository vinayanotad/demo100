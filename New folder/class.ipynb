{
 "cells": [
  {
   "cell_type": "code",
   "execution_count": null,
   "metadata": {},
   "outputs": [],
   "source": [
    "print(\"Hello python\")"
   ]
  },
  {
   "attachments": {},
   "cell_type": "markdown",
   "metadata": {},
   "source": [
    "$$\n",
    "SETS\n",
    "$$\n"
   ]
  },
  {
   "cell_type": "code",
   "execution_count": null,
   "metadata": {},
   "outputs": [],
   "source": [
    "s1=set(\"Python is on the World\")\n",
    "s2=set([1,2,3,3,3.5,'Python',4,4,5,6])\n",
    "print(s1)\n",
    "print(s2)"
   ]
  },
  {
   "cell_type": "code",
   "execution_count": null,
   "metadata": {},
   "outputs": [],
   "source": [
    "s1=set([\"Python is on the World\"])  #square brackets it considers as one\n",
    "for i in s1:\n",
    "    print(i)\n"
   ]
  },
  {
   "cell_type": "code",
   "execution_count": null,
   "metadata": {},
   "outputs": [],
   "source": [
    "s1=set(\"Python is on the World\")\n",
    "j=1\n",
    "for i in s1:\n",
    "    print(j)\n",
    "    print(i)\n",
    "    j+=1\n",
    "\n"
   ]
  },
  {
   "cell_type": "code",
   "execution_count": null,
   "metadata": {},
   "outputs": [],
   "source": [
    "s1={10,2,3,\"Python\"}\n",
    "print(type(s1))\n",
    "for i in s1:\n",
    "    print(i)"
   ]
  },
  {
   "cell_type": "code",
   "execution_count": null,
   "metadata": {},
   "outputs": [],
   "source": [
    "s1={6,7,8}\n",
    "\n",
    "s1.add(9)\n",
    "\n",
    "for i in range(1,6):\n",
    "    print(i)\n",
    "\n",
    "print(s1)"
   ]
  },
  {
   "cell_type": "code",
   "execution_count": null,
   "metadata": {},
   "outputs": [],
   "source": [
    "s1={10,2,3,\"Python\"}\n",
    "print(type(s1))\n",
    "s1.remove(10)\n",
    "print(s1)"
   ]
  },
  {
   "attachments": {},
   "cell_type": "markdown",
   "metadata": {},
   "source": [
    "\n",
    "$$$$\n",
    "$$\n",
    "DICTIONARIES\n",
    "$$\n",
    "$$"
   ]
  },
  {
   "cell_type": "code",
   "execution_count": null,
   "metadata": {},
   "outputs": [],
   "source": [
    "d1={1:100,2:200,3:3,\"Phone\":7019885903,10.5: \"Rate\"}\n",
    "print(d1,d1,\"Python\",end='**',sep='$')"
   ]
  },
  {
   "cell_type": "code",
   "execution_count": null,
   "metadata": {},
   "outputs": [],
   "source": [
    "d1={1:100,1024:200,\"Name\": \"Python\", \"Name\":\"10\", 1:400}  #updated value is printed\n",
    "print(d1)"
   ]
  },
  {
   "cell_type": "code",
   "execution_count": null,
   "metadata": {},
   "outputs": [],
   "source": [
    "d1={1:100, \"Email\":\"keonicsx@gmail.com\",\"List1\":[1,2,4]}\n",
    "print(d1)"
   ]
  },
  {
   "cell_type": "code",
   "execution_count": null,
   "metadata": {},
   "outputs": [],
   "source": [
    "d1={1:100, \"Email\":\"keonicsx@gmail.com\",\"List1\":[1,2,4]}\n",
    "d2={}\n",
    "d2[1]=\"First\"\n",
    "print(d2)\n",
    "\n"
   ]
  },
  {
   "cell_type": "code",
   "execution_count": null,
   "metadata": {},
   "outputs": [],
   "source": [
    "dic={1:'A',2:'B',3:'C'}\n",
    "print(dic)\n",
    "del(dic[1])\n",
    "print(dic)\n",
    "\n",
    "del(dic)\n",
    "print(dic)"
   ]
  },
  {
   "attachments": {},
   "cell_type": "markdown",
   "metadata": {},
   "source": [
    "$$\n",
    "opertors\n",
    "$$"
   ]
  },
  {
   "cell_type": "code",
   "execution_count": null,
   "metadata": {},
   "outputs": [],
   "source": [
    "name='Alex'\n",
    "age=0\n",
    "\n",
    "if name==\"Alex\" or name==\"John\"  and age>=2:\n",
    "    print(\"Hello!Welcome\")\n",
    "else:\n",
    "    print(\"Good BYe!\")    \n"
   ]
  },
  {
   "cell_type": "code",
   "execution_count": null,
   "metadata": {},
   "outputs": [],
   "source": [
    "a=True\n",
    "b=False\n",
    "c=False\n",
    "\n",
    "if True or False and True:\n",
    "    print(\"Yes\")\n",
    "else:\n",
    "    print(\"No\")    \n"
   ]
  },
  {
   "cell_type": "code",
   "execution_count": null,
   "metadata": {},
   "outputs": [],
   "source": [
    "5-2+3  #left to right associativity\n",
    "\n",
    "2**3**2     #right to left "
   ]
  },
  {
   "cell_type": "code",
   "execution_count": null,
   "metadata": {},
   "outputs": [],
   "source": [
    "#loops nested if\n",
    "if 100>20:\n",
    "    if 40>30:\n",
    "        print(\"inside nested if\")\n",
    "        if 300>40:\n",
    "            print(\"inside nested if 2\")\n",
    "        else:\n",
    "            print(\"inside nested else 2\")\n",
    "    else:\n",
    "        print(\"inside nested else\")\n",
    "\n",
    "else:\n",
    "    print(\"outside else\")\n"
   ]
  },
  {
   "cell_type": "code",
   "execution_count": null,
   "metadata": {},
   "outputs": [],
   "source": [
    "l1=[1,2,3,4,5]     #for loop\n",
    "for i in l1:\n",
    "    print(i)"
   ]
  },
  {
   "cell_type": "code",
   "execution_count": null,
   "metadata": {},
   "outputs": [],
   "source": [
    "l1=[1,2,3,4,5]     #for loop\n",
    "sum=0\n",
    "for i in l1:\n",
    "    print(i)\n",
    "    sum+=i\n",
    "print(sum)    "
   ]
  },
  {
   "cell_type": "code",
   "execution_count": null,
   "metadata": {},
   "outputs": [],
   "source": [
    "list=(range(5))\n",
    "print(list)"
   ]
  },
  {
   "cell_type": "code",
   "execution_count": null,
   "metadata": {},
   "outputs": [],
   "source": [
    "l1=[10,20,30,40,50,60]\n",
    "\n",
    "for item in range(0,len(l1),2):\n",
    "    print(l1[item])\n",
    "\n",
    "\n",
    "\n",
    "# for item in range(len(l1)):\n",
    "#     print(l1[item])\n",
    "\n",
    "    "
   ]
  },
  {
   "cell_type": "code",
   "execution_count": null,
   "metadata": {},
   "outputs": [],
   "source": [
    "l1=[10,20,30,40,50,60]\n",
    "\n",
    "for item in range(len(l1)-1,0,-1):\n",
    "    print(l1[item])\n",
    "\n",
    "# for item in range(len(l1)-1,0,-1):\n",
    "#     print(item,l1[item],end='*',sep=' ,')    \n"
   ]
  },
  {
   "cell_type": "code",
   "execution_count": null,
   "metadata": {},
   "outputs": [],
   "source": [
    "mytuple=(\"apple\",\"banana\",\"cherry\")\n",
    "myit=iter(mytuple)\n",
    "\n",
    "print(next(myit))\n",
    "print(next(myit))\n",
    "print(next(myit))"
   ]
  },
  {
   "cell_type": "code",
   "execution_count": null,
   "metadata": {},
   "outputs": [],
   "source": [
    "l1=[1,2,3,4,5,6]\n",
    "\n",
    "myIterator=iter(l1)\n",
    "\n",
    "print(next(myIterator))\n",
    "print(next(myIterator))\n",
    "print(next(myIterator))\n",
    "print(next(myIterator))\n",
    "print(next(myIterator))\n",
    "print(next(myIterator))"
   ]
  },
  {
   "attachments": {},
   "cell_type": "markdown",
   "metadata": {},
   "source": [
    "$$\n",
    "While Loop\n",
    "$$"
   ]
  },
  {
   "cell_type": "code",
   "execution_count": null,
   "metadata": {},
   "outputs": [],
   "source": [
    "i=5\n",
    "while i>0:\n",
    "    print(i,end=',')\n",
    "    i-=1"
   ]
  },
  {
   "attachments": {},
   "cell_type": "markdown",
   "metadata": {},
   "source": [
    "Exit a loop with break"
   ]
  },
  {
   "cell_type": "code",
   "execution_count": null,
   "metadata": {},
   "outputs": [],
   "source": [
    "for i in range(10):\n",
    "    print(i)\n",
    "    if i==2:\n",
    "        break\n",
    "print(\"Outside loop\")    "
   ]
  },
  {
   "cell_type": "code",
   "execution_count": null,
   "metadata": {},
   "outputs": [],
   "source": [
    "while True:                 #INFINITE LOOP [DO NOT EXECUTE]\n",
    "    print(\".\")"
   ]
  },
  {
   "cell_type": "code",
   "execution_count": null,
   "metadata": {},
   "outputs": [],
   "source": [
    "i=5\n",
    "while i>0:\n",
    "    print(\"Inside\")\n",
    "    i=i-1\n",
    "    if(i<3):\n",
    "        print(\"Breaking loop\")\n",
    "        break\n",
    "print(\"am outside\")    "
   ]
  },
  {
   "attachments": {},
   "cell_type": "markdown",
   "metadata": {},
   "source": [
    "Continue"
   ]
  },
  {
   "cell_type": "code",
   "execution_count": null,
   "metadata": {},
   "outputs": [],
   "source": [
    "for i in range(10):\n",
    "    if i==5 or i==6:\n",
    "        print(\"skipped\",i)\n",
    "        continue\n",
    "    print(i)"
   ]
  },
  {
   "attachments": {},
   "cell_type": "markdown",
   "metadata": {},
   "source": [
    "Function "
   ]
  },
  {
   "cell_type": "code",
   "execution_count": null,
   "metadata": {},
   "outputs": [],
   "source": [
    "def add(a):\n",
    "    print(\"function called a=\",a)\n",
    "\n",
    "add(10)        "
   ]
  },
  {
   "cell_type": "code",
   "execution_count": null,
   "metadata": {},
   "outputs": [],
   "source": [
    "def add(a,b):\n",
    "    print(\"function called a=\",a,b)\n",
    "\n",
    "add(10,20)        "
   ]
  },
  {
   "cell_type": "code",
   "execution_count": null,
   "metadata": {},
   "outputs": [],
   "source": [
    "def add(a,b):\n",
    "    sum=a+b\n",
    "    print(\"sum=\",sum)\n",
    "\n",
    "add(10,20)        "
   ]
  },
  {
   "cell_type": "code",
   "execution_count": null,
   "metadata": {},
   "outputs": [],
   "source": [
    "def add(a,b):\n",
    "    sum=a+b\n",
    "    return sum\n",
    "\n",
    "answer =add(10,30)\n",
    "print(\"sum=\",answer)"
   ]
  },
  {
   "cell_type": "code",
   "execution_count": null,
   "metadata": {},
   "outputs": [],
   "source": [
    "name=['A','B','C','D','E','F','G']\n",
    "roll_no=[10,8,1,5,2,6,9]\n",
    "\n",
    "zipped=zip(name,roll_no)\n",
    "print(zipped)\n",
    "\n",
    "# print(set(zipped))\n",
    "\n",
    "# print(dict(zipped))\n",
    "\n",
    "print(tuple(zipped))"
   ]
  },
  {
   "cell_type": "code",
   "execution_count": null,
   "metadata": {},
   "outputs": [],
   "source": [
    "name=[\"vinaya\",\"harish\",\"supriya\",\"huli\"]\n",
    "roll_no=[3,5,2,6]\n",
    "\n",
    "mapped=zip(name,roll_no)\n",
    "\n",
    "# print(set(mapped))\n",
    "\n",
    "print(dict(mapped))"
   ]
  },
  {
   "attachments": {},
   "cell_type": "markdown",
   "metadata": {},
   "source": [
    "$$\n",
    "sqrt\n",
    "$$"
   ]
  },
  {
   "cell_type": "code",
   "execution_count": null,
   "metadata": {},
   "outputs": [],
   "source": [
    "#square root\n",
    "import math\n",
    "\n",
    "def computer_sqrt(n): \n",
    "    result=math.sqrt(n)\n",
    "    print(result)\n",
    "\n",
    "computer_sqrt(4)  \n",
    "computer_sqrt(9) \n",
    "computer_sqrt(3)  \n",
    "computer_sqrt(2)\n"
   ]
  },
  {
   "cell_type": "code",
   "execution_count": null,
   "metadata": {},
   "outputs": [],
   "source": [
    "import math\n",
    "\n",
    "def computer_sqrt(n): \n",
    "    result=math.sqrt(n)\n",
    "    return result\n",
    "\n",
    "ans=computer_sqrt(3)\n",
    "print(ans)"
   ]
  },
  {
   "attachments": {},
   "cell_type": "markdown",
   "metadata": {},
   "source": [
    "Enumerate"
   ]
  },
  {
   "cell_type": "code",
   "execution_count": null,
   "metadata": {},
   "outputs": [],
   "source": [
    "l1=['A','B','C']\n",
    "obj1=enumerate(l1)\n",
    "print(list(obj1))"
   ]
  },
  {
   "cell_type": "code",
   "execution_count": null,
   "metadata": {},
   "outputs": [],
   "source": [
    "def cube_function(n):\n",
    "    ans = n*n*n\n",
    "    return ans\n",
    "cube_function(2)\n"
   ]
  },
  {
   "attachments": {},
   "cell_type": "markdown",
   "metadata": {},
   "source": [
    "lambda function"
   ]
  },
  {
   "cell_type": "code",
   "execution_count": null,
   "metadata": {},
   "outputs": [],
   "source": [
    "var = lambda a: a+10\n",
    "print(var(2))\n",
    "\n",
    "\n",
    "def add(a):\n",
    "    return a+10\n",
    "\n",
    "print(add(2))"
   ]
  },
  {
   "cell_type": "code",
   "execution_count": null,
   "metadata": {},
   "outputs": [],
   "source": [
    "var = lambda a: a>10\n",
    "print(var(2))"
   ]
  },
  {
   "cell_type": "code",
   "execution_count": null,
   "metadata": {},
   "outputs": [],
   "source": [
    "calc = lambda num: \"Even number\" if num%2==0 else \"odd number\"\n",
    "print(calc(10))"
   ]
  },
  {
   "cell_type": "code",
   "execution_count": null,
   "metadata": {},
   "outputs": [],
   "source": [
    "var = lambda:10+20   \n",
    "var()"
   ]
  },
  {
   "cell_type": "code",
   "execution_count": null,
   "metadata": {},
   "outputs": [],
   "source": [
    "var1=lambda n: n*n    #2*2\n",
    "var2=lambda n: n*n*n    #4*4*4\n",
    "\n",
    "ans=var1(2)            #ans=4\n",
    "print(ans)             #print value 4 \n",
    "print(var2(ans))       #var(4)=4*4*4\n",
    "\n",
    "def call_func():\n",
    "    ans = var1(2)+1           #ans=4+1\n",
    "    result = var2(4)+ans      #result=(4*4*4)+1=69\n",
    "    print(\"From User def:\",result)\n",
    "    \n",
    "call_func()   "
   ]
  },
  {
   "cell_type": "code",
   "execution_count": null,
   "metadata": {},
   "outputs": [],
   "source": [
    "string = 'Python'\n",
    " \n",
    "# lambda returns a function object\n",
    "print( lambda string:string)"
   ]
  },
  {
   "cell_type": "code",
   "execution_count": null,
   "metadata": {},
   "outputs": [],
   "source": [
    "#program to find odd and even\n",
    "calc = lambda num: \"True\" if num%2==0 else \"False\"\n",
    "print(calc(5))"
   ]
  },
  {
   "cell_type": "code",
   "execution_count": null,
   "metadata": {},
   "outputs": [],
   "source": [
    "#assignment\n",
    "# program for enrolling students with details (take the details)\n",
    "# storing in a txt file  (in external file)\n",
    "# and retriving \n",
    "\n",
    "#file handling gfg"
   ]
  },
  {
   "attachments": {},
   "cell_type": "markdown",
   "metadata": {},
   "source": [
    "FILE"
   ]
  },
  {
   "cell_type": "code",
   "execution_count": null,
   "metadata": {},
   "outputs": [],
   "source": [
    "#creating a txt file\n",
    "file1=open(\"vin.txt\",\"a\")\n",
    "file1.write(\"Hi \")\n",
    "file1.close()\n",
    "\n",
    "file1=open(\"vin.txt\",\"r\")\n",
    "print(file1.read())\n",
    "file1.close()"
   ]
  },
  {
   "attachments": {},
   "cell_type": "markdown",
   "metadata": {},
   "source": [
    "iter()  next()"
   ]
  },
  {
   "cell_type": "code",
   "execution_count": null,
   "metadata": {},
   "outputs": [],
   "source": [
    "mytuple = (\"alpha\",\"beta\",\"gamma\")\n",
    "myit = iter(mytuple)\n",
    "\n",
    "print(next(myit))\n",
    "print(next(myit))\n",
    "print(next(myit))"
   ]
  },
  {
   "cell_type": "code",
   "execution_count": null,
   "metadata": {},
   "outputs": [],
   "source": [
    "tuple=(\"alpha\",\"beta\",\"gamma\")\n",
    "for x in mytuple:\n",
    "    print(x)"
   ]
  },
  {
   "cell_type": "code",
   "execution_count": null,
   "metadata": {},
   "outputs": [],
   "source": [
    "list1=[1,2,3,4]\n",
    "\n",
    "iterator_obj=iter(list1)\n",
    "next(iterator_obj)\n",
    "next(iterator_obj)\n",
    "print(next(iterator_obj))\n",
    "print(next(iterator_obj))\n"
   ]
  },
  {
   "cell_type": "code",
   "execution_count": null,
   "metadata": {},
   "outputs": [],
   "source": [
    "string1=\"Python\"\n",
    "Iter=iter(string1)\n",
    "print(next(Iter))\n",
    "print(next(Iter))\n",
    "print(next(Iter))\n",
    "print(next(Iter))\n",
    "print(next(Iter))\n",
    "print(next(Iter))\n",
    "\n"
   ]
  },
  {
   "cell_type": "code",
   "execution_count": null,
   "metadata": {},
   "outputs": [],
   "source": [
    "string1=\"Python\"\n",
    "Iter=iter(string1)           \n",
    "for i in Iter:\n",
    "    if i==\"y\" or i==\"o\":\n",
    "        print(\"skipped\",i)\n",
    "        continue\n",
    "    print(i)"
   ]
  },
  {
   "attachments": {},
   "cell_type": "markdown",
   "metadata": {},
   "source": [
    "### Generators"
   ]
  },
  {
   "cell_type": "code",
   "execution_count": null,
   "metadata": {},
   "outputs": [],
   "source": [
    "def gen1(a):\n",
    "    for i in a:\n",
    "        yield i*i*i\n",
    "        \n",
    "num=[1,2,3]\n",
    "cube_num = gen1(num)\n",
    "\n",
    "# accessing the reult in the generator object using for loop\n",
    "for i in cube_num:\n",
    "    print (i)        "
   ]
  },
  {
   "cell_type": "code",
   "execution_count": null,
   "metadata": {},
   "outputs": [],
   "source": [
    "def simpleGeneratorFun():\n",
    "    yield 1\n",
    "    yield 2\n",
    "    yield 3\n",
    "\n",
    "for value in simpleGeneratorFun():\n",
    "    print(value)"
   ]
  },
  {
   "cell_type": "code",
   "execution_count": null,
   "metadata": {},
   "outputs": [],
   "source": [
    "# generate 10 odd no's ,$  sum them all $ print the total sum\n",
    "def gen():\n",
    "    for i in range(0,20):\n",
    "        if i % 2 != 0:\n",
    "            yield i\n",
    "            \n",
    "def sum():\n",
    "    s=0\n",
    "    for val in gen():\n",
    "        s= s + val\n",
    "    print(s)\n",
    "\n",
    "sum()                           "
   ]
  },
  {
   "cell_type": "code",
   "execution_count": null,
   "metadata": {},
   "outputs": [],
   "source": [
    "#print 10 values which are divisible by 7\n",
    "def gen():\n",
    "    for i in range(1,71):\n",
    "        if i % 7 == 0:\n",
    "            yield i\n",
    "            \n",
    "            \n",
    "def div():\n",
    "    for val in gen():\n",
    "        print(val)\n",
    "\n",
    "div()                "
   ]
  },
  {
   "attachments": {},
   "cell_type": "markdown",
   "metadata": {},
   "source": [
    "### CHAPTER 2\n",
    "ADVANCED LIST,TUPLE,SET"
   ]
  },
  {
   "cell_type": "code",
   "execution_count": null,
   "metadata": {},
   "outputs": [],
   "source": [
    "list = [1 ,2,3,10,20]\n",
    "list.insert(4,15)\n",
    "list"
   ]
  },
  {
   "cell_type": "code",
   "execution_count": null,
   "metadata": {},
   "outputs": [],
   "source": [
    "list.pop()\n",
    "list"
   ]
  },
  {
   "cell_type": "code",
   "execution_count": null,
   "metadata": {},
   "outputs": [],
   "source": [
    "list.remove(2)\n",
    "list"
   ]
  },
  {
   "cell_type": "code",
   "execution_count": null,
   "metadata": {},
   "outputs": [],
   "source": [
    "list.append(8)\n",
    "list"
   ]
  },
  {
   "cell_type": "code",
   "execution_count": null,
   "metadata": {},
   "outputs": [],
   "source": [
    "list.reverse()\n",
    "list"
   ]
  },
  {
   "cell_type": "code",
   "execution_count": null,
   "metadata": {},
   "outputs": [],
   "source": [
    "list1=[1,2,100]\n",
    "list1.sort(reverse=2)\n",
    "list1"
   ]
  },
  {
   "cell_type": "code",
   "execution_count": null,
   "metadata": {},
   "outputs": [],
   "source": [
    "list = [5,8,6,9,10,1,2,9]\n",
    "list.sort()\n",
    "list.reverse()\n",
    "list"
   ]
  },
  {
   "cell_type": "code",
   "execution_count": null,
   "metadata": {},
   "outputs": [],
   "source": [
    "#sort the list by length of the values\n",
    "def myFun(e):\n",
    "    return len(e) \n",
    "\n",
    "cars = ['Ford','Mitsubhishi','BMW','Mercedes-Benz']\n",
    "\n",
    "cars.sort(key=myFun)\n",
    "\n",
    "print(cars)"
   ]
  },
  {
   "cell_type": "code",
   "execution_count": null,
   "metadata": {},
   "outputs": [],
   "source": [
    "#list comprehension\n",
    "\n",
    "#  [x+1  for x in range(5) if x%2 == 2]\n",
    "\n",
    "list1 = [ i for i in range(5) if i%2==0]\n",
    "list1"
   ]
  },
  {
   "cell_type": "code",
   "execution_count": null,
   "metadata": {},
   "outputs": [],
   "source": [
    "lis=[1,3,2,5,6,3]\n",
    "# lis.index(3)\n",
    "print(lis.count('3'))"
   ]
  },
  {
   "cell_type": "code",
   "execution_count": null,
   "metadata": {},
   "outputs": [],
   "source": [
    "list=[]\n",
    "for i in range(100):\n",
    "    if i%2!=0:\n",
    "        list.append(i)\n",
    "        \n",
    "print(list)        "
   ]
  },
  {
   "cell_type": "code",
   "execution_count": null,
   "metadata": {},
   "outputs": [],
   "source": [
    "odd_list = [i for i in range(100) if i%2 != 0]\n",
    "print(odd_list)\n",
    "\n",
    "#Assignment\n",
    "# [print 6*6 matrix  using only odd numbers , with list comprehension ]"
   ]
  },
  {
   "cell_type": "code",
   "execution_count": null,
   "metadata": {},
   "outputs": [],
   "source": [
    "fruits = 'Orange'\n",
    "fruit_list =fruits.find('i')  # i is not present in fruits hence it is returning -1\n",
    "fruit_list\n"
   ]
  },
  {
   "cell_type": "code",
   "execution_count": null,
   "metadata": {},
   "outputs": [],
   "source": [
    "fruits = ['Orange','Banana','Mango','Grapes','Watermelon','peru']\n",
    "# my_iter=iter(fruits)\n",
    "# print(next(my_iter))\n",
    "fruits_list= [i for i in fruits if i.find('a') != -1]    # the fruit without a is not displayed\n",
    "print(fruits_list)"
   ]
  },
  {
   "cell_type": "code",
   "execution_count": null,
   "metadata": {},
   "outputs": [],
   "source": [
    "fruits = ['Orange','Banana','Mango','Grapes','Watermelon','peru']\n",
    "fruit_list= [i.upper() for i in fruits if i.count(\"Orange\")>0]\n",
    "print(fruit_list)\n"
   ]
  },
  {
   "cell_type": "code",
   "execution_count": null,
   "metadata": {},
   "outputs": [],
   "source": [
    "matrix - [[j for j in range(1:70:2) ]if j%2!=0 i for i in range(6) ]\n",
    "print(matrix)"
   ]
  },
  {
   "cell_type": "code",
   "execution_count": null,
   "metadata": {},
   "outputs": [],
   "source": [
    "mat = []\n",
    "for i in range(3):\n",
    "    mat.append([])\n",
    "    for j in range(5):\n",
    "        j = 2*j + 1\n",
    "        mat[i].append(j)\n",
    "mat      "
   ]
  },
  {
   "cell_type": "code",
   "execution_count": null,
   "metadata": {},
   "outputs": [],
   "source": [
    "fruits = [\"apple\",\"banana\",\"cherry\",\"mango\"]\n",
    "newlist = []\n",
    "\n",
    "for x in fruits:\n",
    "    if \"a\" in x:                  # if a is present in x it prints those fruits name\n",
    "        newlist.append(x)\n",
    "        \n",
    "print(newlist)        "
   ]
  },
  {
   "cell_type": "code",
   "execution_count": null,
   "metadata": {},
   "outputs": [],
   "source": [
    "fruits = [\"apple\",\"banana\",\"cherry\",\"mango\"]\n",
    "newlist = [x for x in fruits if \"a\" in x]\n",
    "newlist"
   ]
  },
  {
   "attachments": {},
   "cell_type": "markdown",
   "metadata": {},
   "source": [
    "Understanding of tuples and differences  with python list"
   ]
  },
  {
   "cell_type": "code",
   "execution_count": null,
   "metadata": {},
   "outputs": [],
   "source": [
    "Tuple1 = (1,[1,2,3,4],(5,6))\n",
    "Tuple1[1].append(5)                  #list present in tuple can be edited\n",
    "Tuple1[2]"
   ]
  },
  {
   "cell_type": "code",
   "execution_count": null,
   "metadata": {},
   "outputs": [],
   "source": [
    "import sys\n",
    "list = [1]\n",
    "Tuple1 = (1,[1,2,3,4],(5,6))\n",
    "print(sys.getsizeof(Tuple1),\"Bytes\")\n",
    "print(sys.getsizeof(list),\"Bytes\")\n"
   ]
  },
  {
   "cell_type": "code",
   "execution_count": null,
   "metadata": {},
   "outputs": [],
   "source": [
    "# a_list = list()\n",
    "# a_tuple = tuple()\n",
    "a_list = [1,2,3,4,5]\n",
    "a_tuple = (1,2,3,4,5)\n",
    "print(sys.getsizeof(a_list),\"Bytes\")\n",
    "print(sys.getsizeof(a_tuple),\"Bytes\")"
   ]
  },
  {
   "attachments": {},
   "cell_type": "markdown",
   "metadata": {},
   "source": [
    "sets"
   ]
  },
  {
   "cell_type": "code",
   "execution_count": null,
   "metadata": {},
   "outputs": [],
   "source": [
    "people = {\"Jay\",\"Ram\",\"Sham\"}\n",
    "people.add(\"Daxit\")\n",
    "people"
   ]
  },
  {
   "cell_type": "code",
   "execution_count": null,
   "metadata": {},
   "outputs": [],
   "source": [
    "d1 = {}\n",
    "print(type(d1))"
   ]
  },
  {
   "cell_type": "code",
   "execution_count": null,
   "metadata": {},
   "outputs": [],
   "source": [
    "d1 = {\" \"}\n",
    "print(type(d1))"
   ]
  },
  {
   "cell_type": "code",
   "execution_count": null,
   "metadata": {},
   "outputs": [],
   "source": [
    "d1 = {\"3\":1}\n",
    "print(type(d1))"
   ]
  },
  {
   "cell_type": "code",
   "execution_count": 35,
   "metadata": {},
   "outputs": [
    {
     "name": "stdout",
     "output_type": "stream",
     "text": [
      "{1, 3, 4, -2}\n"
     ]
    },
    {
     "data": {
      "text/plain": [
       "{-2, 1, 3, 4, 7, 'Hello', 'Python'}"
      ]
     },
     "execution_count": 35,
     "metadata": {},
     "output_type": "execute_result"
    }
   ],
   "source": [
    "people = {1,-2,3,4}\n",
    "print(people)\n",
    "people.add(7)\n",
    "people.add(\"Python\")\n",
    "people.add(\"Hello\")           #sets are randomly arranged\n",
    "people"
   ]
  },
  {
   "attachments": {},
   "cell_type": "markdown",
   "metadata": {},
   "source": [
    "union"
   ]
  },
  {
   "cell_type": "code",
   "execution_count": 38,
   "metadata": {},
   "outputs": [
    {
     "data": {
      "text/plain": [
       "{'Anu', 'Arjun', 'Banu', 'Deepanshu', 'Karan', 'Raju', 'Sonu', 'Tanu'}"
      ]
     },
     "execution_count": 38,
     "metadata": {},
     "output_type": "execute_result"
    }
   ],
   "source": [
    "people = {\"Anu\",\"Banu\",\"Tanu\",\"Sonu\"}\n",
    "vampires = {\"Karan\",\"Arjun\"}\n",
    "dracula = {\"Deepanshu\",\"Raju\"}\n",
    "\n",
    "population = people.union(vampires)\n",
    "population = population.union(dracula)\n",
    "population\n",
    "\n",
    "\n"
   ]
  },
  {
   "cell_type": "code",
   "execution_count": 41,
   "metadata": {},
   "outputs": [
    {
     "name": "stdout",
     "output_type": "stream",
     "text": [
      "\n",
      " Union using union() function\n"
     ]
    },
    {
     "data": {
      "text/plain": [
       "{'Anu', 'Banu', 'Deepanshu', 'Raju', 'Sonu', 'Tanu'}"
      ]
     },
     "execution_count": 41,
     "metadata": {},
     "output_type": "execute_result"
    }
   ],
   "source": [
    "#Union using \"|\" symbol\n",
    "#\"|\" denotes union\n",
    "\n",
    "population = people|dracula\n",
    "print(\"\\n Union using union() function\")\n",
    "population"
   ]
  },
  {
   "attachments": {},
   "cell_type": "markdown",
   "metadata": {},
   "source": [
    "intersection"
   ]
  },
  {
   "cell_type": "code",
   "execution_count": 43,
   "metadata": {},
   "outputs": [
    {
     "data": {
      "text/plain": [
       "{3, 4}"
      ]
     },
     "execution_count": 43,
     "metadata": {},
     "output_type": "execute_result"
    }
   ],
   "source": [
    "#prg on sets using intersection\n",
    "set1 = set()\n",
    "set2 = set()\n",
    "for i in range(5):\n",
    "    set1.add(i)\n",
    "\n",
    "for i in range(3,9):\n",
    "    set2.add(i)\n",
    "    \n",
    "set3 = set1.intersection(set2)   \n",
    "set3 \n",
    "    "
   ]
  },
  {
   "cell_type": "code",
   "execution_count": 48,
   "metadata": {},
   "outputs": [
    {
     "name": "stdout",
     "output_type": "stream",
     "text": [
      "Intersection using intersection() function\n",
      "{8, 5, 6, 7}\n",
      "\n",
      " Intersection using '&' operator\n",
      "set()\n"
     ]
    }
   ],
   "source": [
    "print(\"Intersection using intersection() function\")\n",
    "print(set3)\n",
    "# intersection using \"&\" operator\n",
    "set3 = set1 & set2 & set3\n",
    " \n",
    "print(\"\\n Intersection using '&' operator\")\n",
    "print(set3)"
   ]
  },
  {
   "attachments": {},
   "cell_type": "markdown",
   "metadata": {},
   "source": [
    "Difference"
   ]
  },
  {
   "cell_type": "code",
   "execution_count": 47,
   "metadata": {},
   "outputs": [
    {
     "name": "stdout",
     "output_type": "stream",
     "text": [
      "{0, 1, 2}\n",
      "{8, 5, 6, 7}\n",
      "{8, 5, 6, 7}\n"
     ]
    }
   ],
   "source": [
    "#prg on sets using difference\n",
    "set1 = set()\n",
    "set2 = set()\n",
    "for i in range(5):\n",
    "    set1.add(i)\n",
    "\n",
    "for i in range(3,9):\n",
    "    set2.add(i)\n",
    "    \n",
    "set3 = set1.difference(set2)   \n",
    "print(set3)\n",
    "\n",
    "set3 = set2.difference(set1)\n",
    "print(set3) \n",
    "\n",
    "#difference of two sets using \"-\" operator\n",
    "set3 = set2 - set1\n",
    "print(set3)"
   ]
  },
  {
   "attachments": {},
   "cell_type": "markdown",
   "metadata": {},
   "source": [
    "clearing set"
   ]
  },
  {
   "cell_type": "code",
   "execution_count": 52,
   "metadata": {},
   "outputs": [
    {
     "name": "stdout",
     "output_type": "stream",
     "text": [
      "Initial set\n",
      "{1, 2, 3, 4, 5, 6}\n",
      "set()\n"
     ]
    }
   ],
   "source": [
    "set1 ={1,2,3,4,5,6}\n",
    "print(\"Initial set\")\n",
    "print(set1)\n",
    "\n",
    "set1.clear()\n",
    "print(set1)"
   ]
  }
 ],
 "metadata": {
  "kernelspec": {
   "display_name": "Python 3",
   "language": "python",
   "name": "python3"
  },
  "language_info": {
   "codemirror_mode": {
    "name": "ipython",
    "version": 3
   },
   "file_extension": ".py",
   "mimetype": "text/x-python",
   "name": "python",
   "nbconvert_exporter": "python",
   "pygments_lexer": "ipython3",
   "version": "3.11.2"
  },
  "orig_nbformat": 4
 },
 "nbformat": 4,
 "nbformat_minor": 2
}
