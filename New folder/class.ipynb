{
 "cells": [
  {
   "cell_type": "code",
   "execution_count": 1,
   "metadata": {},
   "outputs": [
    {
     "name": "stdout",
     "output_type": "stream",
     "text": [
      "Hello python\n"
     ]
    }
   ],
   "source": [
    "print(\"Hello python\")"
   ]
  },
  {
   "attachments": {},
   "cell_type": "markdown",
   "metadata": {},
   "source": [
    "$$\n",
    "SETS\n",
    "$$\n"
   ]
  },
  {
   "cell_type": "code",
   "execution_count": 3,
   "metadata": {},
   "outputs": [
    {
     "name": "stdout",
     "output_type": "stream",
     "text": [
      "{'P', 'l', 't', 's', 'h', 'e', 'W', 'r', 'o', 'd', ' ', 'y', 'n', 'i'}\n",
      "{1, 2, 3.5, 3, 4, 5, 6, 'Python'}\n"
     ]
    }
   ],
   "source": [
    "s1=set(\"Python is on the World\")\n",
    "s2=set([1,2,3,3,3.5,'Python',4,4,5,6])\n",
    "print(s1)\n",
    "print(s2)"
   ]
  },
  {
   "cell_type": "code",
   "execution_count": 7,
   "metadata": {},
   "outputs": [
    {
     "name": "stdout",
     "output_type": "stream",
     "text": [
      "Python is on the World\n"
     ]
    }
   ],
   "source": [
    "s1=set([\"Python is on the World\"])  #square brackets it considers as one\n",
    "for i in s1:\n",
    "    print(i)\n"
   ]
  },
  {
   "cell_type": "code",
   "execution_count": 11,
   "metadata": {},
   "outputs": [
    {
     "name": "stdout",
     "output_type": "stream",
     "text": [
      "1\n",
      "P\n",
      "2\n",
      "l\n",
      "3\n",
      "t\n",
      "4\n",
      "s\n",
      "5\n",
      "h\n",
      "6\n",
      "e\n",
      "7\n",
      "W\n",
      "8\n",
      "r\n",
      "9\n",
      "o\n",
      "10\n",
      "d\n",
      "11\n",
      " \n",
      "12\n",
      "y\n",
      "13\n",
      "n\n",
      "14\n",
      "i\n"
     ]
    }
   ],
   "source": [
    "s1=set(\"Python is on the World\")\n",
    "j=1\n",
    "for i in s1:\n",
    "    print(j)\n",
    "    print(i)\n",
    "    j+=1\n",
    "\n"
   ]
  },
  {
   "cell_type": "code",
   "execution_count": 21,
   "metadata": {},
   "outputs": [
    {
     "name": "stdout",
     "output_type": "stream",
     "text": [
      "<class 'set'>\n",
      "3\n",
      "2\n",
      "10\n",
      "Python\n"
     ]
    }
   ],
   "source": [
    "s1={10,2,3,\"Python\"}\n",
    "print(type(s1))\n",
    "for i in s1:\n",
    "    print(i)"
   ]
  },
  {
   "cell_type": "code",
   "execution_count": 4,
   "metadata": {},
   "outputs": [
    {
     "name": "stdout",
     "output_type": "stream",
     "text": [
      "1\n",
      "2\n",
      "3\n",
      "4\n",
      "5\n",
      "{8, 9, 6, 7}\n"
     ]
    }
   ],
   "source": [
    "s1={6,7,8}\n",
    "\n",
    "s1.add(9)\n",
    "\n",
    "for i in range(1,6):\n",
    "    print(i)\n",
    "\n",
    "print(s1)"
   ]
  },
  {
   "cell_type": "code",
   "execution_count": 5,
   "metadata": {},
   "outputs": [
    {
     "name": "stdout",
     "output_type": "stream",
     "text": [
      "<class 'set'>\n",
      "{3, 2, 'Python'}\n"
     ]
    }
   ],
   "source": [
    "s1={10,2,3,\"Python\"}\n",
    "print(type(s1))\n",
    "s1.remove(10)\n",
    "print(s1)"
   ]
  },
  {
   "attachments": {},
   "cell_type": "markdown",
   "metadata": {},
   "source": [
    "\n",
    "$$$$\n",
    "$$\n",
    "DICTIONARIES\n",
    "$$\n",
    "$$"
   ]
  },
  {
   "cell_type": "code",
   "execution_count": 1,
   "metadata": {},
   "outputs": [
    {
     "name": "stdout",
     "output_type": "stream",
     "text": [
      "{1: 100, 2: 200, 3: 3, 'Phone': 7019885903, 10.5: 'Rate'}${1: 100, 2: 200, 3: 3, 'Phone': 7019885903, 10.5: 'Rate'}$Python**"
     ]
    }
   ],
   "source": [
    "d1={1:100,2:200,3:3,\"Phone\":7019885903,10.5: \"Rate\"}\n",
    "print(d1,d1,\"Python\",end='**',sep='$')"
   ]
  },
  {
   "cell_type": "code",
   "execution_count": 5,
   "metadata": {},
   "outputs": [
    {
     "name": "stdout",
     "output_type": "stream",
     "text": [
      "{1: 400, 1024: 200, 'Name': '10'}\n"
     ]
    }
   ],
   "source": [
    "d1={1:100,1024:200,\"Name\": \"Python\", \"Name\":\"10\", 1:400}  #updated value is printed\n",
    "print(d1)"
   ]
  },
  {
   "cell_type": "code",
   "execution_count": 17,
   "metadata": {},
   "outputs": [
    {
     "name": "stdout",
     "output_type": "stream",
     "text": [
      "{1: 100, 'Email': 'keonicsx@gmail.com', 'List1': [1, 2, 4]}\n"
     ]
    }
   ],
   "source": [
    "d1={1:100, \"Email\":\"keonicsx@gmail.com\",\"List1\":[1,2,4]}\n",
    "print(d1)"
   ]
  },
  {
   "cell_type": "code",
   "execution_count": 19,
   "metadata": {},
   "outputs": [
    {
     "name": "stdout",
     "output_type": "stream",
     "text": [
      "{1: 'First'}\n"
     ]
    }
   ],
   "source": [
    "d1={1:100, \"Email\":\"keonicsx@gmail.com\",\"List1\":[1,2,4]}\n",
    "d2={}\n",
    "d2[1]=\"First\"\n",
    "print(d2)\n",
    "\n"
   ]
  },
  {
   "cell_type": "code",
   "execution_count": 23,
   "metadata": {},
   "outputs": [
    {
     "name": "stdout",
     "output_type": "stream",
     "text": [
      "{1: 'A', 2: 'B', 3: 'C'}\n",
      "{2: 'B', 3: 'C'}\n"
     ]
    },
    {
     "ename": "NameError",
     "evalue": "name 'dic' is not defined",
     "output_type": "error",
     "traceback": [
      "\u001b[1;31m---------------------------------------------------------------------------\u001b[0m",
      "\u001b[1;31mNameError\u001b[0m                                 Traceback (most recent call last)",
      "Cell \u001b[1;32mIn[23], line 7\u001b[0m\n\u001b[0;32m      4\u001b[0m \u001b[39mprint\u001b[39m(dic)\n\u001b[0;32m      6\u001b[0m \u001b[39mdel\u001b[39;00m(dic)\n\u001b[1;32m----> 7\u001b[0m \u001b[39mprint\u001b[39m(dic)\n",
      "\u001b[1;31mNameError\u001b[0m: name 'dic' is not defined"
     ]
    }
   ],
   "source": [
    "dic={1:'A',2:'B',3:'C'}\n",
    "print(dic)\n",
    "del(dic[1])\n",
    "print(dic)\n",
    "\n",
    "del(dic)\n",
    "print(dic)"
   ]
  },
  {
   "attachments": {},
   "cell_type": "markdown",
   "metadata": {},
   "source": [
    "$$\n",
    "opertors\n",
    "$$"
   ]
  },
  {
   "cell_type": "code",
   "execution_count": 2,
   "metadata": {},
   "outputs": [
    {
     "name": "stdout",
     "output_type": "stream",
     "text": [
      "Hello!Welcome\n"
     ]
    }
   ],
   "source": [
    "name='Alex'\n",
    "age=0\n",
    "\n",
    "if name==\"Alex\" or name==\"John\"  and age>=2:\n",
    "    print(\"Hello!Welcome\")\n",
    "else:\n",
    "    print(\"Good BYe!\")    \n"
   ]
  },
  {
   "cell_type": "code",
   "execution_count": 4,
   "metadata": {},
   "outputs": [
    {
     "name": "stdout",
     "output_type": "stream",
     "text": [
      "Yes\n"
     ]
    }
   ],
   "source": [
    "a=True\n",
    "b=False\n",
    "c=False\n",
    "\n",
    "if True or False and True:\n",
    "    print(\"Yes\")\n",
    "else:\n",
    "    print(\"No\")    \n"
   ]
  },
  {
   "cell_type": "code",
   "execution_count": 5,
   "metadata": {},
   "outputs": [
    {
     "data": {
      "text/plain": [
       "6"
      ]
     },
     "execution_count": 5,
     "metadata": {},
     "output_type": "execute_result"
    }
   ],
   "source": [
    "5-2+3  #left to right associativity\n",
    "\n",
    "2**3**2     #right to left "
   ]
  },
  {
   "cell_type": "code",
   "execution_count": 4,
   "metadata": {},
   "outputs": [
    {
     "name": "stdout",
     "output_type": "stream",
     "text": [
      "inside nested if\n",
      "inside nested if 2\n"
     ]
    }
   ],
   "source": [
    "#loops nested if\n",
    "if 100>20:\n",
    "    if 40>30:\n",
    "        print(\"inside nested if\")\n",
    "        if 300>40:\n",
    "            print(\"inside nested if 2\")\n",
    "        else:\n",
    "            print(\"inside nested else 2\")\n",
    "    else:\n",
    "        print(\"inside nested else\")\n",
    "\n",
    "else:\n",
    "    print(\"outside else\")\n"
   ]
  },
  {
   "cell_type": "code",
   "execution_count": 5,
   "metadata": {},
   "outputs": [
    {
     "name": "stdout",
     "output_type": "stream",
     "text": [
      "1\n",
      "2\n",
      "3\n",
      "4\n",
      "5\n"
     ]
    }
   ],
   "source": [
    "l1=[1,2,3,4,5]     #for loop\n",
    "for i in l1:\n",
    "    print(i)"
   ]
  },
  {
   "cell_type": "code",
   "execution_count": 6,
   "metadata": {},
   "outputs": [
    {
     "name": "stdout",
     "output_type": "stream",
     "text": [
      "1\n",
      "2\n",
      "3\n",
      "4\n",
      "5\n",
      "15\n"
     ]
    }
   ],
   "source": [
    "l1=[1,2,3,4,5]     #for loop\n",
    "sum=0\n",
    "for i in l1:\n",
    "    print(i)\n",
    "    sum+=i\n",
    "print(sum)    "
   ]
  },
  {
   "cell_type": "code",
   "execution_count": 8,
   "metadata": {},
   "outputs": [
    {
     "name": "stdout",
     "output_type": "stream",
     "text": [
      "range(0, 5)\n"
     ]
    }
   ],
   "source": [
    "list=(range(5))\n",
    "print(list)"
   ]
  },
  {
   "cell_type": "code",
   "execution_count": 26,
   "metadata": {},
   "outputs": [
    {
     "name": "stdout",
     "output_type": "stream",
     "text": [
      "10\n",
      "30\n",
      "50\n"
     ]
    }
   ],
   "source": [
    "l1=[10,20,30,40,50,60]\n",
    "\n",
    "for item in range(0,len(l1),2):\n",
    "    print(l1[item])\n",
    "\n",
    "\n",
    "\n",
    "# for item in range(len(l1)):\n",
    "#     print(l1[item])\n",
    "\n",
    "    "
   ]
  },
  {
   "cell_type": "code",
   "execution_count": 6,
   "metadata": {},
   "outputs": [
    {
     "name": "stdout",
     "output_type": "stream",
     "text": [
      "60\n",
      "50\n",
      "40\n",
      "30\n",
      "20\n",
      "5 ,60*4 ,50*3 ,40*2 ,30*1 ,20*"
     ]
    }
   ],
   "source": [
    "l1=[10,20,30,40,50,60]\n",
    "\n",
    "for item in range(len(l1)-1,0,-1):\n",
    "    print(l1[item])\n",
    "\n",
    "# for item in range(len(l1)-1,0,-1):\n",
    "#     print(item,l1[item],end='*',sep=' ,')    \n"
   ]
  },
  {
   "cell_type": "code",
   "execution_count": 9,
   "metadata": {},
   "outputs": [
    {
     "name": "stdout",
     "output_type": "stream",
     "text": [
      "apple\n",
      "banana\n",
      "cherry\n"
     ]
    }
   ],
   "source": [
    "mytuple=(\"apple\",\"banana\",\"cherry\")\n",
    "myit=iter(mytuple)\n",
    "\n",
    "print(next(myit))\n",
    "print(next(myit))\n",
    "print(next(myit))"
   ]
  },
  {
   "cell_type": "code",
   "execution_count": 12,
   "metadata": {},
   "outputs": [
    {
     "name": "stdout",
     "output_type": "stream",
     "text": [
      "1\n",
      "2\n",
      "3\n",
      "4\n",
      "5\n",
      "6\n"
     ]
    }
   ],
   "source": [
    "l1=[1,2,3,4,5,6]\n",
    "\n",
    "myIterator=iter(l1)\n",
    "\n",
    "print(next(myIterator))\n",
    "print(next(myIterator))\n",
    "print(next(myIterator))\n",
    "print(next(myIterator))\n",
    "print(next(myIterator))\n",
    "print(next(myIterator))"
   ]
  },
  {
   "attachments": {},
   "cell_type": "markdown",
   "metadata": {},
   "source": [
    "$$\n",
    "While Loop\n",
    "$$"
   ]
  },
  {
   "cell_type": "code",
   "execution_count": 2,
   "metadata": {},
   "outputs": [
    {
     "name": "stdout",
     "output_type": "stream",
     "text": [
      "5,4,3,2,1,"
     ]
    }
   ],
   "source": [
    "i=5\n",
    "while i>0:\n",
    "    print(i,end=',')\n",
    "    i-=1"
   ]
  },
  {
   "attachments": {},
   "cell_type": "markdown",
   "metadata": {},
   "source": [
    "Exit a loop with break"
   ]
  },
  {
   "cell_type": "code",
   "execution_count": 3,
   "metadata": {},
   "outputs": [
    {
     "name": "stdout",
     "output_type": "stream",
     "text": [
      "0\n",
      "1\n",
      "2\n",
      "Outside loop\n"
     ]
    }
   ],
   "source": [
    "for i in range(10):\n",
    "    print(i)\n",
    "    if i==2:\n",
    "        break\n",
    "print(\"Outside loop\")    "
   ]
  },
  {
   "cell_type": "code",
   "execution_count": null,
   "metadata": {},
   "outputs": [],
   "source": [
    "while True:                 #INFINITE LOOP [DO NOT EXECUTE]\n",
    "    print(\".\")"
   ]
  },
  {
   "cell_type": "code",
   "execution_count": 5,
   "metadata": {},
   "outputs": [
    {
     "name": "stdout",
     "output_type": "stream",
     "text": [
      "Inside\n",
      "Inside\n",
      "Inside\n",
      "Breaking loop\n",
      "am outside\n"
     ]
    }
   ],
   "source": [
    "i=5\n",
    "while i>0:\n",
    "    print(\"Inside\")\n",
    "    i=i-1\n",
    "    if(i<3):\n",
    "        print(\"Breaking loop\")\n",
    "        break\n",
    "print(\"am outside\")    "
   ]
  },
  {
   "attachments": {},
   "cell_type": "markdown",
   "metadata": {},
   "source": [
    "Continue"
   ]
  },
  {
   "cell_type": "code",
   "execution_count": 12,
   "metadata": {},
   "outputs": [
    {
     "name": "stdout",
     "output_type": "stream",
     "text": [
      "0\n",
      "1\n",
      "2\n",
      "3\n",
      "4\n",
      "skipped 5\n",
      "skipped 6\n",
      "7\n",
      "8\n",
      "9\n"
     ]
    }
   ],
   "source": [
    "for i in range(10):\n",
    "    if i==5 or i==6:\n",
    "        print(\"skipped\",i)\n",
    "        continue\n",
    "    print(i)"
   ]
  },
  {
   "attachments": {},
   "cell_type": "markdown",
   "metadata": {},
   "source": [
    "Function "
   ]
  },
  {
   "cell_type": "code",
   "execution_count": 2,
   "metadata": {},
   "outputs": [
    {
     "name": "stdout",
     "output_type": "stream",
     "text": [
      "function called a= 10\n"
     ]
    }
   ],
   "source": [
    "def add(a):\n",
    "    print(\"function called a=\",a)\n",
    "\n",
    "add(10)        "
   ]
  },
  {
   "cell_type": "code",
   "execution_count": 4,
   "metadata": {},
   "outputs": [
    {
     "name": "stdout",
     "output_type": "stream",
     "text": [
      "function called a= 10 20\n"
     ]
    }
   ],
   "source": [
    "def add(a,b):\n",
    "    print(\"function called a=\",a,b)\n",
    "\n",
    "add(10,20)        "
   ]
  },
  {
   "cell_type": "code",
   "execution_count": 6,
   "metadata": {},
   "outputs": [
    {
     "name": "stdout",
     "output_type": "stream",
     "text": [
      "sum= 30\n"
     ]
    }
   ],
   "source": [
    "def add(a,b):\n",
    "    sum=a+b\n",
    "    print(\"sum=\",sum)\n",
    "\n",
    "add(10,20)        "
   ]
  },
  {
   "cell_type": "code",
   "execution_count": 7,
   "metadata": {},
   "outputs": [
    {
     "name": "stdout",
     "output_type": "stream",
     "text": [
      "sum= 40\n"
     ]
    }
   ],
   "source": [
    "def add(a,b):\n",
    "    sum=a+b\n",
    "    return sum\n",
    "\n",
    "answer =add(10,30)\n",
    "print(\"sum=\",answer)"
   ]
  },
  {
   "cell_type": "code",
   "execution_count": 15,
   "metadata": {},
   "outputs": [
    {
     "name": "stdout",
     "output_type": "stream",
     "text": [
      "<zip object at 0x0000028CE990C980>\n",
      "(('A', 10), ('B', 8), ('C', 1), ('D', 5), ('E', 2), ('F', 6), ('G', 9))\n"
     ]
    }
   ],
   "source": [
    "name=['A','B','C','D','E','F','G']\n",
    "roll_no=[10,8,1,5,2,6,9]\n",
    "\n",
    "zipped=zip(name,roll_no)\n",
    "print(zipped)\n",
    "\n",
    "# print(set(zipped))\n",
    "\n",
    "# print(dict(zipped))\n",
    "\n",
    "print(tuple(zipped))"
   ]
  },
  {
   "cell_type": "code",
   "execution_count": 18,
   "metadata": {},
   "outputs": [
    {
     "name": "stdout",
     "output_type": "stream",
     "text": [
      "{'vinaya': 3, 'harish': 5, 'supriya': 2, 'huli': 6}\n"
     ]
    }
   ],
   "source": [
    "name=[\"vinaya\",\"harish\",\"supriya\",\"huli\"]\n",
    "roll_no=[3,5,2,6]\n",
    "\n",
    "mapped=zip(name,roll_no)\n",
    "\n",
    "# print(set(mapped))\n",
    "\n",
    "print(dict(mapped))"
   ]
  },
  {
   "attachments": {},
   "cell_type": "markdown",
   "metadata": {},
   "source": [
    "$$\n",
    "sqrt\n",
    "$$"
   ]
  },
  {
   "cell_type": "code",
   "execution_count": 11,
   "metadata": {},
   "outputs": [
    {
     "name": "stdout",
     "output_type": "stream",
     "text": [
      "2.0\n",
      "3.0\n",
      "1.7320508075688772\n",
      "1.4142135623730951\n"
     ]
    }
   ],
   "source": [
    "#square root\n",
    "import math\n",
    "\n",
    "def computer_sqrt(n): \n",
    "    result=math.sqrt(n)\n",
    "    print(result)\n",
    "\n",
    "computer_sqrt(4)  \n",
    "computer_sqrt(9) \n",
    "computer_sqrt(3)  \n",
    "computer_sqrt(2)\n"
   ]
  },
  {
   "cell_type": "code",
   "execution_count": 1,
   "metadata": {},
   "outputs": [
    {
     "name": "stdout",
     "output_type": "stream",
     "text": [
      "1.7320508075688772\n"
     ]
    }
   ],
   "source": [
    "import math\n",
    "\n",
    "def computer_sqrt(n): \n",
    "    result=math.sqrt(n)\n",
    "    return result\n",
    "\n",
    "ans=computer_sqrt(3)\n",
    "print(ans)"
   ]
  },
  {
   "attachments": {},
   "cell_type": "markdown",
   "metadata": {},
   "source": [
    "Enumerate"
   ]
  },
  {
   "cell_type": "code",
   "execution_count": 1,
   "metadata": {},
   "outputs": [
    {
     "name": "stdout",
     "output_type": "stream",
     "text": [
      "[(0, 'A'), (1, 'B'), (2, 'C')]\n"
     ]
    }
   ],
   "source": [
    "l1=['A','B','C']\n",
    "obj1=enumerate(l1)\n",
    "print(list(obj1))"
   ]
  },
  {
   "cell_type": "code",
   "execution_count": 1,
   "metadata": {},
   "outputs": [
    {
     "data": {
      "text/plain": [
       "8"
      ]
     },
     "execution_count": 1,
     "metadata": {},
     "output_type": "execute_result"
    }
   ],
   "source": [
    "def cube_function(n):\n",
    "    ans = n*n*n\n",
    "    return ans\n",
    "cube_function(2)\n"
   ]
  },
  {
   "attachments": {},
   "cell_type": "markdown",
   "metadata": {},
   "source": [
    "lambda function"
   ]
  },
  {
   "cell_type": "code",
   "execution_count": 6,
   "metadata": {},
   "outputs": [
    {
     "name": "stdout",
     "output_type": "stream",
     "text": [
      "12\n",
      "12\n"
     ]
    }
   ],
   "source": [
    "var = lambda a: a+10\n",
    "print(var(2))\n",
    "\n",
    "\n",
    "def add(a):\n",
    "    return a+10\n",
    "\n",
    "print(add(2))"
   ]
  },
  {
   "cell_type": "code",
   "execution_count": 8,
   "metadata": {},
   "outputs": [
    {
     "name": "stdout",
     "output_type": "stream",
     "text": [
      "False\n"
     ]
    }
   ],
   "source": [
    "var = lambda a: a>10\n",
    "print(var(2))"
   ]
  },
  {
   "cell_type": "code",
   "execution_count": 9,
   "metadata": {},
   "outputs": [
    {
     "name": "stdout",
     "output_type": "stream",
     "text": [
      "Even number\n"
     ]
    }
   ],
   "source": [
    "calc = lambda num: \"Even number\" if num%2==0 else \"odd number\"\n",
    "print(calc(10))"
   ]
  },
  {
   "cell_type": "code",
   "execution_count": 10,
   "metadata": {},
   "outputs": [
    {
     "data": {
      "text/plain": [
       "30"
      ]
     },
     "execution_count": 10,
     "metadata": {},
     "output_type": "execute_result"
    }
   ],
   "source": [
    "var = lambda:10+20   \n",
    "var()"
   ]
  },
  {
   "cell_type": "code",
   "execution_count": 17,
   "metadata": {},
   "outputs": [
    {
     "name": "stdout",
     "output_type": "stream",
     "text": [
      "4\n",
      "64\n",
      "From User def: 69\n"
     ]
    }
   ],
   "source": [
    "var1=lambda n: n*n    #2*2\n",
    "var2=lambda n: n*n*n    #4*4*4\n",
    "\n",
    "ans=var1(2)            #ans=4\n",
    "print(ans)             #print value 4 \n",
    "print(var2(ans))       #var(4)=4*4*4\n",
    "\n",
    "def call_func():\n",
    "    ans = var1(2)+1           #ans=4+1\n",
    "    result = var2(4)+ans      #result=(4*4*4)+1=69\n",
    "    print(\"From User def:\",result)\n",
    "    \n",
    "call_func()   "
   ]
  },
  {
   "cell_type": "code",
   "execution_count": 23,
   "metadata": {},
   "outputs": [
    {
     "name": "stdout",
     "output_type": "stream",
     "text": [
      "<function <lambda> at 0x00000214B64D4FE0>\n"
     ]
    }
   ],
   "source": [
    "string = 'Python'\n",
    " \n",
    "# lambda returns a function object\n",
    "print( lambda string:string)"
   ]
  },
  {
   "cell_type": "code",
   "execution_count": 26,
   "metadata": {},
   "outputs": [
    {
     "name": "stdout",
     "output_type": "stream",
     "text": [
      "False\n"
     ]
    }
   ],
   "source": [
    "#program to find odd and even\n",
    "calc = lambda num: \"True\" if num%2==0 else \"False\"\n",
    "print(calc(5))"
   ]
  },
  {
   "cell_type": "code",
   "execution_count": null,
   "metadata": {},
   "outputs": [],
   "source": [
    "#assignment\n",
    "# program for enrolling students with details (take the details)\n",
    "# storing in a txt file  (in external file)\n",
    "# and retriving \n",
    "\n",
    "#file handling gfg"
   ]
  },
  {
   "attachments": {},
   "cell_type": "markdown",
   "metadata": {},
   "source": [
    "FILE"
   ]
  },
  {
   "cell_type": "code",
   "execution_count": 22,
   "metadata": {},
   "outputs": [
    {
     "name": "stdout",
     "output_type": "stream",
     "text": [
      " Hi Hi \n"
     ]
    }
   ],
   "source": [
    "#creating a txt file\n",
    "file1=open(\"vin.txt\",\"a\")\n",
    "file1.write(\"Hi \")\n",
    "file1.close()\n",
    "\n",
    "file1=open(\"vin.txt\",\"r\")\n",
    "print(file1.read())\n",
    "file1.close()"
   ]
  },
  {
   "attachments": {},
   "cell_type": "markdown",
   "metadata": {},
   "source": [
    "iter()  next()"
   ]
  },
  {
   "cell_type": "code",
   "execution_count": 29,
   "metadata": {},
   "outputs": [
    {
     "name": "stdout",
     "output_type": "stream",
     "text": [
      "alpha\n",
      "beta\n",
      "gamma\n"
     ]
    }
   ],
   "source": [
    "mytuple = (\"alpha\",\"beta\",\"gamma\")\n",
    "myit = iter(mytuple)\n",
    "\n",
    "print(next(myit))\n",
    "print(next(myit))\n",
    "print(next(myit))"
   ]
  },
  {
   "cell_type": "code",
   "execution_count": 30,
   "metadata": {},
   "outputs": [
    {
     "name": "stdout",
     "output_type": "stream",
     "text": [
      "alpha\n",
      "beta\n",
      "gamma\n"
     ]
    }
   ],
   "source": [
    "tuple=(\"alpha\",\"beta\",\"gamma\")\n",
    "for x in mytuple:\n",
    "    print(x)"
   ]
  },
  {
   "cell_type": "code",
   "execution_count": 35,
   "metadata": {},
   "outputs": [
    {
     "name": "stdout",
     "output_type": "stream",
     "text": [
      "3\n",
      "4\n"
     ]
    }
   ],
   "source": [
    "list1=[1,2,3,4]\n",
    "\n",
    "iterator_obj=iter(list1)\n",
    "next(iterator_obj)\n",
    "next(iterator_obj)\n",
    "print(next(iterator_obj))\n",
    "print(next(iterator_obj))\n"
   ]
  },
  {
   "cell_type": "code",
   "execution_count": 44,
   "metadata": {},
   "outputs": [
    {
     "name": "stdout",
     "output_type": "stream",
     "text": [
      "P\n",
      "y\n",
      "t\n",
      "h\n",
      "o\n",
      "n\n"
     ]
    }
   ],
   "source": [
    "string1=\"Python\"\n",
    "Iter=iter(string1)\n",
    "print(next(Iter))\n",
    "print(next(Iter))\n",
    "print(next(Iter))\n",
    "print(next(Iter))\n",
    "print(next(Iter))\n",
    "print(next(Iter))\n",
    "\n"
   ]
  },
  {
   "cell_type": "code",
   "execution_count": 61,
   "metadata": {},
   "outputs": [
    {
     "name": "stdout",
     "output_type": "stream",
     "text": [
      "P\n",
      "skipped y\n",
      "t\n",
      "h\n",
      "skipped o\n",
      "n\n"
     ]
    }
   ],
   "source": [
    "string1=\"Python\"\n",
    "Iter=iter(string1)           \n",
    "for i in Iter:\n",
    "    if i==\"y\" or i==\"o\":\n",
    "        print(\"skipped\",i)\n",
    "        continue\n",
    "    print(i)"
   ]
  },
  {
   "attachments": {},
   "cell_type": "markdown",
   "metadata": {},
   "source": [
    "Generators"
   ]
  },
  {
   "cell_type": "code",
   "execution_count": null,
   "metadata": {},
   "outputs": [],
   "source": []
  }
 ],
 "metadata": {
  "kernelspec": {
   "display_name": "Python 3",
   "language": "python",
   "name": "python3"
  },
  "language_info": {
   "codemirror_mode": {
    "name": "ipython",
    "version": 3
   },
   "file_extension": ".py",
   "mimetype": "text/x-python",
   "name": "python",
   "nbconvert_exporter": "python",
   "pygments_lexer": "ipython3",
   "version": "3.11.2"
  },
  "orig_nbformat": 4
 },
 "nbformat": 4,
 "nbformat_minor": 2
}
