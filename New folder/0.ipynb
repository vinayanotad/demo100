{
 "cells": [
  {
   "cell_type": "code",
   "execution_count": 1,
   "metadata": {},
   "outputs": [
    {
     "name": "stdout",
     "output_type": "stream",
     "text": [
      "Hello python\n"
     ]
    }
   ],
   "source": [
    "print(\"Hello python\")"
   ]
  },
  {
   "attachments": {},
   "cell_type": "markdown",
   "metadata": {},
   "source": [
    "$$\n",
    "SETS\n",
    "$$\n"
   ]
  },
  {
   "cell_type": "code",
   "execution_count": 3,
   "metadata": {},
   "outputs": [
    {
     "name": "stdout",
     "output_type": "stream",
     "text": [
      "{'P', 'l', 't', 's', 'h', 'e', 'W', 'r', 'o', 'd', ' ', 'y', 'n', 'i'}\n",
      "{1, 2, 3.5, 3, 4, 5, 6, 'Python'}\n"
     ]
    }
   ],
   "source": [
    "s1=set(\"Python is on the World\")\n",
    "s2=set([1,2,3,3,3.5,'Python',4,4,5,6])\n",
    "print(s1)\n",
    "print(s2)"
   ]
  },
  {
   "cell_type": "code",
   "execution_count": 7,
   "metadata": {},
   "outputs": [
    {
     "name": "stdout",
     "output_type": "stream",
     "text": [
      "Python is on the World\n"
     ]
    }
   ],
   "source": [
    "s1=set([\"Python is on the World\"])  #square brackets it considers as one\n",
    "for i in s1:\n",
    "    print(i)\n"
   ]
  },
  {
   "cell_type": "code",
   "execution_count": 11,
   "metadata": {},
   "outputs": [
    {
     "name": "stdout",
     "output_type": "stream",
     "text": [
      "1\n",
      "P\n",
      "2\n",
      "l\n",
      "3\n",
      "t\n",
      "4\n",
      "s\n",
      "5\n",
      "h\n",
      "6\n",
      "e\n",
      "7\n",
      "W\n",
      "8\n",
      "r\n",
      "9\n",
      "o\n",
      "10\n",
      "d\n",
      "11\n",
      " \n",
      "12\n",
      "y\n",
      "13\n",
      "n\n",
      "14\n",
      "i\n"
     ]
    }
   ],
   "source": [
    "s1=set(\"Python is on the World\")\n",
    "j=1\n",
    "for i in s1:\n",
    "    print(j)\n",
    "    print(i)\n",
    "    j+=1\n",
    "\n"
   ]
  },
  {
   "cell_type": "code",
   "execution_count": 21,
   "metadata": {},
   "outputs": [
    {
     "name": "stdout",
     "output_type": "stream",
     "text": [
      "<class 'set'>\n",
      "3\n",
      "2\n",
      "10\n",
      "Python\n"
     ]
    }
   ],
   "source": [
    "s1={10,2,3,\"Python\"}\n",
    "print(type(s1))\n",
    "for i in s1:\n",
    "    print(i)"
   ]
  },
  {
   "cell_type": "code",
   "execution_count": 4,
   "metadata": {},
   "outputs": [
    {
     "name": "stdout",
     "output_type": "stream",
     "text": [
      "1\n",
      "2\n",
      "3\n",
      "4\n",
      "5\n",
      "{8, 9, 6, 7}\n"
     ]
    }
   ],
   "source": [
    "s1={6,7,8}\n",
    "\n",
    "s1.add(9)\n",
    "\n",
    "for i in range(1,6):\n",
    "    print(i)\n",
    "\n",
    "print(s1)"
   ]
  },
  {
   "cell_type": "code",
   "execution_count": 5,
   "metadata": {},
   "outputs": [
    {
     "name": "stdout",
     "output_type": "stream",
     "text": [
      "<class 'set'>\n",
      "{3, 2, 'Python'}\n"
     ]
    }
   ],
   "source": [
    "s1={10,2,3,\"Python\"}\n",
    "print(type(s1))\n",
    "s1.remove(10)\n",
    "print(s1)"
   ]
  },
  {
   "attachments": {},
   "cell_type": "markdown",
   "metadata": {},
   "source": [
    "\n",
    "$$$$\n",
    "$$\n",
    "DICTIONARIES\n",
    "$$\n",
    "$$"
   ]
  }
 ],
 "metadata": {
  "kernelspec": {
   "display_name": "Python 3",
   "language": "python",
   "name": "python3"
  },
  "language_info": {
   "codemirror_mode": {
    "name": "ipython",
    "version": 3
   },
   "file_extension": ".py",
   "mimetype": "text/x-python",
   "name": "python",
   "nbconvert_exporter": "python",
   "pygments_lexer": "ipython3",
   "version": "3.11.2"
  },
  "orig_nbformat": 4
 },
 "nbformat": 4,
 "nbformat_minor": 2
}
