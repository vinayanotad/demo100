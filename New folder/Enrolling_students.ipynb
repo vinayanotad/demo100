{
 "cells": [
  {
   "cell_type": "code",
   "execution_count": 2,
   "metadata": {},
   "outputs": [
    {
     "name": "stdout",
     "output_type": "stream",
     "text": [
      "\n",
      "1. Enroll a student\n",
      "2. Retrieve all students\n",
      "3. Quit\n",
      "Student details:\n",
      "vinaya, 21, 1, chinnunotad2001@gmail.com, 7019885903\n",
      "amulya, 15, 2, ammunotad@gmail.com, 9845066651\n",
      "lalita, 12, 3, lalita@gmail.com, 9663202156\n",
      "ramesh, 22, 4, ram2@gmail.com, 9113202156\n",
      "\n",
      "1. Enroll a student\n",
      "2. Retrieve all students\n",
      "3. Quit\n"
     ]
    }
   ],
   "source": [
    "def enroll_student():\n",
    "    name = input(\"Enter student name: \")\n",
    "    age = input(\"Enter student age: \")\n",
    "    roll_no = input(\"Enter student roll number: \")\n",
    "    email = input(\"Enter student email: \")\n",
    "    phone = input(\"Enter student phone number: \")\n",
    "    \n",
    "    # Write student details to file\n",
    "    with open(\"students.txt\", \"a\") as file:\n",
    "        file.write(f\"{name}, {age}, {roll_no}, {email}, {phone}\\n\")\n",
    "        \n",
    "    print(\"Student enrolled successfully!\")\n",
    "\n",
    "\n",
    "def retrieve_students():\n",
    "    # Read student details from file\n",
    "    with open(\"students.txt\", \"r\") as file:\n",
    "        students = file.readlines()\n",
    "        \n",
    "    # Print student details\n",
    "    if students:\n",
    "        print(\"Student details:\")\n",
    "        for student in students:\n",
    "            print(student.strip())\n",
    "    else:\n",
    "        print(\"No student details found.\")\n",
    "\n",
    "\n",
    "while True:\n",
    "    print(\"\\n1. Enroll a student\\n2. Retrieve all students\\n3. Quit\")\n",
    "    choice = input(\"Enter your choice: \")\n",
    "    \n",
    "    if choice == \"1\":\n",
    "        enroll_student()\n",
    "    elif choice == \"2\":\n",
    "        retrieve_students()\n",
    "    elif choice == \"3\":\n",
    "        break\n",
    "    else:\n",
    "        print(\"Invalid choice. Please try again.\")\n"
   ]
  }
 ],
 "metadata": {
  "kernelspec": {
   "display_name": "Python 3",
   "language": "python",
   "name": "python3"
  },
  "language_info": {
   "codemirror_mode": {
    "name": "ipython",
    "version": 3
   },
   "file_extension": ".py",
   "mimetype": "text/x-python",
   "name": "python",
   "nbconvert_exporter": "python",
   "pygments_lexer": "ipython3",
   "version": "3.11.2"
  },
  "orig_nbformat": 4
 },
 "nbformat": 4,
 "nbformat_minor": 2
}
