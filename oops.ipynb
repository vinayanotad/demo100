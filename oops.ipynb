{
 "cells": [
  {
   "attachments": {},
   "cell_type": "markdown",
   "metadata": {},
   "source": [
    "OOPS CONCEPT"
   ]
  },
  {
   "cell_type": "code",
   "execution_count": 11,
   "metadata": {},
   "outputs": [
    {
     "name": "stdout",
     "output_type": "stream",
     "text": [
      "ON: False\n",
      "OFF: True\n",
      "False\n"
     ]
    }
   ],
   "source": [
    "class Bulb:\n",
    "    #Attributes\n",
    "    ON = True\n",
    "    OFF = False\n",
    "    \n",
    "    #methods\n",
    "    def Status(self):\n",
    "        print(\"ON:\",self.OFF)\n",
    "        print(\"OFF:\",self.ON)\n",
    "            \n",
    "Obj = Bulb()\n",
    "Obj.Status()\n",
    "print(Obj.OFF)  \n",
    "           "
   ]
  },
  {
   "cell_type": "code",
   "execution_count": 13,
   "metadata": {},
   "outputs": [
    {
     "name": "stdout",
     "output_type": "stream",
     "text": [
      "ON: hi\n",
      "OFF: Hello\n"
     ]
    }
   ],
   "source": [
    "class Bulb:\n",
    "    #Attributes\n",
    "    ON = True\n",
    "    OFF = False\n",
    "        \n",
    "    #methods\n",
    "    def Status(self,ON,OFF):\n",
    "        print(\"ON:\",OFF)\n",
    "        print(\"OFF:\",ON)\n",
    "            \n",
    "Obj = Bulb()\n",
    "Obj.Status(\"Hello\",\"hi\")\n",
    " \n",
    "           "
   ]
  },
  {
   "cell_type": "code",
   "execution_count": 16,
   "metadata": {},
   "outputs": [
    {
     "name": "stdout",
     "output_type": "stream",
     "text": [
      "ON: False\n",
      "OFF: True\n",
      "False\n"
     ]
    }
   ],
   "source": [
    "class Bulb:\n",
    "    #Attributes\n",
    "    ON = True\n",
    "    OFF = False\n",
    "    \n",
    "    def __init__(self,Status1,Status2):\n",
    "        self.ON=Status1\n",
    "        self.OFF=Status2\n",
    "        \n",
    "    \n",
    "    #methods\n",
    "    def Status(self):\n",
    "        print(\"ON:\",self.OFF)\n",
    "        print(\"OFF:\",self.ON)\n",
    "            \n",
    "Obj = Bulb(True,False)\n",
    "Obj.Status()\n",
    "print(Obj.OFF)  \n",
    "           "
   ]
  },
  {
   "cell_type": "code",
   "execution_count": 21,
   "metadata": {},
   "outputs": [
    {
     "name": "stdout",
     "output_type": "stream",
     "text": [
      "Car details: 4 5 maruti 800 Petrol 800\n"
     ]
    }
   ],
   "source": [
    "class Car:\n",
    "    wheels=4\n",
    "    SeatingCapacity=5\n",
    "    Nameofthecar = \"\"\n",
    "    Model=\"\"\n",
    "    Fueltype=\"\"\n",
    "    CC = \"\"                                                                 #construct\n",
    "    \n",
    "    def __init__(self,wheels,SeatingCapacity,Nameofthecar,Model,Fueltype,CC):   #init - initilization of object\n",
    "        self.wheels=wheels\n",
    "        self.SeatingCapacity=SeatingCapacity\n",
    "        self.Nameofthecar=Nameofthecar\n",
    "        self.Model=Model\n",
    "        self.Fueltype=Fueltype\n",
    "        self.CC=CC\n",
    "        \n",
    "    def cardetails(self):\n",
    "        print(\"Car details:\",self.wheels,self.SeatingCapacity,self.Nameofthecar,self.Model,self.Fueltype,self.CC)    \n",
    "        \n",
    "Obj = Car(4 ,5 , \"maruti\",\"800\",\"Petrol\",\"800\")\n",
    "Obj.cardetails()"
   ]
  },
  {
   "cell_type": "code",
   "execution_count": 7,
   "metadata": {},
   "outputs": [
    {
     "name": "stdout",
     "output_type": "stream",
     "text": [
      "Calling number... 7019885903\n",
      "Sending text to 4567-2345-22: Hello!\n"
     ]
    }
   ],
   "source": [
    "class Phone:\n",
    "    def __init__(self, brand, model, color, battery_level):\n",
    "        self.brand = brand\n",
    "        self.model = model\n",
    "        self.color = color\n",
    "        self.battery_level = battery_level\n",
    "        \n",
    "    def make_call(self, number):\n",
    "        print(\"Calling number...\",number)\n",
    "\n",
    "    def send_text(self, number, message):\n",
    "        print(f\"Sending text to {number}: {message}\") \n",
    "        \n",
    "Obj = Phone(\"Apple\",\"iPhone 14\",\"black\",100)  \n",
    "\n",
    "Obj.make_call(\"7019885903\")\n",
    "Obj.send_text(\"4567-2345-22\",\"Hello!\")                 \n",
    "    "
   ]
  },
  {
   "cell_type": "code",
   "execution_count": 9,
   "metadata": {},
   "outputs": [
    {
     "name": "stdout",
     "output_type": "stream",
     "text": [
      "Pedaling...\n"
     ]
    }
   ],
   "source": [
    "class Bicycle:\n",
    "    def __init__(self, brand, model, color, wheel_size, current_gear):\n",
    "        self.brand = brand\n",
    "        self.model = model\n",
    "        self.color = color\n",
    "        self.wheel_size = wheel_size\n",
    "        self.current_gear = current_gear\n",
    "        \n",
    "    def change_gear(self, gear):\n",
    "        self.current_gear = gear\n",
    "\n",
    "    def pedal(self):\n",
    "        print(\"Pedaling...\") \n",
    "        \n",
    "Obj = Bicycle(\"Giant\",\"Talon\",\"Blue\",\"27.5\",\"2\")\n",
    "\n",
    "Obj.change_gear(2) \n",
    "Obj.pedal()            "
   ]
  },
  {
   "cell_type": "code",
   "execution_count": 12,
   "metadata": {},
   "outputs": [
    {
     "name": "stdout",
     "output_type": "stream",
     "text": [
      "Woof woof!\n",
      "*wags tail*\n"
     ]
    }
   ],
   "source": [
    "class Dog:\n",
    "    def __init__(self, name, breed, age, color):\n",
    "        self.name = name\n",
    "        self.breed = breed\n",
    "        self.age = age\n",
    "        self.color = color\n",
    "\n",
    "    def bark(self):\n",
    "        print(\"Woof woof!\")\n",
    "\n",
    "    def wag_tail(self):\n",
    "        print(\"*wags tail*\")\n",
    "        \n",
    "Obj = Dog(\"Luna\",\"German Shepherd\",2,\"Black\") \n",
    "Obj1 = Dog(\"Buddy\",\"Labrador\",3,\"Golden\") \n",
    "\n",
    "Obj.bark() \n",
    "Obj1.wag_tail()  "
   ]
  },
  {
   "cell_type": "code",
   "execution_count": 9,
   "metadata": {},
   "outputs": [
    {
     "name": "stdout",
     "output_type": "stream",
     "text": [
      "No fuel\n",
      "Goods are loaded\n"
     ]
    }
   ],
   "source": [
    "class Truck:\n",
    "    seat = 2\n",
    "    tyre = 6\n",
    "    fuel =\"D\"\n",
    "    carrier = \"Goods\"\n",
    "    fuelstate = True \n",
    "    loadstate = True\n",
    "    \n",
    "    #constructor\n",
    "    def __init__(self,seat,tyre,fuel,carrier,fuelstate,loadstate):\n",
    "        self.seat = seat\n",
    "        self.tyre = tyre\n",
    "        self.fuel = fuel\n",
    "        self.carrier=carrier\n",
    "        self.fuelstate = fuelstate\n",
    "        self.loadstate = loadstate\n",
    "        \n",
    "    #methods\n",
    "    def Drive(self,fuelstate):\n",
    "        if fuelstate==True:\n",
    "            print(\"Driving\")\n",
    "        else:\n",
    "            print(\"No fuel\")\n",
    "            \n",
    "        \n",
    "    def load(self):\n",
    "        print(\"Goods are loaded\")\n",
    "        # if loadstate==True:\n",
    "        #     print(\"goods are loaded\")\n",
    "        # else:\n",
    "        #     print(\"Goods are not loaded\")\n",
    "            \n",
    "Obj= Truck(2,6,\"Diesel\",\"Goods\",\"True\",\"True\") \n",
    "Obj1 = Truck(4,8,\"Petrol\",\"Goods\",\"True\",\"False\")\n",
    "\n",
    "Obj.Drive(False)\n",
    "Obj1.load()                        \n",
    "        "
   ]
  },
  {
   "attachments": {},
   "cell_type": "markdown",
   "metadata": {},
   "source": [
    "create a student class and initialize it with student details like name,class,marks1,marks2,marks3 and show all details of student with one method and another for showing sum of all three subject marks"
   ]
  },
  {
   "cell_type": "code",
   "execution_count": 27,
   "metadata": {},
   "outputs": [
    {
     "name": "stdout",
     "output_type": "stream",
     "text": [
      "student info Vinaya 12 std 99 99 99\n",
      "Total sum of marks 297\n",
      "Eligible \n",
      "student info Amulya 9 std 45 65 76\n",
      "Total sum of marks 186\n",
      "Not eligible\n",
      "student info Lalita 6 std 76 87 93\n",
      "Total sum of marks 256\n",
      "Eligible \n"
     ]
    }
   ],
   "source": [
    "class Student:\n",
    "    name=\" \"\n",
    "    standard=\" \"\n",
    "    m1 = 0\n",
    "    m2 = 0\n",
    "    m3 =0\n",
    "    sum=0\n",
    "    \n",
    "    def __init__(self,name,standard,m1,m2,m3):\n",
    "        self.name = name\n",
    "        self.standard = standard\n",
    "        self.m1 = m1\n",
    "        self.m2=m2\n",
    "        self.m3=m3\n",
    "        \n",
    "        \n",
    "    def studinfo(self):\n",
    "        print(\"student info\",self.name,self.standard,self.m1,self.m2,self.m3)\n",
    "        \n",
    "    def sum1(self):\n",
    "        self.sum=self.m1+self.m2+self.m3\n",
    "        print(\"Total sum of marks\",self.sum)\n",
    "        \n",
    "    def result(self):\n",
    "        if(self.sum>=250):\n",
    "            print(\"Eligible \")  \n",
    "        else:\n",
    "            print(\"Not eligible\")      \n",
    "        \n",
    "stud1 = Student(\"Vinaya\",\"12 std\",99,99,99)  \n",
    "stud2 = Student(\"Amulya\",\"9 std\",45,65,76) \n",
    "stud3 = Student(\"Lalita\",\"6 std\",76,87,93)\n",
    "\n",
    "stud1.studinfo() \n",
    "stud1.sum1() \n",
    "stud1.result()\n",
    "\n",
    "stud2.studinfo()\n",
    "stud2.sum1()\n",
    "stud2.result()\n",
    "\n",
    "stud3.studinfo()\n",
    "stud3.sum1()\n",
    "stud3.result() \n",
    "    "
   ]
  },
  {
   "attachments": {},
   "cell_type": "markdown",
   "metadata": {},
   "source": [
    "polymorphism"
   ]
  },
  {
   "cell_type": "code",
   "execution_count": 4,
   "metadata": {},
   "outputs": [
    {
     "name": "stdout",
     "output_type": "stream",
     "text": [
      "There are many types of birds\n",
      "Sparrow Intro\n",
      "There are many types of birds\n",
      "Sparrow in Display\n",
      "Most of the birds can fly but some cannot\n",
      "Sparrows can fly\n",
      "Ostrich cannot fly\n"
     ]
    }
   ],
   "source": [
    "class Bird():\n",
    "    def Intro(self):\n",
    "        print(\"There are many types of birds\")\n",
    "    def flight(self):\n",
    "        print(\"Most of the birds can fly but some cannot\")\n",
    "\n",
    "class Sparrow(Bird):\n",
    "    def Intro(self):\n",
    "        print(\"Sparrow Intro\")\n",
    "    def flight(self):\n",
    "        print(\"Sparrows can fly\")\n",
    "    def display(self):\n",
    "        print(\"Sparrow in Display\")\n",
    "\n",
    "class Ostrich(Bird):\n",
    "    def flight(self):\n",
    "        print(\"Ostrich cannot fly\")\n",
    "\n",
    "obj_Bird = Bird()\n",
    "obj_Sparrow = Sparrow()\n",
    "obj_Ostrich=Ostrich()\n",
    "\n",
    "obj_Bird.Intro()\n",
    "obj_Sparrow.Intro()\n",
    "obj_Ostrich.Intro()\n",
    "\n",
    "obj_Sparrow.display()\n",
    "\n",
    "obj_Bird.flight()\n",
    "obj_Sparrow.flight()\n",
    "obj_Ostrich.flight()"
   ]
  },
  {
   "cell_type": "code",
   "execution_count": 7,
   "metadata": {},
   "outputs": [
    {
     "name": "stdout",
     "output_type": "stream",
     "text": [
      "Car info Dislay\n",
      "Truck info display\n"
     ]
    }
   ],
   "source": [
    "class Car():\n",
    "    def display(self):\n",
    "        print(\"Car info Dislay\")\n",
    "    \n",
    "class Truck():\n",
    "    def display(self):\n",
    "        print(\"Truck info display\")\n",
    "        \n",
    "obj1 = Car()\n",
    "obj2 = Truck()\n",
    "\n",
    "def func( obj):\n",
    "    obj.display()\n",
    "    \n",
    "func(obj1) \n",
    "func(obj2)   \n",
    "          "
   ]
  },
  {
   "attachments": {},
   "cell_type": "markdown",
   "metadata": {},
   "source": [
    "Encapsulation"
   ]
  },
  {
   "cell_type": "code",
   "execution_count": 16,
   "metadata": {},
   "outputs": [
    {
     "name": "stdout",
     "output_type": "stream",
     "text": [
      "Python\n",
      "Hello\n"
     ]
    },
    {
     "ename": "AttributeError",
     "evalue": "'Derived' object has no attribute '_Derived__c'",
     "output_type": "error",
     "traceback": [
      "\u001b[1;31m---------------------------------------------------------------------------\u001b[0m",
      "\u001b[1;31mAttributeError\u001b[0m                            Traceback (most recent call last)",
      "Cell \u001b[1;32mIn[16], line 22\u001b[0m\n\u001b[0;32m     19\u001b[0m \u001b[39mprint\u001b[39m(obj1\u001b[39m.\u001b[39ma)\n\u001b[0;32m     20\u001b[0m \u001b[39mprint\u001b[39m(obj1\u001b[39m.\u001b[39mb)\n\u001b[1;32m---> 22\u001b[0m obj2 \u001b[39m=\u001b[39m Derived()\n\u001b[0;32m     23\u001b[0m \u001b[39mprint\u001b[39m(obj2\u001b[39m.\u001b[39m__c)         \n",
      "Cell \u001b[1;32mIn[16], line 16\u001b[0m, in \u001b[0;36mDerived.__init__\u001b[1;34m(self)\u001b[0m\n\u001b[0;32m     14\u001b[0m \u001b[39mdef\u001b[39;00m \u001b[39m__init__\u001b[39m(\u001b[39mself\u001b[39m) :\n\u001b[0;32m     15\u001b[0m     Base\u001b[39m.\u001b[39m\u001b[39m__init__\u001b[39m(\u001b[39mself\u001b[39m)  \n\u001b[1;32m---> 16\u001b[0m     \u001b[39mprint\u001b[39m(\u001b[39mself\u001b[39;49m\u001b[39m.\u001b[39;49m__c)\n",
      "\u001b[1;31mAttributeError\u001b[0m: 'Derived' object has no attribute '_Derived__c'"
     ]
    }
   ],
   "source": [
    "class Base():\n",
    "    \n",
    "    a=0\n",
    "    __c = 0\n",
    "    b=0\n",
    "    \n",
    "    def __init__(self):\n",
    "        self.a=\"Python\"\n",
    "        self.__c=\"programming\"\n",
    "        self.b=\"Hello\"\n",
    "        \n",
    "class Derived(Base):\n",
    "    \n",
    "    def __init__(self) :\n",
    "        Base.__init__(self)  \n",
    "        print(self.__c)\n",
    "        \n",
    "obj1 = Base()\n",
    "print(obj1.a)\n",
    "print(obj1.b)\n",
    "\n",
    "obj2 = Derived()\n",
    "print(obj2.__c)         "
   ]
  },
  {
   "attachments": {},
   "cell_type": "markdown",
   "metadata": {},
   "source": [
    "Inheritance Demo"
   ]
  },
  {
   "cell_type": "code",
   "execution_count": 26,
   "metadata": {},
   "outputs": [
    {
     "name": "stdout",
     "output_type": "stream",
     "text": [
      "Sum is: 30\n"
     ]
    }
   ],
   "source": [
    "class Base():\n",
    "    a=10\n",
    "    \n",
    "class Derived(Base):\n",
    "    b=20                         # a val of Parent(Base) is virtually given to Derived(child)\n",
    "    \n",
    "    def add(self):\n",
    "        c=self.a+self.b\n",
    "        print(\"Sum is:\",c)\n",
    "        \n",
    "obj = Derived()\n",
    "obj.add()        "
   ]
  },
  {
   "attachments": {},
   "cell_type": "markdown",
   "metadata": {},
   "source": [
    "Data Abstraction"
   ]
  },
  {
   "attachments": {},
   "cell_type": "markdown",
   "metadata": {},
   "source": [
    "pass"
   ]
  },
  {
   "cell_type": "code",
   "execution_count": 29,
   "metadata": {},
   "outputs": [],
   "source": [
    "class Pass_Class():\n",
    "    def Pass_func(self,):\n",
    "        if 20>10:\n",
    "            pass                     #if we dont want write the code instead of living empty can write pass\n",
    "                                    #using pass it does nt give any error\n",
    "\n",
    "obj1 = Pass_Class()\n",
    "obj1.Pass_func()                                     "
   ]
  },
  {
   "cell_type": "code",
   "execution_count": 40,
   "metadata": {},
   "outputs": [
    {
     "name": "stdout",
     "output_type": "stream",
     "text": [
      "20is greater\n",
      "10 is smaaller\n"
     ]
    }
   ],
   "source": [
    "class Pass_Class():\n",
    "    def Pass_func(self,):\n",
    "        \n",
    "        if 20>10:\n",
    "            print(\"20is greater\")\n",
    "            pass \n",
    "            print(\"10 is smaaller\")\n",
    "            \n",
    "obj1 = Pass_Class()\n",
    "obj1.Pass_func()            "
   ]
  },
  {
   "attachments": {},
   "cell_type": "markdown",
   "metadata": {},
   "source": [
    "data abstraction"
   ]
  },
  {
   "cell_type": "code",
   "execution_count": 38,
   "metadata": {},
   "outputs": [
    {
     "name": "stdout",
     "output_type": "stream",
     "text": [
      "No of side is Three\n"
     ]
    }
   ],
   "source": [
    "from abc import ABC, abstractmethod\n",
    "\n",
    "class Polygon(ABC):\n",
    "    # @abst\n",
    "    # sides(self):\n",
    "        pass\n",
    "\n",
    "class Rectangle() :\n",
    "    \n",
    "    #overriding abstract method\n",
    "    def noofside(self) :\n",
    "        print(\"No of sides is four\") \n",
    "        \n",
    "class Triangle():\n",
    "    \n",
    "    def noofsides(self):\n",
    "        print(\"No of side is Three\")   \n",
    "        \n",
    "obj = Triangle()\n",
    "obj.noofsides()              "
   ]
  },
  {
   "attachments": {},
   "cell_type": "markdown",
   "metadata": {},
   "source": [
    "create 5 classes of engineers with their attributes with job descriptions using inheritance"
   ]
  },
  {
   "cell_type": "code",
   "execution_count": 9,
   "metadata": {},
   "outputs": [
    {
     "name": "stdout",
     "output_type": "stream",
     "text": [
      "John Doe 5 30\n"
     ]
    }
   ],
   "source": [
    "class Engineer:\n",
    "    name = \"\"\n",
    "    age =0\n",
    "    experience = 0 \n",
    "    \n",
    "    def __init__(self, name, age, experience):\n",
    "        self.name = name\n",
    "        self.age = age\n",
    "        self.experience = experience\n",
    "    \n",
    "    def job_description(self):\n",
    "        pass\n",
    "\n",
    "\n",
    "class SoftwareEngineer(Engineer):\n",
    "\n",
    "    def job_description(self):\n",
    "        print(self.name ,\"is a software engineer with \",self.experience,\" years of experience. \")\n",
    "\n",
    "\n",
    "class MechanicalEngineer(Engineer):\n",
    "   \n",
    "    \n",
    "    def job_description(self):\n",
    "        print(self.name,self.age,self.experience)\n",
    "        \n",
    "class ElectricalEngineer(Engineer):\n",
    "    \n",
    "    \n",
    "    def job_description(self):\n",
    "        return f\"{self.name} is an electrical engineer with {self.experience} years of experience. They specialize in {self.domain}.\"\n",
    "\n",
    "\n",
    "class CivilEngineer(Engineer):\n",
    "    \n",
    "    def job_description(self):\n",
    "        return f\"{self.name} is a civil engineer with {self.experience} years of experience. They specialize in {self.project_type} projects.\"\n",
    "\n",
    "\n",
    "class ChemicalEngineer(Engineer):\n",
    "    \n",
    "    def job_description(self):\n",
    "        return f\"{self.name} is a chemical engineer with {self.experience} years of experience. They specialize in the {self.industry} industry.\"\n",
    "\n",
    "\n",
    "# Example usage:\n",
    "software_engineer = MechanicalEngineer(\"John Doe\",  5, 30)\n",
    "software_engineer.job_description()\n"
   ]
  }
 ],
 "metadata": {
  "kernelspec": {
   "display_name": "Python 3",
   "language": "python",
   "name": "python3"
  },
  "language_info": {
   "codemirror_mode": {
    "name": "ipython",
    "version": 3
   },
   "file_extension": ".py",
   "mimetype": "text/x-python",
   "name": "python",
   "nbconvert_exporter": "python",
   "pygments_lexer": "ipython3",
   "version": "3.11.2"
  },
  "orig_nbformat": 4
 },
 "nbformat": 4,
 "nbformat_minor": 2
}
