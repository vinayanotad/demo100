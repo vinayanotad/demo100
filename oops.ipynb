{
 "cells": [
  {
   "attachments": {},
   "cell_type": "markdown",
   "metadata": {},
   "source": [
    "OOPS CONCEPT"
   ]
  },
  {
   "cell_type": "code",
   "execution_count": 11,
   "metadata": {},
   "outputs": [
    {
     "name": "stdout",
     "output_type": "stream",
     "text": [
      "ON: False\n",
      "OFF: True\n",
      "False\n"
     ]
    }
   ],
   "source": [
    "class Bulb:\n",
    "    #Attributes\n",
    "    ON = True\n",
    "    OFF = False\n",
    "    \n",
    "    #methods\n",
    "    def Status(self):\n",
    "        print(\"ON:\",self.OFF)\n",
    "        print(\"OFF:\",self.ON)\n",
    "            \n",
    "Obj = Bulb()\n",
    "Obj.Status()\n",
    "print(Obj.OFF)  \n",
    "           "
   ]
  },
  {
   "cell_type": "code",
   "execution_count": 13,
   "metadata": {},
   "outputs": [
    {
     "name": "stdout",
     "output_type": "stream",
     "text": [
      "ON: hi\n",
      "OFF: Hello\n"
     ]
    }
   ],
   "source": [
    "class Bulb:\n",
    "    #Attributes\n",
    "    ON = True\n",
    "    OFF = False\n",
    "        \n",
    "    #methods\n",
    "    def Status(self,ON,OFF):\n",
    "        print(\"ON:\",OFF)\n",
    "        print(\"OFF:\",ON)\n",
    "            \n",
    "Obj = Bulb()\n",
    "Obj.Status(\"Hello\",\"hi\")\n",
    " \n",
    "           "
   ]
  },
  {
   "cell_type": "code",
   "execution_count": 16,
   "metadata": {},
   "outputs": [
    {
     "name": "stdout",
     "output_type": "stream",
     "text": [
      "ON: False\n",
      "OFF: True\n",
      "False\n"
     ]
    }
   ],
   "source": [
    "class Bulb:\n",
    "    #Attributes\n",
    "    ON = True\n",
    "    OFF = False\n",
    "    \n",
    "    def __init__(self,Status1,Status2):\n",
    "        self.ON=Status1\n",
    "        self.OFF=Status2\n",
    "        \n",
    "    \n",
    "    #methods\n",
    "    def Status(self):\n",
    "        print(\"ON:\",self.OFF)\n",
    "        print(\"OFF:\",self.ON)\n",
    "            \n",
    "Obj = Bulb(True,False)\n",
    "Obj.Status()\n",
    "print(Obj.OFF)  \n",
    "           "
   ]
  },
  {
   "cell_type": "code",
   "execution_count": 21,
   "metadata": {},
   "outputs": [
    {
     "name": "stdout",
     "output_type": "stream",
     "text": [
      "Car details: 4 5 maruti 800 Petrol 800\n"
     ]
    }
   ],
   "source": [
    "class Car:\n",
    "    wheels=4\n",
    "    SeatingCapacity=5\n",
    "    Nameofthecar = \"\"\n",
    "    Model=\"\"\n",
    "    Fueltype=\"\"\n",
    "    CC = \"\"                                                                 #construct\n",
    "    \n",
    "    def __init__(self,wheels,SeatingCapacity,Nameofthecar,Model,Fueltype,CC):   #init - initilization of object\n",
    "        self.wheels=wheels\n",
    "        self.SeatingCapacity=SeatingCapacity\n",
    "        self.Nameofthecar=Nameofthecar\n",
    "        self.Model=Model\n",
    "        self.Fueltype=Fueltype\n",
    "        self.CC=CC\n",
    "        \n",
    "    def cardetails(self):\n",
    "        print(\"Car details:\",self.wheels,self.SeatingCapacity,self.Nameofthecar,self.Model,self.Fueltype,self.CC)    \n",
    "        \n",
    "Obj = Car(4 ,5 , \"maruti\",\"800\",\"Petrol\",\"800\")\n",
    "Obj.cardetails()"
   ]
  },
  {
   "cell_type": "code",
   "execution_count": 7,
   "metadata": {},
   "outputs": [
    {
     "name": "stdout",
     "output_type": "stream",
     "text": [
      "Calling number... 7019885903\n",
      "Sending text to 4567-2345-22: Hello!\n"
     ]
    }
   ],
   "source": [
    "class Phone:\n",
    "    def __init__(self, brand, model, color, battery_level):\n",
    "        self.brand = brand\n",
    "        self.model = model\n",
    "        self.color = color\n",
    "        self.battery_level = battery_level\n",
    "        \n",
    "    def make_call(self, number):\n",
    "        print(\"Calling number...\",number)\n",
    "\n",
    "    def send_text(self, number, message):\n",
    "        print(f\"Sending text to {number}: {message}\") \n",
    "        \n",
    "Obj = Phone(\"Apple\",\"iPhone 14\",\"black\",100)  \n",
    "\n",
    "Obj.make_call(\"7019885903\")\n",
    "Obj.send_text(\"4567-2345-22\",\"Hello!\")                 \n",
    "    "
   ]
  },
  {
   "cell_type": "code",
   "execution_count": 9,
   "metadata": {},
   "outputs": [
    {
     "name": "stdout",
     "output_type": "stream",
     "text": [
      "Pedaling...\n"
     ]
    }
   ],
   "source": [
    "class Bicycle:\n",
    "    def __init__(self, brand, model, color, wheel_size, current_gear):\n",
    "        self.brand = brand\n",
    "        self.model = model\n",
    "        self.color = color\n",
    "        self.wheel_size = wheel_size\n",
    "        self.current_gear = current_gear\n",
    "        \n",
    "    def change_gear(self, gear):\n",
    "        self.current_gear = gear\n",
    "\n",
    "    def pedal(self):\n",
    "        print(\"Pedaling...\") \n",
    "        \n",
    "Obj = Bicycle(\"Giant\",\"Talon\",\"Blue\",\"27.5\",\"2\")\n",
    "\n",
    "Obj.change_gear(2) \n",
    "Obj.pedal()            "
   ]
  },
  {
   "cell_type": "code",
   "execution_count": 12,
   "metadata": {},
   "outputs": [
    {
     "name": "stdout",
     "output_type": "stream",
     "text": [
      "Woof woof!\n",
      "*wags tail*\n"
     ]
    }
   ],
   "source": [
    "class Dog:\n",
    "    def __init__(self, name, breed, age, color):\n",
    "        self.name = name\n",
    "        self.breed = breed\n",
    "        self.age = age\n",
    "        self.color = color\n",
    "\n",
    "    def bark(self):\n",
    "        print(\"Woof woof!\")\n",
    "\n",
    "    def wag_tail(self):\n",
    "        print(\"*wags tail*\")\n",
    "        \n",
    "Obj = Dog(\"Luna\",\"German Shepherd\",2,\"Black\") \n",
    "Obj1 = Dog(\"Buddy\",\"Labrador\",3,\"Golden\") \n",
    "\n",
    "Obj.bark() \n",
    "Obj1.wag_tail()  "
   ]
  },
  {
   "cell_type": "code",
   "execution_count": 9,
   "metadata": {},
   "outputs": [
    {
     "name": "stdout",
     "output_type": "stream",
     "text": [
      "No fuel\n",
      "Goods are loaded\n"
     ]
    }
   ],
   "source": [
    "class Truck:\n",
    "    seat = 2\n",
    "    tyre = 6\n",
    "    fuel =\"D\"\n",
    "    carrier = \"Goods\"\n",
    "    fuelstate = True \n",
    "    loadstate = True\n",
    "    \n",
    "    #constructor\n",
    "    def __init__(self,seat,tyre,fuel,carrier,fuelstate,loadstate):\n",
    "        self.seat = seat\n",
    "        self.tyre = tyre\n",
    "        self.fuel = fuel\n",
    "        self.carrier=carrier\n",
    "        self.fuelstate = fuelstate\n",
    "        self.loadstate = loadstate\n",
    "        \n",
    "    #methods\n",
    "    def Drive(self,fuelstate):\n",
    "        if fuelstate==True:\n",
    "            print(\"Driving\")\n",
    "        else:\n",
    "            print(\"No fuel\")\n",
    "            \n",
    "        \n",
    "    def load(self):\n",
    "        print(\"Goods are loaded\")\n",
    "        # if loadstate==True:\n",
    "        #     print(\"goods are loaded\")\n",
    "        # else:\n",
    "        #     print(\"Goods are not loaded\")\n",
    "            \n",
    "Obj= Truck(2,6,\"Diesel\",\"Goods\",\"True\",\"True\") \n",
    "Obj1 = Truck(4,8,\"Petrol\",\"Goods\",\"True\",\"False\")\n",
    "\n",
    "Obj.Drive(False)\n",
    "Obj1.load()                        \n",
    "        "
   ]
  },
  {
   "attachments": {},
   "cell_type": "markdown",
   "metadata": {},
   "source": [
    "create a student class and initialize it with student details like name,class,marks1,marks2,marks3 and show all details of student with one method and another for showing sum of all three subject marks"
   ]
  },
  {
   "cell_type": "code",
   "execution_count": 27,
   "metadata": {},
   "outputs": [
    {
     "name": "stdout",
     "output_type": "stream",
     "text": [
      "student info Vinaya 12 std 99 99 99\n",
      "Total sum of marks 297\n",
      "Eligible \n",
      "student info Amulya 9 std 45 65 76\n",
      "Total sum of marks 186\n",
      "Not eligible\n",
      "student info Lalita 6 std 76 87 93\n",
      "Total sum of marks 256\n",
      "Eligible \n"
     ]
    }
   ],
   "source": [
    "class Student:\n",
    "    name=\" \"\n",
    "    standard=\" \"\n",
    "    m1 = 0\n",
    "    m2 = 0\n",
    "    m3 =0\n",
    "    sum=0\n",
    "    \n",
    "    def __init__(self,name,standard,m1,m2,m3):\n",
    "        self.name = name\n",
    "        self.standard = standard\n",
    "        self.m1 = m1\n",
    "        self.m2=m2\n",
    "        self.m3=m3\n",
    "        \n",
    "        \n",
    "    def studinfo(self):\n",
    "        print(\"student info\",self.name,self.standard,self.m1,self.m2,self.m3)\n",
    "        \n",
    "    def sum1(self):\n",
    "        self.sum=self.m1+self.m2+self.m3\n",
    "        print(\"Total sum of marks\",self.sum)\n",
    "        \n",
    "    def result(self):\n",
    "        if(self.sum>=250):\n",
    "            print(\"Eligible \")  \n",
    "        else:\n",
    "            print(\"Not eligible\")      \n",
    "        \n",
    "stud1 = Student(\"Vinaya\",\"12 std\",99,99,99)  \n",
    "stud2 = Student(\"Amulya\",\"9 std\",45,65,76) \n",
    "stud3 = Student(\"Lalita\",\"6 std\",76,87,93)\n",
    "\n",
    "stud1.studinfo() \n",
    "stud1.sum1() \n",
    "stud1.result()\n",
    "\n",
    "stud2.studinfo()\n",
    "stud2.sum1()\n",
    "stud2.result()\n",
    "\n",
    "stud3.studinfo()\n",
    "stud3.sum1()\n",
    "stud3.result() \n",
    "    "
   ]
  }
 ],
 "metadata": {
  "kernelspec": {
   "display_name": "Python 3",
   "language": "python",
   "name": "python3"
  },
  "language_info": {
   "codemirror_mode": {
    "name": "ipython",
    "version": 3
   },
   "file_extension": ".py",
   "mimetype": "text/x-python",
   "name": "python",
   "nbconvert_exporter": "python",
   "pygments_lexer": "ipython3",
   "version": "3.11.2"
  },
  "orig_nbformat": 4
 },
 "nbformat": 4,
 "nbformat_minor": 2
}
