{
 "cells": [
  {
   "attachments": {},
   "cell_type": "markdown",
   "metadata": {},
   "source": [
    "OOPS CONCEPT"
   ]
  },
  {
   "cell_type": "code",
   "execution_count": 11,
   "metadata": {},
   "outputs": [
    {
     "name": "stdout",
     "output_type": "stream",
     "text": [
      "ON: False\n",
      "OFF: True\n",
      "False\n"
     ]
    }
   ],
   "source": [
    "class Bulb:\n",
    "    #Attributes\n",
    "    ON = True\n",
    "    OFF = False\n",
    "    \n",
    "    #methods\n",
    "    def Status(self):\n",
    "        print(\"ON:\",self.OFF)\n",
    "        print(\"OFF:\",self.ON)\n",
    "            \n",
    "Obj = Bulb()\n",
    "Obj.Status()\n",
    "print(Obj.OFF)  \n",
    "           "
   ]
  },
  {
   "cell_type": "code",
   "execution_count": 13,
   "metadata": {},
   "outputs": [
    {
     "name": "stdout",
     "output_type": "stream",
     "text": [
      "ON: hi\n",
      "OFF: Hello\n"
     ]
    }
   ],
   "source": [
    "class Bulb:\n",
    "    #Attributes\n",
    "    ON = True\n",
    "    OFF = False\n",
    "        \n",
    "    #methods\n",
    "    def Status(self,ON,OFF):\n",
    "        print(\"ON:\",OFF)\n",
    "        print(\"OFF:\",ON)\n",
    "            \n",
    "Obj = Bulb()\n",
    "Obj.Status(\"Hello\",\"hi\")\n",
    " \n",
    "           "
   ]
  },
  {
   "cell_type": "code",
   "execution_count": 16,
   "metadata": {},
   "outputs": [
    {
     "name": "stdout",
     "output_type": "stream",
     "text": [
      "ON: False\n",
      "OFF: True\n",
      "False\n"
     ]
    }
   ],
   "source": [
    "class Bulb:\n",
    "    #Attributes\n",
    "    ON = True\n",
    "    OFF = False\n",
    "    \n",
    "    def __init__(self,Status1,Status2):\n",
    "        self.ON=Status1\n",
    "        self.OFF=Status2\n",
    "        \n",
    "    \n",
    "    #methods\n",
    "    def Status(self):\n",
    "        print(\"ON:\",self.OFF)\n",
    "        print(\"OFF:\",self.ON)\n",
    "            \n",
    "Obj = Bulb(True,False)\n",
    "Obj.Status()\n",
    "print(Obj.OFF)  \n",
    "           "
   ]
  },
  {
   "cell_type": "code",
   "execution_count": 21,
   "metadata": {},
   "outputs": [
    {
     "name": "stdout",
     "output_type": "stream",
     "text": [
      "Car details: 4 5 maruti 800 Petrol 800\n"
     ]
    }
   ],
   "source": [
    "class Car:\n",
    "    wheels=4\n",
    "    SeatingCapacity=5\n",
    "    Nameofthecar = \"\"\n",
    "    Model=\"\"\n",
    "    Fueltype=\"\"\n",
    "    CC = \"\"\n",
    "    \n",
    "    def __init__(self,wheels,SeatingCapacity,Nameofthecar,Model,Fueltype,CC):\n",
    "        self.wheels=wheels\n",
    "        self.SeatingCapacity=SeatingCapacity\n",
    "        self.Nameofthecar=Nameofthecar\n",
    "        self.Model=Model\n",
    "        self.Fueltype=Fueltype\n",
    "        self.CC=CC\n",
    "        \n",
    "    def cardetails(self):\n",
    "        print(\"Car details:\",self.wheels,self.SeatingCapacity,self.Nameofthecar,self.Model,self.Fueltype,self.CC)    \n",
    "        \n",
    "Obj = Car(4 ,5 , \"maruti\",\"800\",\"Petrol\",\"800\")\n",
    "Obj.cardetails()"
   ]
  }
 ],
 "metadata": {
  "kernelspec": {
   "display_name": "Python 3",
   "language": "python",
   "name": "python3"
  },
  "language_info": {
   "codemirror_mode": {
    "name": "ipython",
    "version": 3
   },
   "file_extension": ".py",
   "mimetype": "text/x-python",
   "name": "python",
   "nbconvert_exporter": "python",
   "pygments_lexer": "ipython3",
   "version": "3.11.2"
  },
  "orig_nbformat": 4
 },
 "nbformat": 4,
 "nbformat_minor": 2
}
