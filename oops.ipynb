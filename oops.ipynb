{
 "cells": [
  {
   "attachments": {},
   "cell_type": "markdown",
   "metadata": {},
   "source": [
    "OOPS CONCEPT"
   ]
  },
  {
   "cell_type": "code",
   "execution_count": 11,
   "metadata": {},
   "outputs": [
    {
     "name": "stdout",
     "output_type": "stream",
     "text": [
      "ON: False\n",
      "OFF: True\n",
      "False\n"
     ]
    }
   ],
   "source": [
    "class Bulb:\n",
    "    #Attributes\n",
    "    ON = True\n",
    "    OFF = False\n",
    "    \n",
    "    #methods\n",
    "    def Status(self):\n",
    "        print(\"ON:\",self.OFF)\n",
    "        print(\"OFF:\",self.ON)\n",
    "            \n",
    "Obj = Bulb()\n",
    "Obj.Status()\n",
    "print(Obj.OFF)  \n",
    "           "
   ]
  },
  {
   "cell_type": "code",
   "execution_count": 13,
   "metadata": {},
   "outputs": [
    {
     "name": "stdout",
     "output_type": "stream",
     "text": [
      "ON: hi\n",
      "OFF: Hello\n"
     ]
    }
   ],
   "source": [
    "class Bulb:\n",
    "    #Attributes\n",
    "    ON = True\n",
    "    OFF = False\n",
    "        \n",
    "    #methods\n",
    "    def Status(self,ON,OFF):\n",
    "        print(\"ON:\",OFF)\n",
    "        print(\"OFF:\",ON)\n",
    "            \n",
    "Obj = Bulb()\n",
    "Obj.Status(\"Hello\",\"hi\")\n",
    " \n",
    "           "
   ]
  },
  {
   "cell_type": "code",
   "execution_count": 16,
   "metadata": {},
   "outputs": [
    {
     "name": "stdout",
     "output_type": "stream",
     "text": [
      "ON: False\n",
      "OFF: True\n",
      "False\n"
     ]
    }
   ],
   "source": [
    "class Bulb:\n",
    "    #Attributes\n",
    "    ON = True\n",
    "    OFF = False\n",
    "    \n",
    "    def __init__(self,Status1,Status2):\n",
    "        self.ON=Status1\n",
    "        self.OFF=Status2\n",
    "        \n",
    "    \n",
    "    #methods\n",
    "    def Status(self):\n",
    "        print(\"ON:\",self.OFF)\n",
    "        print(\"OFF:\",self.ON)\n",
    "            \n",
    "Obj = Bulb(True,False)\n",
    "Obj.Status()\n",
    "print(Obj.OFF)  \n",
    "           "
   ]
  },
  {
   "cell_type": "code",
   "execution_count": 21,
   "metadata": {},
   "outputs": [
    {
     "name": "stdout",
     "output_type": "stream",
     "text": [
      "Car details: 4 5 maruti 800 Petrol 800\n"
     ]
    }
   ],
   "source": [
    "class Car:\n",
    "    wheels=4\n",
    "    SeatingCapacity=5\n",
    "    Nameofthecar = \"\"\n",
    "    Model=\"\"\n",
    "    Fueltype=\"\"\n",
    "    CC = \"\"                                                                 #construct\n",
    "    \n",
    "    def __init__(self,wheels,SeatingCapacity,Nameofthecar,Model,Fueltype,CC):   #init - initilization of object\n",
    "        self.wheels=wheels\n",
    "        self.SeatingCapacity=SeatingCapacity\n",
    "        self.Nameofthecar=Nameofthecar\n",
    "        self.Model=Model\n",
    "        self.Fueltype=Fueltype\n",
    "        self.CC=CC\n",
    "        \n",
    "    def cardetails(self):\n",
    "        print(\"Car details:\",self.wheels,self.SeatingCapacity,self.Nameofthecar,self.Model,self.Fueltype,self.CC)    \n",
    "        \n",
    "Obj = Car(4 ,5 , \"maruti\",\"800\",\"Petrol\",\"800\")\n",
    "Obj.cardetails()"
   ]
  },
  {
   "cell_type": "code",
   "execution_count": 7,
   "metadata": {},
   "outputs": [
    {
     "name": "stdout",
     "output_type": "stream",
     "text": [
      "Calling number... 7019885903\n",
      "Sending text to 4567-2345-22: Hello!\n"
     ]
    }
   ],
   "source": [
    "class Phone:\n",
    "    def __init__(self, brand, model, color, battery_level):\n",
    "        self.brand = brand\n",
    "        self.model = model\n",
    "        self.color = color\n",
    "        self.battery_level = battery_level\n",
    "        \n",
    "    def make_call(self, number):\n",
    "        print(\"Calling number...\",number)\n",
    "\n",
    "    def send_text(self, number, message):\n",
    "        print(f\"Sending text to {number}: {message}\") \n",
    "        \n",
    "Obj = Phone(\"Apple\",\"iPhone 14\",\"black\",100)  \n",
    "\n",
    "Obj.make_call(\"7019885903\")\n",
    "Obj.send_text(\"4567-2345-22\",\"Hello!\")                 \n",
    "    "
   ]
  },
  {
   "cell_type": "code",
   "execution_count": 9,
   "metadata": {},
   "outputs": [
    {
     "name": "stdout",
     "output_type": "stream",
     "text": [
      "Pedaling...\n"
     ]
    }
   ],
   "source": [
    "class Bicycle:\n",
    "    def __init__(self, brand, model, color, wheel_size, current_gear):\n",
    "        self.brand = brand\n",
    "        self.model = model\n",
    "        self.color = color\n",
    "        self.wheel_size = wheel_size\n",
    "        self.current_gear = current_gear\n",
    "        \n",
    "    def change_gear(self, gear):\n",
    "        self.current_gear = gear\n",
    "\n",
    "    def pedal(self):\n",
    "        print(\"Pedaling...\") \n",
    "        \n",
    "Obj = Bicycle(\"Giant\",\"Talon\",\"Blue\",\"27.5\",\"2\")\n",
    "\n",
    "Obj.change_gear(2) \n",
    "Obj.pedal()            "
   ]
  },
  {
   "cell_type": "code",
   "execution_count": 12,
   "metadata": {},
   "outputs": [
    {
     "name": "stdout",
     "output_type": "stream",
     "text": [
      "Woof woof!\n",
      "*wags tail*\n"
     ]
    }
   ],
   "source": [
    "class Dog:\n",
    "    def __init__(self, name, breed, age, color):\n",
    "        self.name = name\n",
    "        self.breed = breed\n",
    "        self.age = age\n",
    "        self.color = color\n",
    "\n",
    "    def bark(self):\n",
    "        print(\"Woof woof!\")\n",
    "\n",
    "    def wag_tail(self):\n",
    "        print(\"*wags tail*\")\n",
    "        \n",
    "Obj = Dog(\"Luna\",\"German Shepherd\",2,\"Black\") \n",
    "Obj1 = Dog(\"Buddy\",\"Labrador\",3,\"Golden\") \n",
    "\n",
    "Obj.bark() \n",
    "Obj1.wag_tail()  "
   ]
  },
  {
   "cell_type": "code",
   "execution_count": 6,
   "metadata": {},
   "outputs": [
    {
     "name": "stdout",
     "output_type": "stream",
     "text": [
      "No fuel\n",
      "Goods not loaded\n"
     ]
    }
   ],
   "source": [
    "class Truck:\n",
    "    seat = 2\n",
    "    tyre = 6\n",
    "    fuel =\"D\"\n",
    "    carrier = \"Goods\"\n",
    "    fuelstate = True \n",
    "    loadstate = True\n",
    "    \n",
    "    #constructor\n",
    "    def __init__(self,seat,tyre,fuel,carrier,fuelstate,loadstate):\n",
    "        self.seat = seat\n",
    "        self.tyre = tyre\n",
    "        self.fuel = fuel\n",
    "        self.carrier=carrier\n",
    "        self.fuelstate = fuelstate\n",
    "        self.loadstate = loadstate\n",
    "        \n",
    "    #methods\n",
    "    def Drive(self,fuelstate):\n",
    "        if fuelstate==True:\n",
    "            print(\"Driving\")\n",
    "        else:\n",
    "            print(\"No fuel\")\n",
    "            \n",
    "        \n",
    "    def load(self,loadstate):\n",
    "        if loadstate==True:\n",
    "            print(\"goods are loaded\")\n",
    "        else:\n",
    "            print(\"Goods are not loaded\")\n",
    "            \n",
    "Obj= Truck(2,6,\"Diesel\",\"Goods\",\"True\",\"True\") \n",
    "Obj1 = Truck(4,8,\"Petrol\",\"Goods\",\"True\",\"False\")\n",
    "\n",
    "Obj.Drive(False)\n",
    "Obj1.load(False)                        \n",
    "        "
   ]
  }
 ],
 "metadata": {
  "kernelspec": {
   "display_name": "Python 3",
   "language": "python",
   "name": "python3"
  },
  "language_info": {
   "codemirror_mode": {
    "name": "ipython",
    "version": 3
   },
   "file_extension": ".py",
   "mimetype": "text/x-python",
   "name": "python",
   "nbconvert_exporter": "python",
   "pygments_lexer": "ipython3",
   "version": "3.11.2"
  },
  "orig_nbformat": 4
 },
 "nbformat": 4,
 "nbformat_minor": 2
}
