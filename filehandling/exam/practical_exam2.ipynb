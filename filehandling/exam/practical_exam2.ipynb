{
 "cells": [
  {
   "cell_type": "code",
   "execution_count": 27,
   "metadata": {},
   "outputs": [
    {
     "ename": "SyntaxError",
     "evalue": "invalid syntax. Maybe you meant '==' or ':=' instead of '='? (3134371120.py, line 9)",
     "output_type": "error",
     "traceback": [
      "\u001b[1;36m  Cell \u001b[1;32mIn[27], line 9\u001b[1;36m\u001b[0m\n\u001b[1;33m    if int = \"Age\":\u001b[0m\n\u001b[1;37m       ^\u001b[0m\n\u001b[1;31mSyntaxError\u001b[0m\u001b[1;31m:\u001b[0m invalid syntax. Maybe you meant '==' or ':=' instead of '='?\n"
     ]
    }
   ],
   "source": [
    "import csv \n",
    "with open(\"C:/Users/HP/OneDrive/Desktop/Diabetes Classification.csv\",'r') as file:\n",
    "    reader = csv.reader(file)\n",
    "    # numbers = [int (column[0]) for column in reader] \n",
    "\n",
    "for line in reader:\n",
    "    # for row[0]:\n",
    "    #     continue\n",
    "    if int = \"Age\":\n",
    "        print(i[0])\n",
    "    \n",
    "    # even_numbers = [num for num in numbers if num%2==0] \n",
    "\n",
    "# print(even_numbers)   \n",
    "    "
   ]
  },
  {
   "cell_type": "code",
   "execution_count": 12,
   "metadata": {},
   "outputs": [
    {
     "name": "stdout",
     "output_type": "stream",
     "text": [
      "6000000\n"
     ]
    }
   ],
   "source": [
    "class Employee ():\n",
    "    name = \" \"\n",
    "    positin = \" \"\n",
    "    salary = 0\n",
    "    \n",
    "    def __init__ (self,name,position,salary):\n",
    "        self.name = name\n",
    "        self.position = position\n",
    "        self.salary = salary\n",
    "        \n",
    "    def cal_annual_salary(self):\n",
    "        print(self.salary * 12)\n",
    "\n",
    "obj = Employee(\"Vinaya\",\"HR\",500000)\n",
    "obj.cal_annual_salary()\n",
    "\n",
    "   \n",
    "        "
   ]
  },
  {
   "cell_type": "code",
   "execution_count": 13,
   "metadata": {},
   "outputs": [
    {
     "name": "stdout",
     "output_type": "stream",
     "text": [
      "[10000, 4096, 16, 81, 625]\n"
     ]
    }
   ],
   "source": [
    "numbers = [100,64,4,9,25]\n",
    "squared_numbers = list(map(lambda x:x**2,numbers))   #map() function applies the lambda exp to each element in the numbers\n",
    "\n",
    "print(squared_numbers)"
   ]
  }
 ],
 "metadata": {
  "kernelspec": {
   "display_name": "Python 3",
   "language": "python",
   "name": "python3"
  },
  "language_info": {
   "codemirror_mode": {
    "name": "ipython",
    "version": 3
   },
   "file_extension": ".py",
   "mimetype": "text/x-python",
   "name": "python",
   "nbconvert_exporter": "python",
   "pygments_lexer": "ipython3",
   "version": "3.11.2"
  },
  "orig_nbformat": 4
 },
 "nbformat": 4,
 "nbformat_minor": 2
}
