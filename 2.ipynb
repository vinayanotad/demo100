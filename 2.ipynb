{
 "cells": [
  {
   "cell_type": "code",
   "execution_count": 11,
   "metadata": {},
   "outputs": [
    {
     "name": "stdout",
     "output_type": "stream",
     "text": [
      "The result is= 25\n"
     ]
    }
   ],
   "source": [
    "def sqr(number):\n",
    "    result=number*number\n",
    "    print(\"The result is=\",result)\n",
    "\n",
    "sqr(5)\n"
   ]
  },
  {
   "cell_type": "code",
   "execution_count": 15,
   "metadata": {},
   "outputs": [
    {
     "name": "stdout",
     "output_type": "stream",
     "text": [
      "20\n"
     ]
    }
   ],
   "source": [
    "def age(num):\n",
    "    result=num \n",
    "    print(result)\n",
    "inp=int(input(\"Enter the age\"))\n",
    "age(inp)\n"
   ]
  },
  {
   "cell_type": "code",
   "execution_count": 23,
   "metadata": {},
   "outputs": [
    {
     "name": "stdout",
     "output_type": "stream",
     "text": [
      "vinaya\n"
     ]
    }
   ],
   "source": [
    "def name(str):\n",
    "    result=str\n",
    "    print(result)\n",
    "inp=str(input(\"Enter the name\"))\n",
    "name(inp)"
   ]
  },
  {
   "cell_type": "code",
   "execution_count": 22,
   "metadata": {},
   "outputs": [
    {
     "name": "stdout",
     "output_type": "stream",
     "text": [
      "20000.0\n"
     ]
    }
   ],
   "source": [
    "def salary(num):\n",
    "    result=num \n",
    "    print(result)\n",
    "inp=float(input(\"Enter the salary\"))\n",
    "salary(inp)\n"
   ]
  },
  {
   "cell_type": "code",
   "execution_count": 1,
   "metadata": {},
   "outputs": [
    {
     "name": "stdout",
     "output_type": "stream",
     "text": [
      "21\n",
      "vinaya\n",
      "100000.0\n"
     ]
    }
   ],
   "source": [
    "\n",
    "def age(num):\n",
    "    result=num \n",
    "    print(result)\n",
    "inp=int(input(\"Enter the age\"))\n",
    "age(inp)\n",
    "def name(str):\n",
    "    result=str\n",
    "    print(result)\n",
    "inp=str(input(\"Enter the name\"))\n",
    "name(inp)\n",
    "def salary(num):\n",
    "    result=num \n",
    "    print(result)\n",
    "inp=float(input(\"Enter the salary\"))\n",
    "salary(inp)\n",
    "\n"
   ]
  },
  {
   "cell_type": "code",
   "execution_count": 2,
   "metadata": {},
   "outputs": [
    {
     "name": "stdout",
     "output_type": "stream",
     "text": [
      "Hello  chinnu as your age is 21 and your salary is 50000.0 so we offer u aloan\n",
      "Hello  vin as your age is 32 and your salary is 12345.0 so we offer u aloan\n",
      "Hello  b as your age is 31 and your salary is 12321.0 so we offer u aloan\n"
     ]
    }
   ],
   "source": [
    "def getdata():\n",
    "    count=0\n",
    "    while(count<3):\n",
    "        count=count+1\n",
    "        name = input(\"\\n Enter the details of Employee \\nEnter your name:\") \n",
    "        age = int(input(\"Enter your age:\"))  \n",
    "        salary = float(input(\"Enter your salary:  \")) \n",
    "        display(name,age,salary)\n",
    "        \n",
    "def display(name,age,salary):\n",
    "    count=0\n",
    "    while(count<1):\n",
    "        count=count+1\n",
    "        print(\"Hello \",name,\"as your age is\",age,\"and your salary is\",salary,\"so we offer u aloan\")\n",
    "        \n",
    "getdata()\n"
   ]
  },
  {
   "cell_type": "code",
   "execution_count": 4,
   "metadata": {},
   "outputs": [
    {
     "name": "stdout",
     "output_type": "stream",
     "text": [
      "Enter your details\n",
      ":\n",
      "Hello  A as your age is 22 and your salary is 23000.0 so we offer u aloan\n",
      "Hello  B as your age is 32 and your salary is 10000.0 so we offer u aloan\n"
     ]
    }
   ],
   "source": [
    "def getdata():\n",
    "    print(\"Enter your details\\n:\")\n",
    "    for x in range(2):\n",
    "        name = input(\"\\n Enter the details of Employee \\nEnter your name:\") \n",
    "        age = int(input(\"Enter your age:\"))  \n",
    "        salary = float(input(\"Enter your salary:  \")) \n",
    "        display(name,age,salary)\n",
    "\n",
    "def display(name,age,salary):\n",
    "        print(\"Hello \",name,\"as your age is\",age,\"and your salary is\",salary,\"so we offer u aloan\")\n",
    "\n",
    "getdata()        \n",
    "               \n",
    "        "
   ]
  },
  {
   "cell_type": "code",
   "execution_count": 7,
   "metadata": {},
   "outputs": [
    {
     "name": "stdout",
     "output_type": "stream",
     "text": [
      "Choose your option:\n",
      "1.Insert\n",
      "2.Remove\n",
      "3.Display\n",
      "4.Exit\n",
      "\n",
      "Enter your details\n",
      "\n",
      "Choose your option:\n",
      "1.Insert\n",
      "2.Remove\n",
      "3.Display\n",
      "4.Exit\n",
      "\n",
      "vinaya\n",
      "21\n",
      "2500.0\n",
      "Removed  vinaya  successfully\n",
      "\n",
      "Choose your option:\n",
      "1.Insert\n",
      "2.Remove\n",
      "3.Display\n",
      "4.Exit\n",
      "\n",
      "21\n",
      "2500.0\n",
      "Choose your option:\n",
      "1.Insert\n",
      "2.Remove\n",
      "3.Display\n",
      "4.Exit\n",
      "\n",
      "21\n",
      "2500.0\n",
      "Choose your option:\n",
      "1.Insert\n",
      "2.Remove\n",
      "3.Display\n",
      "4.Exit\n",
      "\n",
      "Enter your details\n",
      "\n",
      "Choose your option:\n",
      "1.Insert\n",
      "2.Remove\n",
      "3.Display\n",
      "4.Exit\n",
      "\n",
      "21\n",
      "2500.0\n",
      "ammu\n",
      "16\n",
      "3000.0\n"
     ]
    },
    {
     "ename": "ValueError",
     "evalue": "list.remove(x): x not in list",
     "output_type": "error",
     "traceback": [
      "\u001b[1;31m---------------------------------------------------------------------------\u001b[0m",
      "\u001b[1;31mValueError\u001b[0m                                Traceback (most recent call last)",
      "Cell \u001b[1;32mIn[7], line 39\u001b[0m\n\u001b[0;32m     37\u001b[0m     getdata()\n\u001b[0;32m     38\u001b[0m \u001b[39mif\u001b[39;00m(choice\u001b[39m==\u001b[39m\u001b[39m2\u001b[39m):\n\u001b[1;32m---> 39\u001b[0m     removeelements()\n\u001b[0;32m     40\u001b[0m \u001b[39mif\u001b[39;00m(choice\u001b[39m==\u001b[39m\u001b[39m3\u001b[39m):\n\u001b[0;32m     41\u001b[0m     display()\n",
      "Cell \u001b[1;32mIn[7], line 27\u001b[0m, in \u001b[0;36mremoveelements\u001b[1;34m()\u001b[0m\n\u001b[0;32m     25\u001b[0m     display()\n\u001b[0;32m     26\u001b[0m     element\u001b[39m=\u001b[39m\u001b[39minput\u001b[39m(\u001b[39m'\u001b[39m\u001b[39mType the element to remove:\u001b[39m\u001b[39m'\u001b[39m)\n\u001b[1;32m---> 27\u001b[0m     list1\u001b[39m.\u001b[39;49mremove(element)\n\u001b[0;32m     28\u001b[0m     \u001b[39mprint\u001b[39m(\u001b[39m'\u001b[39m\u001b[39mRemoved \u001b[39m\u001b[39m'\u001b[39m,element,\u001b[39m'\u001b[39m\u001b[39m successfully\u001b[39m\u001b[39m\\n\u001b[39;00m\u001b[39m'\u001b[39m)\n\u001b[0;32m     29\u001b[0m \u001b[39melse\u001b[39;00m:\n",
      "\u001b[1;31mValueError\u001b[0m: list.remove(x): x not in list"
     ]
    }
   ],
   "source": [
    "list1=[]\n",
    "def getdata():\n",
    "    print(\"Enter your details\\n\")\n",
    "    for var in range(1):\n",
    "        name = input(\"Enter your name: \") # string\n",
    "        list1.append(name)\n",
    "        \n",
    "        age = int(input(\"Enter your age: \"))  # integer\n",
    "        list1.append(age)\n",
    "        \n",
    "        salary = float(input(\"Enter your salary: \")) # float\n",
    "        list1.append(salary)\n",
    "\n",
    "def display():\n",
    "    if(len(list1)>0):\n",
    "        for i in list1:\n",
    "            print(i)\n",
    "    else:\n",
    "        print('No elements in list')\n",
    "        \n",
    "        \n",
    "def removeelements():\n",
    "   \n",
    "    if(len(list1)>0):\n",
    "        display()\n",
    "        element=input('Type the element to remove:')\n",
    "        list1.remove(element)\n",
    "        print('Removed ',element,' successfully\\n')\n",
    "    else:\n",
    "        print('No elements in list to remove')\n",
    "        \n",
    "    \n",
    "while(1):\n",
    "    print('Choose your option:\\n1.Insert\\n2.Remove\\n3.Display\\n4.Exit\\n')\n",
    "    choice=int(input('Choose an option: '))\n",
    "    if(choice==1):\n",
    "        getdata()\n",
    "    if(choice==2):\n",
    "        removeelements()\n",
    "    if(choice==3):\n",
    "        display()\n",
    "    if(choice==4):\n",
    "        choice=input('Are you sure you want to exit?\\n 1. Yes \\n 2. No\\n ')\n",
    "        if(choice==1):\n",
    "            break\n",
    "            \n",
    "\n"
   ]
  }
 ],
 "metadata": {
  "kernelspec": {
   "display_name": "Python 3",
   "language": "python",
   "name": "python3"
  },
  "language_info": {
   "codemirror_mode": {
    "name": "ipython",
    "version": 3
   },
   "file_extension": ".py",
   "mimetype": "text/x-python",
   "name": "python",
   "nbconvert_exporter": "python",
   "pygments_lexer": "ipython3",
   "version": "3.11.1"
  },
  "orig_nbformat": 4,
  "vscode": {
   "interpreter": {
    "hash": "81ac66f6b36e337bb296ed23a723e64eb2bb02e155f7b256d2c68172919a46c1"
   }
  }
 },
 "nbformat": 4,
 "nbformat_minor": 2
}
