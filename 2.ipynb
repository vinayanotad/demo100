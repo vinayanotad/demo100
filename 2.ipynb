{
 "cells": [
  {
   "cell_type": "code",
   "execution_count": 11,
   "metadata": {},
   "outputs": [
    {
     "name": "stdout",
     "output_type": "stream",
     "text": [
      "The result is= 25\n"
     ]
    }
   ],
   "source": [
    "def sqr(number):\n",
    "    result=number*number\n",
    "    print(\"The result is=\",result)\n",
    "\n",
    "sqr(5)\n"
   ]
  },
  {
   "cell_type": "code",
   "execution_count": 15,
   "metadata": {},
   "outputs": [
    {
     "name": "stdout",
     "output_type": "stream",
     "text": [
      "20\n"
     ]
    }
   ],
   "source": [
    "def age(num):\n",
    "    result=num \n",
    "    print(result)\n",
    "inp=int(input(\"Enter the age\"))\n",
    "age(inp)\n"
   ]
  },
  {
   "cell_type": "code",
   "execution_count": 23,
   "metadata": {},
   "outputs": [
    {
     "name": "stdout",
     "output_type": "stream",
     "text": [
      "vinaya\n"
     ]
    }
   ],
   "source": [
    "def name(str):\n",
    "    result=str\n",
    "    print(result)\n",
    "inp=str(input(\"Enter the name\"))\n",
    "name(inp)"
   ]
  },
  {
   "cell_type": "code",
   "execution_count": 22,
   "metadata": {},
   "outputs": [
    {
     "name": "stdout",
     "output_type": "stream",
     "text": [
      "20000.0\n"
     ]
    }
   ],
   "source": [
    "def salary(num):\n",
    "    result=num \n",
    "    print(result)\n",
    "inp=float(input(\"Enter the salary\"))\n",
    "salary(inp)\n"
   ]
  },
  {
   "cell_type": "code",
   "execution_count": 24,
   "metadata": {},
   "outputs": [
    {
     "name": "stdout",
     "output_type": "stream",
     "text": [
      "21\n",
      "vinaya\n",
      "25000.0\n"
     ]
    }
   ],
   "source": [
    "\n",
    "def age(num):\n",
    "    result=num \n",
    "    print(result)\n",
    "inp=int(input(\"Enter the age\"))\n",
    "age(inp)\n",
    "def name(str):\n",
    "    result=str\n",
    "    print(result)\n",
    "inp=str(input(\"Enter the name\"))\n",
    "name(inp)\n",
    "def salary(num):\n",
    "    result=num \n",
    "    print(result)\n",
    "inp=float(input(\"Enter the salary\"))\n",
    "salary(inp)\n",
    "\n"
   ]
  }
 ],
 "metadata": {
  "kernelspec": {
   "display_name": "Python 3",
   "language": "python",
   "name": "python3"
  },
  "language_info": {
   "codemirror_mode": {
    "name": "ipython",
    "version": 3
   },
   "file_extension": ".py",
   "mimetype": "text/x-python",
   "name": "python",
   "nbconvert_exporter": "python",
   "pygments_lexer": "ipython3",
   "version": "3.11.1"
  },
  "orig_nbformat": 4,
  "vscode": {
   "interpreter": {
    "hash": "81ac66f6b36e337bb296ed23a723e64eb2bb02e155f7b256d2c68172919a46c1"
   }
  }
 },
 "nbformat": 4,
 "nbformat_minor": 2
}
