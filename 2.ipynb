{
 "cells": [
  {
   "cell_type": "code",
   "execution_count": 11,
   "metadata": {},
   "outputs": [
    {
     "name": "stdout",
     "output_type": "stream",
     "text": [
      "The result is= 25\n"
     ]
    }
   ],
   "source": [
    "def sqr(number):\n",
    "    result=number*number\n",
    "    print(\"The result is=\",result)\n",
    "\n",
    "sqr(5)\n"
   ]
  },
  {
   "cell_type": "code",
   "execution_count": 15,
   "metadata": {},
   "outputs": [
    {
     "name": "stdout",
     "output_type": "stream",
     "text": [
      "20\n"
     ]
    }
   ],
   "source": [
    "def age(num):\n",
    "    result=num \n",
    "    print(result)\n",
    "inp=int(input(\"Enter the age\"))\n",
    "age(inp)\n"
   ]
  },
  {
   "cell_type": "code",
   "execution_count": 23,
   "metadata": {},
   "outputs": [
    {
     "name": "stdout",
     "output_type": "stream",
     "text": [
      "vinaya\n"
     ]
    }
   ],
   "source": [
    "def name(str):\n",
    "    result=str\n",
    "    print(result)\n",
    "inp=str(input(\"Enter the name\"))\n",
    "name(inp)"
   ]
  },
  {
   "cell_type": "code",
   "execution_count": 22,
   "metadata": {},
   "outputs": [
    {
     "name": "stdout",
     "output_type": "stream",
     "text": [
      "20000.0\n"
     ]
    }
   ],
   "source": [
    "def salary(num):\n",
    "    result=num \n",
    "    print(result)\n",
    "inp=float(input(\"Enter the salary\"))\n",
    "salary(inp)\n"
   ]
  },
  {
   "cell_type": "code",
   "execution_count": null,
   "metadata": {},
   "outputs": [
    {
     "ename": "",
     "evalue": "",
     "output_type": "error",
     "traceback": [
      "\u001b[1;31mFailed to start the Kernel. \n",
      "\u001b[1;31mSyntaxError: invalid syntax. \n",
      "\u001b[1;31mView Jupyter <a href='command:jupyter.viewOutput'>log</a> for further details."
     ]
    }
   ],
   "source": [
    "\n",
    "def age(num):\n",
    "    result=num \n",
    "    print(result)\n",
    "inp=int(input(\"Enter the age\"))\n",
    "age(inp)\n",
    "def name(str):\n",
    "    result=str\n",
    "    print(result)\n",
    "inp=str(input(\"Enter the name\"))\n",
    "name(inp)\n",
    "def salary(num):\n",
    "    result=num \n",
    "    print(result)\n",
    "inp=float(input(\"Enter the salary\"))\n",
    "salary(inp)\n",
    "\n"
   ]
  },
  {
   "cell_type": "code",
   "execution_count": null,
   "metadata": {},
   "outputs": [
    {
     "ename": "",
     "evalue": "",
     "output_type": "error",
     "traceback": [
      "\u001b[1;31mFailed to start the Kernel. \n",
      "\u001b[1;31mSyntaxError: invalid syntax. \n",
      "\u001b[1;31mView Jupyter <a href='command:jupyter.viewOutput'>log</a> for further details."
     ]
    }
   ],
   "source": [
    "def getdata():\n",
    "    count=0\n",
    "    while(count<3):\n",
    "        count=count+1\n",
    "        name = input(\"\\n Enter the details of Employee \\nEnter your name:\") \n",
    "        age = int(input(\"Enter your age:\"))  \n",
    "        salary = float(input(\"Enter your salary:  \")) \n",
    "        display(name,age,salary)\n",
    "        \n",
    "def display(name,age,salary):\n",
    "    count=0\n",
    "    while(count<1):\n",
    "        count=count+1\n",
    "        print(\"Hello \",name,\"as your age is\",age,\"and your salary is\",salary,\"so we offer u aloan\")\n",
    "        \n",
    "getdata()\n"
   ]
  },
  {
   "cell_type": "code",
   "execution_count": null,
   "metadata": {},
   "outputs": [
    {
     "ename": "",
     "evalue": "",
     "output_type": "error",
     "traceback": [
      "\u001b[1;31mFailed to start the Kernel. \n",
      "\u001b[1;31mSyntaxError: invalid syntax. \n",
      "\u001b[1;31mView Jupyter <a href='command:jupyter.viewOutput'>log</a> for further details."
     ]
    }
   ],
   "source": [
    "def getdata():\n",
    "    print(\"Enter your details\\n:\")\n",
    "    for x in range(2):\n",
    "        name = input(\"\\n Enter the details of Employee \\nEnter your name:\") \n",
    "        age = int(input(\"Enter your age:\"))  \n",
    "        salary = float(input(\"Enter your salary:  \")) \n",
    "        display(name,age,salary)\n",
    "\n",
    "def display(name,age,salary):\n",
    "    for x in range(2):\n",
    "        print(\"Hello \",name,\"as your age is\",age,\"and your salary is\",salary,\"so we offer u aloan\")\n",
    "\n",
    "getdata()        \n",
    "               \n",
    "        "
   ]
  },
  {
   "cell_type": "code",
   "execution_count": null,
   "metadata": {},
   "outputs": [
    {
     "ename": "",
     "evalue": "",
     "output_type": "error",
     "traceback": [
      "\u001b[1;31mFailed to start the Kernel. \n",
      "\u001b[1;31mSyntaxError: invalid syntax. \n",
      "\u001b[1;31mView Jupyter <a href='command:jupyter.viewOutput'>log</a> for further details."
     ]
    }
   ],
   "source": [
    "list1=[]\n",
    "def getdata():\n",
    "    print(\"Enter your details\\n\")\n",
    "    for var in range(1):\n",
    "        name = input(\"Enter your name: \") # string\n",
    "        list1.append(name)\n",
    "        \n",
    "        age = int(input(\"Enter your age: \"))  # integer\n",
    "        list1.append(age)\n",
    "        \n",
    "        salary = float(input(\"Enter your salary: \")) # float\n",
    "        list1.append(salary)\n",
    "\n",
    "def display():\n",
    "    if(len(list1)>0):\n",
    "        for i in list1:\n",
    "            print(i)\n",
    "    else:\n",
    "        print('No elements in list')\n",
    "        \n",
    "        \n",
    "def removeelements():\n",
    "   \n",
    "    if(len(list1)>0):\n",
    "        display()\n",
    "        element=input('Type the element to remove:')\n",
    "        list1.remove(element)\n",
    "        print('Removed ',element,' successfully\\n')\n",
    "    else:\n",
    "        print('No elements in list to remove')\n",
    "        \n",
    "    \n",
    "while(1):\n",
    "    print('Choose your option:\\n1.Insert\\n2.Remove\\n3.Display\\n4.Exit\\n')\n",
    "    choice=int(input('Choose an option: '))\n",
    "    if(choice==1):\n",
    "        getdata()\n",
    "    if(choice==2):\n",
    "        removeelements()\n",
    "    if(choice==3):\n",
    "        display()\n",
    "    if(choice==4):\n",
    "        choice=input('Are you sure you want to exit?\\n 1. Yes \\n 2. No\\n ')\n",
    "        if(choice==1):\n",
    "            break\n",
    "            \n",
    "\n"
   ]
  }
 ],
 "metadata": {
  "kernelspec": {
   "display_name": "Python 3",
   "language": "python",
   "name": "python3"
  },
  "language_info": {
   "codemirror_mode": {
    "name": "ipython",
    "version": 3
   },
   "file_extension": ".py",
   "mimetype": "text/x-python",
   "name": "python",
   "nbconvert_exporter": "python",
   "pygments_lexer": "ipython3",
   "version": "3.11.2"
  },
  "orig_nbformat": 4,
  "vscode": {
   "interpreter": {
    "hash": "1f6a27bcfbe46a917dbd192f4a82657396dda26148bae633192e8d28c70725f1"
   }
  }
 },
 "nbformat": 4,
 "nbformat_minor": 2
}
