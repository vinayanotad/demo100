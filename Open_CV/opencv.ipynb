{
 "cells": [
  {
   "cell_type": "code",
   "execution_count": 3,
   "metadata": {},
   "outputs": [],
   "source": [
    "# pip install cv2-python to install packages \n",
    "# 23/8/2023\n",
    "import cv2\n",
    "path = r'ai.jpg'\n",
    "image = cv2.imread(path)\n",
    "\n",
    "# window name in which image is displayed\n",
    "window_name ='image'\n",
    "\n",
    "# Displaying the image in the window\n",
    "# using cv2.imshow() method\n",
    "cv2.imshow(window_name, image)\n",
    "\n",
    "# waits for user to press any key \n",
    "# this is necessary to avoid python kernel form crashing\n",
    "cv2.waitKey(0)\n",
    "\n",
    "# closing all open windows\n",
    "cv2.destroyAllWindows()\n",
    "\n"
   ]
  },
  {
   "cell_type": "code",
   "execution_count": 2,
   "metadata": {},
   "outputs": [],
   "source": [
    "import cv2\n",
    "path = r'ai.jpg'\n",
    "\n",
    "# grayscale\n",
    "image = cv2.imread(path,0)        \n",
    "\n",
    "window_name ='image'\n",
    "cv2.imshow(window_name, image)\n",
    "\n",
    "cv2.waitKey(0)\n",
    "cv2.destroyAllWindows()"
   ]
  },
  {
   "cell_type": "code",
   "execution_count": 9,
   "metadata": {},
   "outputs": [
    {
     "name": "stdout",
     "output_type": "stream",
     "text": [
      "None\n",
      "After saving image:\n",
      "['ai.jpg', 'opencv.ipynb', 'savedImage.jpg']\n",
      "Successfully saved\n"
     ]
    }
   ],
   "source": [
    "# pip install cv2-python to install packages \n",
    "# 23/8/2023\n",
    "import cv2\n",
    "\n",
    "import os \n",
    "\n",
    "image_path = r'ai.jpg'\n",
    "\n",
    "# Image directory\n",
    "directory = r'E:\\Github Repositories\\vinayanotad\\Open_CV'\n",
    "image = cv2.imread(image_path,0)\n",
    "os.chdir(directory)\n",
    "print(os.chdir(directory))\n",
    "\n",
    "# image is converted into black and white and saved in newfile i.e savedImage\n",
    "# filename\n",
    "filename= 'savedImage.jpg'\n",
    "\n",
    "# using cv2.imshow() method\n",
    "cv2.imwrite(filename , image)\n",
    "\n",
    "print(\"After saving image:\")\n",
    "print(os.listdir(directory))\n",
    "\n",
    "print('Successfully saved')"
   ]
  },
  {
   "cell_type": "markdown",
   "metadata": {},
   "source": [
    "frontalface\n",
    "\n",
    "--- it will take picture "
   ]
  },
  {
   "cell_type": "code",
   "execution_count": 7,
   "metadata": {},
   "outputs": [
    {
     "ename": "",
     "evalue": "",
     "output_type": "error",
     "traceback": [
      "\u001b[1;31mThe Kernel crashed while executing code in the the current cell or a previous cell. Please review the code in the cell(s) to identify a possible cause of the failure. Click <a href='https://aka.ms/vscodeJupyterKernelCrash'>here</a> for more info. View Jupyter <a href='command:jupyter.viewOutput'>log</a> for further details."
     ]
    }
   ],
   "source": [
    "# Creating database\n",
    "# It captures images and stores them in datasets\n",
    "# folder under the folder name of sub_data\n",
    "import cv2, sys, numpy, os\n",
    "haar_file = 'haarcascade_frontalface_default.xml'\n",
    "\n",
    "# All the faces data will be\n",
    "# present this folder\n",
    "datasets = 'datasets'\n",
    "\n",
    "\n",
    "# These are sub data sets of folder,\n",
    "# for my faces I've used my name you can\n",
    "# change the label here\n",
    "sub_data = 'vinaya'\t\n",
    "\n",
    "path = os.path.join(datasets, sub_data)\n",
    "if not os.path.isdir(path):\n",
    "\tos.mkdir(path)\n",
    "\n",
    "# defining the size of images\n",
    "(width, height) = (130, 100)\t\n",
    "\n",
    "#'0' is used for my webcam,\n",
    "# if you've any other camera\n",
    "# attached use '1' like this\n",
    "face_cascade = cv2.CascadeClassifier(haar_file)\n",
    "webcam = cv2.VideoCapture(0)\n",
    "\n",
    "# The program loops until it has 30 images of the face.\n",
    "count = 1\n",
    "while count < 30:\n",
    "\t(_, im) = webcam.read()\n",
    "\tgray = cv2.cvtColor(im, cv2.COLOR_BGR2GRAY)\n",
    "\tfaces = face_cascade.detectMultiScale(gray, 1.3, 4)\n",
    "\tfor (x, y, w, h) in faces:\n",
    "\t\tcv2.rectangle(im, (x, y), (x + w, y + h), (255, 0, 0), 2)\n",
    "\t\tface = gray[y:y + h, x:x + w]\n",
    "\t\tface_resize = cv2.resize(face, (width, height))\n",
    "\t\tcv2.imwrite('% s/% s.png' % (path, count), face_resize)\n",
    "\tcount += 1\n",
    "\t\n",
    "\tcv2.imshow('OpenCV', im)\n",
    "\tkey = cv2.waitKey(10)\n",
    "\tif key == 27:\n",
    "\t\tbreak\n"
   ]
  },
  {
   "cell_type": "markdown",
   "metadata": {},
   "source": [
    "count number of faces\n",
    "\n",
    "--- dataset of the faces are created\n"
   ]
  },
  {
   "cell_type": "code",
   "execution_count": 1,
   "metadata": {},
   "outputs": [
    {
     "ename": "ModuleNotFoundError",
     "evalue": "No module named 'dlib'",
     "output_type": "error",
     "traceback": [
      "\u001b[1;31m---------------------------------------------------------------------------\u001b[0m",
      "\u001b[1;31mModuleNotFoundError\u001b[0m                       Traceback (most recent call last)",
      "\u001b[1;32m~\\AppData\\Local\\Temp\\ipykernel_26292\\2844413784.py\u001b[0m in \u001b[0;36m<module>\u001b[1;34m\u001b[0m\n\u001b[0;32m      2\u001b[0m \u001b[1;32mimport\u001b[0m \u001b[0mcv2\u001b[0m\u001b[1;33m\u001b[0m\u001b[1;33m\u001b[0m\u001b[0m\n\u001b[0;32m      3\u001b[0m \u001b[1;32mimport\u001b[0m \u001b[0mnumpy\u001b[0m \u001b[1;32mas\u001b[0m \u001b[0mnp\u001b[0m\u001b[1;33m\u001b[0m\u001b[1;33m\u001b[0m\u001b[0m\n\u001b[1;32m----> 4\u001b[1;33m \u001b[1;32mimport\u001b[0m \u001b[0mdlib\u001b[0m\u001b[1;33m\u001b[0m\u001b[1;33m\u001b[0m\u001b[0m\n\u001b[0m\u001b[0;32m      5\u001b[0m \u001b[1;33m\u001b[0m\u001b[0m\n\u001b[0;32m      6\u001b[0m \u001b[1;33m\u001b[0m\u001b[0m\n",
      "\u001b[1;31mModuleNotFoundError\u001b[0m: No module named 'dlib'"
     ]
    }
   ],
   "source": [
    "# Import required libraries\n",
    "import cv2\n",
    "import numpy as np\n",
    "import dlib\n",
    "\n",
    "\n",
    "# Connects to your computer's default camera\n",
    "cap = cv2.VideoCapture(0)\n",
    "\n",
    "\n",
    "# Detect the coordinates\n",
    "detector = dlib.get_frontal_face_detector()\n",
    "\n",
    "\n",
    "# Capture frames continuously\n",
    "while True:\n",
    "\n",
    "\t# Capture frame-by-frame\n",
    "\tret, frame = cap.read()\n",
    "\tframe = cv2.flip(frame, 1)\n",
    "\n",
    "\t# RGB to grayscale\n",
    "\tgray = cv2.cvtColor(frame, cv2.COLOR_BGR2GRAY)\n",
    "\tfaces = detector(gray)\n",
    "\n",
    "\t# Iterator to count faces\n",
    "\ti = 0\n",
    "\tfor face in faces:\n",
    "\n",
    "\t\t# Get the coordinates of faces\n",
    "\t\tx, y = face.left(), face.top()\n",
    "\t\tx1, y1 = face.right(), face.bottom()\n",
    "\t\tcv2.rectangle(frame, (x, y), (x1, y1), (0, 255, 0), 2)\n",
    "\n",
    "\t\t# Increment iterator for each face in faces\n",
    "\t\ti = i+1\n",
    "\n",
    "\t\t# Display the box and faces\n",
    "\t\tcv2.putText(frame, 'face num'+str(i), (x-10, y-10),\n",
    "\t\t\t\t\tcv2.FONT_HERSHEY_SIMPLEX, 0.7, (0, 0, 255), 2)\n",
    "\t\tprint(face, i)\n",
    "\n",
    "\t# Display the resulting frame\n",
    "\tcv2.imshow('frame', frame)\n",
    "\n",
    "\t# This command let's us quit with the \"q\" button on a keyboard.\n",
    "\tif cv2.waitKey(1) & 0xFF == ord('q'):\n",
    "\t\tbreak\n",
    "\n",
    "\n",
    "# Release the capture and destroy the windows\n",
    "cap.release()\n",
    "cv2.destroyAllWindows()\n"
   ]
  },
  {
   "cell_type": "markdown",
   "metadata": {},
   "source": [
    "face  eye detection\n",
    "\n",
    "--- it will detect eye on the face \n",
    "--- it wont take picture\n"
   ]
  },
  {
   "cell_type": "code",
   "execution_count": 2,
   "metadata": {},
   "outputs": [
    {
     "ename": "KeyboardInterrupt",
     "evalue": "",
     "output_type": "error",
     "traceback": [
      "\u001b[1;31m---------------------------------------------------------------------------\u001b[0m",
      "\u001b[1;31mKeyboardInterrupt\u001b[0m                         Traceback (most recent call last)",
      "\u001b[1;32m~\\AppData\\Local\\Temp\\ipykernel_26292\\1111638247.py\u001b[0m in \u001b[0;36m<module>\u001b[1;34m\u001b[0m\n\u001b[0;32m     31\u001b[0m \u001b[1;33m\u001b[0m\u001b[0m\n\u001b[0;32m     32\u001b[0m         \u001b[1;31m# Detects faces of different sizes in the input image\u001b[0m\u001b[1;33m\u001b[0m\u001b[1;33m\u001b[0m\u001b[0m\n\u001b[1;32m---> 33\u001b[1;33m         \u001b[0mfaces\u001b[0m \u001b[1;33m=\u001b[0m \u001b[0mface_cascade\u001b[0m\u001b[1;33m.\u001b[0m\u001b[0mdetectMultiScale\u001b[0m\u001b[1;33m(\u001b[0m\u001b[0mgray\u001b[0m\u001b[1;33m,\u001b[0m \u001b[1;36m1.3\u001b[0m\u001b[1;33m,\u001b[0m \u001b[1;36m5\u001b[0m\u001b[1;33m)\u001b[0m\u001b[1;33m\u001b[0m\u001b[1;33m\u001b[0m\u001b[0m\n\u001b[0m\u001b[0;32m     34\u001b[0m \u001b[1;33m\u001b[0m\u001b[0m\n\u001b[0;32m     35\u001b[0m         \u001b[1;32mfor\u001b[0m \u001b[1;33m(\u001b[0m\u001b[0mx\u001b[0m\u001b[1;33m,\u001b[0m\u001b[0my\u001b[0m\u001b[1;33m,\u001b[0m\u001b[0mw\u001b[0m\u001b[1;33m,\u001b[0m\u001b[0mh\u001b[0m\u001b[1;33m)\u001b[0m \u001b[1;32min\u001b[0m \u001b[0mfaces\u001b[0m\u001b[1;33m:\u001b[0m\u001b[1;33m\u001b[0m\u001b[1;33m\u001b[0m\u001b[0m\n",
      "\u001b[1;31mKeyboardInterrupt\u001b[0m: "
     ]
    },
    {
     "ename": "",
     "evalue": "",
     "output_type": "error",
     "traceback": [
      "\u001b[1;31mThe Kernel crashed while executing code in the the current cell or a previous cell. Please review the code in the cell(s) to identify a possible cause of the failure. Click <a href='https://aka.ms/vscodeJupyterKernelCrash'>here</a> for more info. View Jupyter <a href='command:jupyter.viewOutput'>log</a> for further details."
     ]
    }
   ],
   "source": [
    "# OpenCV program to detect face in real time\n",
    "# import libraries of python OpenCV\n",
    "# where its functionality resides\n",
    "import cv2\n",
    "\n",
    "# load the required trained XML classifiers\n",
    "# https://github.com/Itseez/opencv/blob/master/\n",
    "# data/haarcascades/haarcascade_frontalface_default.xml\n",
    "# Trained XML classifiers describes some features of some\n",
    "# object we want to detect a cascade function is trained\n",
    "# from a lot of positive(faces) and negative(non-faces)\n",
    "# images.\n",
    "face_cascade = cv2.CascadeClassifier('haarcascade_frontalface_default.xml')\n",
    "\n",
    "# https://github.com/Itseez/opencv/blob/master\n",
    "# /data/haarcascades/haarcascade_eye.xml\n",
    "# Trained XML file for detecting eyes\n",
    "eye_cascade = cv2.CascadeClassifier('haarcascade_eye.xml')\n",
    "\n",
    "# capture frames from a camera\n",
    "cap = cv2.VideoCapture(0)\n",
    "\n",
    "# loop runs if capturing has been initialized.\n",
    "while 1:\n",
    "\n",
    "\t# reads frames from a camera\n",
    "\tret, img = cap.read()\n",
    "\n",
    "\t# convert to gray scale of each frames\n",
    "\tgray = cv2.cvtColor(img, cv2.COLOR_BGR2GRAY)\n",
    "\n",
    "\t# Detects faces of different sizes in the input image\n",
    "\tfaces = face_cascade.detectMultiScale(gray, 1.3, 5)\n",
    "\n",
    "\tfor (x,y,w,h) in faces:\n",
    "\t\t# To draw a rectangle in a face\n",
    "\t\tcv2.rectangle(img,(x,y),(x+w,y+h),(255,255,0),2)\n",
    "\t\troi_gray = gray[y:y+h, x:x+w]\n",
    "\t\troi_color = img[y:y+h, x:x+w]\n",
    "\n",
    "\t\t# Detects eyes of different sizes in the input image\n",
    "\t\teyes = eye_cascade.detectMultiScale(roi_gray)\n",
    "\n",
    "\t\t#To draw a rectangle in eyes\n",
    "\t\tfor (ex,ey,ew,eh) in eyes:\n",
    "\t\t\tcv2.rectangle(roi_color,(ex,ey),(ex+ew,ey+eh),(0,127,255),2)\n",
    "\n",
    "\t# Display an image in a window\n",
    "\tcv2.imshow('img',img)\n",
    "\n",
    "\t# Wait for Esc key to stop\n",
    "\tk = cv2.waitKey(30) & 0xff\n",
    "\tif k == 27:\n",
    "\t\tbreak\n",
    "\n",
    "# Close the window\n",
    "cap.release()\n",
    "\n",
    "# De-allocate any associated memory usage\n",
    "cv2.destroyAllWindows()\n",
    "[]"
   ]
  }
 ],
 "metadata": {
  "kernelspec": {
   "display_name": "base",
   "language": "python",
   "name": "python3"
  },
  "language_info": {
   "codemirror_mode": {
    "name": "ipython",
    "version": 3
   },
   "file_extension": ".py",
   "mimetype": "text/x-python",
   "name": "python",
   "nbconvert_exporter": "python",
   "pygments_lexer": "ipython3",
   "version": "3.9.13"
  },
  "orig_nbformat": 4
 },
 "nbformat": 4,
 "nbformat_minor": 2
}
